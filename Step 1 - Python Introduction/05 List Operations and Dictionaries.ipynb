{
 "cells": [
  {
   "cell_type": "markdown",
   "metadata": {},
   "source": [
    "# Python Beginner"
   ]
  },
  {
   "cell_type": "markdown",
   "metadata": {},
   "source": [
    "### List Operations"
   ]
  },
  {
   "cell_type": "markdown",
   "metadata": {},
   "source": [
    "Create an empty list and assign to weather_data."
   ]
  },
  {
   "cell_type": "code",
   "execution_count": 1,
   "metadata": {},
   "outputs": [],
   "source": [
    "weather_data = []"
   ]
  },
  {
   "cell_type": "markdown",
   "metadata": {},
   "source": [
    "Open and read in la_weather.csv."
   ]
  },
  {
   "cell_type": "code",
   "execution_count": 2,
   "metadata": {},
   "outputs": [],
   "source": [
    "f = open(\"la_weather.csv\", \"r\")\n",
    "data = f.read()"
   ]
  },
  {
   "cell_type": "markdown",
   "metadata": {},
   "source": [
    "Split the data on the newline character to convert it to a list of rows."
   ]
  },
  {
   "cell_type": "code",
   "execution_count": 3,
   "metadata": {},
   "outputs": [
    {
     "name": "stdout",
     "output_type": "stream",
     "text": [
      "['Day,Type of Weather', '1,Sunny', '2,Sunny', '3,Sunny', '4,Sunny']\n"
     ]
    }
   ],
   "source": [
    "rows = data.split(\"\\n\")\n",
    "print(rows[:5])"
   ]
  },
  {
   "cell_type": "markdown",
   "metadata": {},
   "source": [
    "Split each row on the comma and append each list to weather_data."
   ]
  },
  {
   "cell_type": "code",
   "execution_count": 5,
   "metadata": {},
   "outputs": [
    {
     "name": "stdout",
     "output_type": "stream",
     "text": [
      "[['Day', 'Type of Weather'], ['1', 'Sunny'], ['2', 'Sunny'], ['3', 'Sunny'], ['4', 'Sunny']]\n"
     ]
    }
   ],
   "source": [
    "weather_data = [row.split(\",\") for row in rows]\n",
    "\n",
    "print(weather_data[:5])"
   ]
  },
  {
   "cell_type": "markdown",
   "metadata": {},
   "source": [
    "Loop over each row in weather_data.<br>\n",
    "Append the second item in each row to the weather list.<br>\n",
    "When complete, weather should contain each value from the Type of Weather column."
   ]
  },
  {
   "cell_type": "code",
   "execution_count": 7,
   "metadata": {},
   "outputs": [
    {
     "name": "stdout",
     "output_type": "stream",
     "text": [
      "['Type of Weather', 'Sunny', 'Sunny', 'Sunny', 'Sunny']\n"
     ]
    }
   ],
   "source": [
    "weather = [row[1] for row in weather_data]\n",
    "\n",
    "print(weather[:5])"
   ]
  },
  {
   "cell_type": "markdown",
   "metadata": {},
   "source": [
    "Count the number of items in weather. You can accomplish this by:<br>\n",
    "\n",
    "> Looping over each element in weather.<br>\n",
    "Adding 1 to count for each element.<br>\n",
    "\n",
    "When finished, count should equal the number of items in weather."
   ]
  },
  {
   "cell_type": "code",
   "execution_count": 8,
   "metadata": {},
   "outputs": [
    {
     "name": "stdout",
     "output_type": "stream",
     "text": [
      "366\n",
      "366\n",
      "True\n"
     ]
    }
   ],
   "source": [
    "count = 0\n",
    "for w in weather:\n",
    "    count += 1\n",
    "    \n",
    "print(count)\n",
    "print(len(weather))\n",
    "print(count == len(weather))"
   ]
  },
  {
   "cell_type": "markdown",
   "metadata": {},
   "source": [
    "Slice the weather list to remove the header.<br>\n",
    "The slice should only remove the first element in the list.<br>\n",
    "Assign the slice to new_weather."
   ]
  },
  {
   "cell_type": "code",
   "execution_count": 11,
   "metadata": {},
   "outputs": [
    {
     "name": "stdout",
     "output_type": "stream",
     "text": [
      "['Sunny', 'Sunny', 'Sunny', 'Sunny', 'Sunny']\n"
     ]
    }
   ],
   "source": [
    "new_weather = weather[1:]\n",
    "\n",
    "print(new_weather[:5])"
   ]
  },
  {
   "cell_type": "code",
   "execution_count": 12,
   "metadata": {},
   "outputs": [],
   "source": [
    "animals = [\"cat\", \"dog\", \"rabbit\", \"horse\", \"giant_horrible_monster\"]"
   ]
  },
  {
   "cell_type": "markdown",
   "metadata": {},
   "source": [
    "Use the in statement to check whether the value cat is in the list animals, and assign the result to cat_found."
   ]
  },
  {
   "cell_type": "code",
   "execution_count": 13,
   "metadata": {},
   "outputs": [
    {
     "name": "stdout",
     "output_type": "stream",
     "text": [
      "True\n"
     ]
    }
   ],
   "source": [
    "cat_found = \"cat\" in animals\n",
    "\n",
    "print(cat_found)"
   ]
  },
  {
   "cell_type": "markdown",
   "metadata": {},
   "source": [
    "Use the in statement to check whether the value space_monster is in the list animals, and assign the result to space_monster_found."
   ]
  },
  {
   "cell_type": "code",
   "execution_count": 14,
   "metadata": {},
   "outputs": [
    {
     "name": "stdout",
     "output_type": "stream",
     "text": [
      "False\n"
     ]
    }
   ],
   "source": [
    "space_monster_found = \"space_monster\" in animals\n",
    "\n",
    "print(space_monster_found)"
   ]
  },
  {
   "cell_type": "code",
   "execution_count": 15,
   "metadata": {},
   "outputs": [],
   "source": [
    "weather_types = [\"Rain\", \"Sunny\", \"Fog\", \"Fog-Rain\", \"Thunderstorm\", \"Type of Weather\"]"
   ]
  },
  {
   "cell_type": "markdown",
   "metadata": {},
   "source": [
    "Loop through each item in the weather_types list.<br>\n",
    "Check whether the item occurs in the new_weather list.<br>\n",
    "Append the result of the check to weather_type_found.<br>\n",
    "At the end, weather_type_found should be a list of Boolean values."
   ]
  },
  {
   "cell_type": "code",
   "execution_count": 17,
   "metadata": {},
   "outputs": [
    {
     "name": "stdout",
     "output_type": "stream",
     "text": [
      "[True, True, True, True, True, False]\n"
     ]
    }
   ],
   "source": [
    "weather_type_found = []\n",
    "for item in weather_types:\n",
    "    found = item in new_weather\n",
    "    weather_type_found.append(found)\n",
    "    \n",
    "print(weather_type_found)"
   ]
  },
  {
   "cell_type": "markdown",
   "metadata": {},
   "source": [
    "### Dictionaries"
   ]
  },
  {
   "cell_type": "markdown",
   "metadata": {},
   "source": [
    "Assign the first element of weather to first_element and display it using the print() function."
   ]
  },
  {
   "cell_type": "code",
   "execution_count": 18,
   "metadata": {},
   "outputs": [
    {
     "name": "stdout",
     "output_type": "stream",
     "text": [
      "Type of Weather\n"
     ]
    }
   ],
   "source": [
    "first_element = weather[0]\n",
    "\n",
    "print(first_element)"
   ]
  },
  {
   "cell_type": "markdown",
   "metadata": {},
   "source": [
    "Assign the last element of weather to last_element and display it using the print() function."
   ]
  },
  {
   "cell_type": "code",
   "execution_count": 19,
   "metadata": {},
   "outputs": [
    {
     "name": "stdout",
     "output_type": "stream",
     "text": [
      "Fog\n"
     ]
    }
   ],
   "source": [
    "last_element = weather[-1]\n",
    "\n",
    "print(last_element)"
   ]
  },
  {
   "cell_type": "markdown",
   "metadata": {},
   "source": [
    "Assign the value 1 to the key Aquaman in a new dictionary named superhero_ranks."
   ]
  },
  {
   "cell_type": "code",
   "execution_count": 22,
   "metadata": {},
   "outputs": [
    {
     "name": "stdout",
     "output_type": "stream",
     "text": [
      "{'Aquaman': 1}\n"
     ]
    }
   ],
   "source": [
    "superhero_ranks = {}\n",
    "superhero_ranks[\"Aquaman\"] = 1\n",
    "\n",
    "print(superhero_ranks)"
   ]
  },
  {
   "cell_type": "markdown",
   "metadata": {},
   "source": [
    "Assign the value 2 to the key Superman in superhero_ranks."
   ]
  },
  {
   "cell_type": "code",
   "execution_count": 23,
   "metadata": {},
   "outputs": [
    {
     "name": "stdout",
     "output_type": "stream",
     "text": [
      "{'Aquaman': 1, 'Superman': 2}\n"
     ]
    }
   ],
   "source": [
    "superhero_ranks[\"Superman\"] = 2\n",
    "\n",
    "print(superhero_ranks)"
   ]
  },
  {
   "cell_type": "code",
   "execution_count": 24,
   "metadata": {},
   "outputs": [
    {
     "data": {
      "text/plain": [
       "{'FDR': 1, 'Lincoln': 2, 'Aquaman': 3}"
      ]
     },
     "execution_count": 24,
     "metadata": {},
     "output_type": "execute_result"
    }
   ],
   "source": [
    "president_ranks = {}\n",
    "president_ranks[\"FDR\"] = 1\n",
    "president_ranks[\"Lincoln\"] = 2\n",
    "president_ranks[\"Aquaman\"] = 3\n",
    "\n",
    "president_ranks"
   ]
  },
  {
   "cell_type": "markdown",
   "metadata": {},
   "source": [
    "Look up FDR in president_ranks and assign the result to a new variable fdr_rank."
   ]
  },
  {
   "cell_type": "code",
   "execution_count": 25,
   "metadata": {},
   "outputs": [
    {
     "data": {
      "text/plain": [
       "1"
      ]
     },
     "execution_count": 25,
     "metadata": {},
     "output_type": "execute_result"
    }
   ],
   "source": [
    "fdr_rank = president_ranks[\"FDR\"]\n",
    "\n",
    "fdr_rank"
   ]
  },
  {
   "cell_type": "markdown",
   "metadata": {},
   "source": [
    "Look up Lincoln in president_ranks and assign the result to a new variable lincoln_rank."
   ]
  },
  {
   "cell_type": "code",
   "execution_count": 26,
   "metadata": {},
   "outputs": [
    {
     "data": {
      "text/plain": [
       "2"
      ]
     },
     "execution_count": 26,
     "metadata": {},
     "output_type": "execute_result"
    }
   ],
   "source": [
    "lincoln_rank = president_ranks[\"Lincoln\"]\n",
    "\n",
    "lincoln_rank"
   ]
  },
  {
   "cell_type": "markdown",
   "metadata": {},
   "source": [
    "Look up Aquaman in president_ranks and assign the result to a new variable aquaman_rank."
   ]
  },
  {
   "cell_type": "code",
   "execution_count": 27,
   "metadata": {},
   "outputs": [
    {
     "data": {
      "text/plain": [
       "3"
      ]
     },
     "execution_count": 27,
     "metadata": {},
     "output_type": "execute_result"
    }
   ],
   "source": [
    "aquaman_rank = president_ranks[\"Aquaman\"]\n",
    "\n",
    "aquaman_rank"
   ]
  },
  {
   "cell_type": "markdown",
   "metadata": {},
   "source": [
    "Create a dictionary named animals with the following keys and values:<br>\n",
    "\n",
    ">The key 7 corresponding to the value raven.<br>\n",
    "The key 8 corresponding to the value goose.<br>\n",
    "The key 9 corresponding to the value duck."
   ]
  },
  {
   "cell_type": "code",
   "execution_count": 28,
   "metadata": {},
   "outputs": [
    {
     "data": {
      "text/plain": [
       "{7: 'raven', 8: 'goose', 9: 'duck'}"
      ]
     },
     "execution_count": 28,
     "metadata": {},
     "output_type": "execute_result"
    }
   ],
   "source": [
    "animals = {7: \"raven\", 8: \"goose\", 9: \"duck\"}\n",
    "\n",
    "animals"
   ]
  },
  {
   "cell_type": "markdown",
   "metadata": {},
   "source": [
    "Create a dictionary named times with the following keys and values:<br>\n",
    "\n",
    ">The key morning corresponding to the value 9.<br>\n",
    "The key afternoon corresponding to the value 14.<br>\n",
    "The key evening corresponding to the value 19.<br>\n",
    "The key night corresponding to the value 23."
   ]
  },
  {
   "cell_type": "code",
   "execution_count": 29,
   "metadata": {},
   "outputs": [
    {
     "data": {
      "text/plain": [
       "{'morning': 9, 'afternoon': 14, 'evening': 19, 'night': 23}"
      ]
     },
     "execution_count": 29,
     "metadata": {},
     "output_type": "execute_result"
    }
   ],
   "source": [
    "times = {\"morning\": 9, \"afternoon\": 14, \"evening\": 19, \"night\": 23}\n",
    "\n",
    "times"
   ]
  },
  {
   "cell_type": "code",
   "execution_count": 30,
   "metadata": {},
   "outputs": [
    {
     "data": {
      "text/plain": [
       "{'Tom': 60, 'Jim': 70}"
      ]
     },
     "execution_count": 30,
     "metadata": {},
     "output_type": "execute_result"
    }
   ],
   "source": [
    "students = {\n",
    "    \"Tom\": 60,\n",
    "    \"Jim\": 70\n",
    "}\n",
    "\n",
    "students"
   ]
  },
  {
   "cell_type": "markdown",
   "metadata": {},
   "source": [
    "Add the key Ann and value 85 to the dictionary students."
   ]
  },
  {
   "cell_type": "code",
   "execution_count": 31,
   "metadata": {},
   "outputs": [
    {
     "data": {
      "text/plain": [
       "{'Tom': 60, 'Jim': 70, 'Ann': 85}"
      ]
     },
     "execution_count": 31,
     "metadata": {},
     "output_type": "execute_result"
    }
   ],
   "source": [
    "students[\"Ann\"] = 85\n",
    "\n",
    "students"
   ]
  },
  {
   "cell_type": "markdown",
   "metadata": {},
   "source": [
    "Replace the value for the key Tom with 80."
   ]
  },
  {
   "cell_type": "code",
   "execution_count": 32,
   "metadata": {},
   "outputs": [
    {
     "data": {
      "text/plain": [
       "{'Tom': 80, 'Jim': 70, 'Ann': 85}"
      ]
     },
     "execution_count": 32,
     "metadata": {},
     "output_type": "execute_result"
    }
   ],
   "source": [
    "students[\"Tom\"] = 80\n",
    "\n",
    "students"
   ]
  },
  {
   "cell_type": "markdown",
   "metadata": {},
   "source": [
    "Add 5 to the value for the key Jim."
   ]
  },
  {
   "cell_type": "code",
   "execution_count": 33,
   "metadata": {},
   "outputs": [
    {
     "data": {
      "text/plain": [
       "{'Tom': 80, 'Jim': 75, 'Ann': 85}"
      ]
     },
     "execution_count": 33,
     "metadata": {},
     "output_type": "execute_result"
    }
   ],
   "source": [
    "students[\"Jim\"] += 5\n",
    "\n",
    "students"
   ]
  },
  {
   "cell_type": "code",
   "execution_count": 34,
   "metadata": {},
   "outputs": [],
   "source": [
    "planet_numbers = {\"mercury\": 1, \"venus\": 2, \"earth\": 3, \"mars\": 4}"
   ]
  },
  {
   "cell_type": "markdown",
   "metadata": {},
   "source": [
    "Check whether jupiter is a key in planet_numbers, and assign the resulting Boolean value to jupiter_found."
   ]
  },
  {
   "cell_type": "code",
   "execution_count": 35,
   "metadata": {},
   "outputs": [
    {
     "data": {
      "text/plain": [
       "False"
      ]
     },
     "execution_count": 35,
     "metadata": {},
     "output_type": "execute_result"
    }
   ],
   "source": [
    "jupiter_found = \"jupiter\" in planet_numbers\n",
    "\n",
    "jupiter_found"
   ]
  },
  {
   "cell_type": "markdown",
   "metadata": {},
   "source": [
    "Check whether earth is a key in planet_numbers, and assign the resulting Boolean value to earth_found."
   ]
  },
  {
   "cell_type": "code",
   "execution_count": 36,
   "metadata": {},
   "outputs": [
    {
     "data": {
      "text/plain": [
       "True"
      ]
     },
     "execution_count": 36,
     "metadata": {},
     "output_type": "execute_result"
    }
   ],
   "source": [
    "earth_found = \"earth\" in planet_numbers\n",
    "\n",
    "earth_found"
   ]
  },
  {
   "cell_type": "code",
   "execution_count": 37,
   "metadata": {},
   "outputs": [],
   "source": [
    "planet_names = [\"Mercury\", \"Venus\", \"Earth\", \"Mars\", \"Jupiter\", \"Saturn\", \"Neptune\", \"Uranus\"]"
   ]
  },
  {
   "cell_type": "markdown",
   "metadata": {},
   "source": [
    "Append any names in planet_names that are longer than 5 characters to long_names. Otherwise, append the names to short_names. To accomplish this:<br>\n",
    "\n",
    "- Loop through each item in planet_names.<br>\n",
    "- Use the len() function to find the length of the item.<br>\n",
    "- If the length is greater than 5, append the item to long_names.<br>\n",
    "- Otherwise, append it to short_names.<br>\n",
    "- When complete, short_names should contain any planet names less than 6 characters long, and long_names should contain any planet names 6 characters or longer."
   ]
  },
  {
   "cell_type": "code",
   "execution_count": 38,
   "metadata": {},
   "outputs": [
    {
     "name": "stdout",
     "output_type": "stream",
     "text": [
      "['Mercury', 'Jupiter', 'Saturn', 'Neptune', 'Uranus']\n",
      "['Venus', 'Earth', 'Mars']\n"
     ]
    }
   ],
   "source": [
    "long_names = []\n",
    "short_names = []\n",
    "for name in planet_names:\n",
    "    if len(name) > 5:\n",
    "        long_names.append(name)\n",
    "    else:\n",
    "        short_names.append(name)\n",
    "        \n",
    "print(long_names)\n",
    "print(short_names)"
   ]
  },
  {
   "cell_type": "code",
   "execution_count": 39,
   "metadata": {},
   "outputs": [],
   "source": [
    "pantry = [\"apple\", \"orange\", \"grape\", \"apple\", \"orange\", \"apple\", \"tomato\", \"potato\", \"grape\"]"
   ]
  },
  {
   "cell_type": "markdown",
   "metadata": {},
   "source": [
    "Count the number of times that each element occurs in the list named pantry that appears in the code block below. You'll need to:<br>\n",
    "\n",
    "- Create an empty dictionary named pantry_counts.\n",
    "- Loop through each item in pantry.\n",
    "- If the item appears in pantry_counts, add 1 to the value in pantry_counts for the item's key.\n",
    "- Otherwise, add the item to pantry_counts as a key, with the value 1.\n",
    "- When finished, each item in pantry will have its own key in pantry_counts, and its value will be the number of times the item appears in pantry."
   ]
  },
  {
   "cell_type": "code",
   "execution_count": 41,
   "metadata": {},
   "outputs": [
    {
     "data": {
      "text/plain": [
       "{'apple': 3, 'orange': 2, 'grape': 2, 'tomato': 1, 'potato': 1}"
      ]
     },
     "execution_count": 41,
     "metadata": {},
     "output_type": "execute_result"
    }
   ],
   "source": [
    "pantry_counts = {}\n",
    "for item in pantry:\n",
    "    if item in pantry_counts:\n",
    "        pantry_counts[item] += 1\n",
    "    else:\n",
    "        pantry_counts[item] = 1\n",
    "        \n",
    "pantry_counts"
   ]
  },
  {
   "cell_type": "markdown",
   "metadata": {},
   "source": [
    "- Count how many times each type of weather occurs in the weather list, and store the results in a new dictionary called weather_counts.\n",
    "- When finished, weather_counts should contain a key for each different type of weather in the weather list, along with its associated frequency."
   ]
  },
  {
   "cell_type": "code",
   "execution_count": 42,
   "metadata": {},
   "outputs": [
    {
     "data": {
      "text/plain": [
       "{'Type of Weather': 1,\n",
       " 'Sunny': 210,\n",
       " 'Rain': 25,\n",
       " 'Fog': 125,\n",
       " 'Fog-Rain': 4,\n",
       " 'Thunderstorm': 1}"
      ]
     },
     "execution_count": 42,
     "metadata": {},
     "output_type": "execute_result"
    }
   ],
   "source": [
    "weather_counts = {}\n",
    "for w in weather:\n",
    "    if w in weather_counts:\n",
    "        weather_counts[w] += 1\n",
    "    else:\n",
    "        weather_counts[w] = 1\n",
    "        \n",
    "weather_counts"
   ]
  }
 ],
 "metadata": {
  "kernelspec": {
   "display_name": "Python 3",
   "language": "python",
   "name": "python3"
  },
  "language_info": {
   "codemirror_mode": {
    "name": "ipython",
    "version": 3
   },
   "file_extension": ".py",
   "mimetype": "text/x-python",
   "name": "python",
   "nbconvert_exporter": "python",
   "pygments_lexer": "ipython3",
   "version": "3.6.5"
  }
 },
 "nbformat": 4,
 "nbformat_minor": 2
}
