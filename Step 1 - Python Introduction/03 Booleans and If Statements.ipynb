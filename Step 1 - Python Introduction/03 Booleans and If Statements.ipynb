{
 "cells": [
  {
   "cell_type": "markdown",
   "metadata": {},
   "source": [
    "# Python Beginner"
   ]
  },
  {
   "cell_type": "markdown",
   "metadata": {},
   "source": [
    "### Booleans and If Statements"
   ]
  },
  {
   "cell_type": "markdown",
   "metadata": {},
   "source": [
    "Assign the value True to the variable cat, and the value False to the variable dog."
   ]
  },
  {
   "cell_type": "code",
   "execution_count": 1,
   "metadata": {},
   "outputs": [],
   "source": [
    "cat = True\n",
    "dog = False"
   ]
  },
  {
   "cell_type": "markdown",
   "metadata": {},
   "source": [
    "Then, use the print() function and the type() function to display the type for cat."
   ]
  },
  {
   "cell_type": "code",
   "execution_count": 2,
   "metadata": {},
   "outputs": [
    {
     "name": "stdout",
     "output_type": "stream",
     "text": [
      "<class 'bool'>\n"
     ]
    }
   ],
   "source": [
    "print(type(cat))"
   ]
  },
  {
   "cell_type": "markdown",
   "metadata": {},
   "source": [
    "The variable cities is a list of strings containing the city names from the crime rate dataset we used in the previous mission. We've created the list for you already."
   ]
  },
  {
   "cell_type": "code",
   "execution_count": 3,
   "metadata": {},
   "outputs": [],
   "source": [
    "cities = [\"Albuquerque\", \"Anaheim\", \"Anchorage\", \"Arlington\", \"Atlanta\"]"
   ]
  },
  {
   "cell_type": "markdown",
   "metadata": {},
   "source": [
    "Use the Boolean operators to determine if the following pairs of values are equivalent:<br>\n",
    "The first element in cities and the string \"Albuquerque\". Assign the resulting Boolean value to first_alb.<br>\n",
    "The second element in cities and the string \"Albuquerque\". Assign the resulting Boolean value to second_alb.<br>\n",
    "The first element in cities and the last element in cities. Assign the resulting Boolean value to first_last."
   ]
  },
  {
   "cell_type": "code",
   "execution_count": 9,
   "metadata": {},
   "outputs": [
    {
     "name": "stdout",
     "output_type": "stream",
     "text": [
      "True\n",
      "False\n",
      "False\n"
     ]
    }
   ],
   "source": [
    "first_alb = (cities[0] == \"Albuquerque\")\n",
    "second_alb = (cities[1] == \"Albuquerque\")\n",
    "first_last = (cities[0] == cities[-1])\n",
    "\n",
    "print(first_alb)\n",
    "print(second_alb)\n",
    "print(first_last)"
   ]
  },
  {
   "cell_type": "markdown",
   "metadata": {},
   "source": [
    "The variable crime_rates is a list of integers containing the crime rates from the dataset."
   ]
  },
  {
   "cell_type": "code",
   "execution_count": 6,
   "metadata": {},
   "outputs": [],
   "source": [
    "crime_rates = [749, 371, 828, 503, 1379]"
   ]
  },
  {
   "cell_type": "markdown",
   "metadata": {},
   "source": [
    "Perform the following comparisons:<br>\n",
    "Evaluate whether the first element in crime_rates is larger than the integer 500, and assign the Boolean result to first_500.<br>\n",
    "Evaluate whether the first element in crime_rates is larger than or equal to 749, and assign the Boolean result to first_749.<br>\n",
    "Evaluate whether the first element in crime_rates is greater than or equal to the last element in crime_rates, and assign the Boolean result to first_last."
   ]
  },
  {
   "cell_type": "code",
   "execution_count": 10,
   "metadata": {},
   "outputs": [
    {
     "name": "stdout",
     "output_type": "stream",
     "text": [
      "True\n",
      "True\n",
      "False\n"
     ]
    }
   ],
   "source": [
    "first_500 = crime_rates[0] > 500\n",
    "first_749 = crime_rates[0] >= 749\n",
    "first_last = crime_rates[0] >= crime_rates[-1]\n",
    "\n",
    "print(first_500)\n",
    "print(first_749)\n",
    "print(first_last)"
   ]
  },
  {
   "cell_type": "markdown",
   "metadata": {},
   "source": [
    "Perform the following comparisons:<br>\n",
    "Determine whether the second element in crime_rates is smaller than the integer 500, and assign the Boolean result to second_500.<br>\n",
    "Determine whether the second element in crime_rates is smaller than or equal to 371, and assign the Boolean result to second_371.<br>\n",
    "Determine whether the second element in crime_rates is smaller than or equal to the last element in crime_rates, and assign the Boolean result to second_last."
   ]
  },
  {
   "cell_type": "code",
   "execution_count": 11,
   "metadata": {},
   "outputs": [
    {
     "name": "stdout",
     "output_type": "stream",
     "text": [
      "True\n",
      "True\n",
      "True\n"
     ]
    }
   ],
   "source": [
    "second_500 = crime_rates[1] < 500\n",
    "second_371 = crime_rates[1] <= 371\n",
    "second_last = crime_rates[1] <= crime_rates[-1]\n",
    "\n",
    "print(second_500)\n",
    "print(second_371)\n",
    "print(second_last)"
   ]
  },
  {
   "cell_type": "markdown",
   "metadata": {},
   "source": [
    "Determine whether the third element in cities is equivalent to the string \"Anchorage\".\n",
    "If it is, change the variable result to 1."
   ]
  },
  {
   "cell_type": "code",
   "execution_count": 12,
   "metadata": {},
   "outputs": [
    {
     "name": "stdout",
     "output_type": "stream",
     "text": [
      "1\n"
     ]
    }
   ],
   "source": [
    "result = 0\n",
    "if cities[2] == \"Anchorage\":\n",
    "    result = 1\n",
    "    \n",
    "print(result)"
   ]
  },
  {
   "cell_type": "markdown",
   "metadata": {},
   "source": [
    "Write a piece of code that nests the following concepts in the order in which they appear:<br>\n",
    "An if statement that tests whether the first element in crime_rates is larger than 500<br>\n",
    "A second if statement that tests whether the second element in crime_rates is larger than 300<br>\n",
    "If both statements evaluate to True, assign the value True to the variable both_conditions"
   ]
  },
  {
   "cell_type": "code",
   "execution_count": 13,
   "metadata": {},
   "outputs": [
    {
     "name": "stdout",
     "output_type": "stream",
     "text": [
      "True\n"
     ]
    }
   ],
   "source": [
    "both_conditions = False\n",
    "if crime_rates[0] > 500:\n",
    "    if crime_rates[1] > 300:\n",
    "        both_conditions = True\n",
    "        \n",
    "print(both_conditions)"
   ]
  },
  {
   "cell_type": "markdown",
   "metadata": {},
   "source": [
    "Create a new list, five_hundred_list, that contains only the elements from crime_rates that are greater than 500. To accomplish this, you'll need a for loop and an if statement:<br>\n",
    "The for loop specifies which list we want to iterate over and the name of the iterator variable (we use cr in our answer).<br>\n",
    "The if statement determines whether the current element (cr) is larger than 500.<br>\n",
    "If the current element (cr) is larger than 500, use the append() method to add it to five_hundred_list."
   ]
  },
  {
   "cell_type": "code",
   "execution_count": 14,
   "metadata": {},
   "outputs": [
    {
     "name": "stdout",
     "output_type": "stream",
     "text": [
      "[749, 828, 503, 1379]\n"
     ]
    }
   ],
   "source": [
    "five_hundred_list = []\n",
    "for cr in crime_rates:\n",
    "    if cr > 500:\n",
    "        five_hundred_list.append(cr)\n",
    "        \n",
    "print(five_hundred_list)"
   ]
  },
  {
   "cell_type": "markdown",
   "metadata": {},
   "source": [
    "Find the largest integer in crime_rates using the strategy we just outlined, and assign that value to the variable highest."
   ]
  },
  {
   "cell_type": "code",
   "execution_count": 15,
   "metadata": {},
   "outputs": [
    {
     "name": "stdout",
     "output_type": "stream",
     "text": [
      "1379\n"
     ]
    }
   ],
   "source": [
    "highest = crime_rates[0]\n",
    "for cr in crime_rates:\n",
    "    if cr > highest:\n",
    "        highest = cr\n",
    "        \n",
    "print(highest)"
   ]
  }
 ],
 "metadata": {
  "kernelspec": {
   "display_name": "Python 3",
   "language": "python",
   "name": "python3"
  },
  "language_info": {
   "codemirror_mode": {
    "name": "ipython",
    "version": 3
   },
   "file_extension": ".py",
   "mimetype": "text/x-python",
   "name": "python",
   "nbconvert_exporter": "python",
   "pygments_lexer": "ipython3",
   "version": "3.6.5"
  }
 },
 "nbformat": 4,
 "nbformat_minor": 2
}
