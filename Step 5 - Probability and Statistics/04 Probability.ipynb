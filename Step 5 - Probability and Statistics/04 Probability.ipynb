{
 "cells": [
  {
   "cell_type": "markdown",
   "metadata": {},
   "source": [
    "## Probability"
   ]
  },
  {
   "cell_type": "markdown",
   "metadata": {},
   "source": [
    "- Let's say we have a coin that we're flipping. Find the probability that at least one of the first three flips comes up heads. Assign the result to heads_or."
   ]
  },
  {
   "cell_type": "code",
   "execution_count": 1,
   "metadata": {},
   "outputs": [
    {
     "data": {
      "text/plain": [
       "0.875"
      ]
     },
     "execution_count": 1,
     "metadata": {},
     "output_type": "execute_result"
    }
   ],
   "source": [
    "all_three_tails = (1/2 * 1/2 * 1/2)\n",
    "heads_or = 1 - all_three_tails\n",
    "\n",
    "heads_or"
   ]
  },
  {
   "cell_type": "code",
   "execution_count": 2,
   "metadata": {},
   "outputs": [],
   "source": [
    "import pandas as pd\n",
    "\n",
    "flags = pd.read_csv('flags.csv')"
   ]
  },
  {
   "cell_type": "markdown",
   "metadata": {},
   "source": [
    "- Find the country with the most bars in its flag. Assign the name of the country to most_bars_country.\n",
    "- Find the country with the highest population (as of 1986). Assign the name of the country to highest_population_country."
   ]
  },
  {
   "cell_type": "code",
   "execution_count": 3,
   "metadata": {},
   "outputs": [],
   "source": [
    "bars_sorted = flags.sort_values(\"bars\", ascending=[0])\n",
    "most_bars_country = bars_sorted[\"name\"].iloc[0]\n",
    "\n",
    "population_sorted = flags.sort_values(\"population\", ascending=[0])\n",
    "highest_population_country = population_sorted[\"name\"].iloc[0]"
   ]
  },
  {
   "cell_type": "code",
   "execution_count": 4,
   "metadata": {},
   "outputs": [
    {
     "data": {
      "text/plain": [
       "'St-Vincent'"
      ]
     },
     "execution_count": 4,
     "metadata": {},
     "output_type": "execute_result"
    }
   ],
   "source": [
    "most_bars_country"
   ]
  },
  {
   "cell_type": "code",
   "execution_count": 5,
   "metadata": {},
   "outputs": [
    {
     "data": {
      "text/plain": [
       "'China'"
      ]
     },
     "execution_count": 5,
     "metadata": {},
     "output_type": "execute_result"
    }
   ],
   "source": [
    "highest_population_country"
   ]
  },
  {
   "cell_type": "markdown",
   "metadata": {},
   "source": [
    "- Determine the probability of a country having a flag with the color orange in it. Assign the result to orange_probability.\n",
    "- Determine the probability of a country having a flag with more than 1 stripe in it. Assign the result to stripe_probability."
   ]
  },
  {
   "cell_type": "code",
   "execution_count": 7,
   "metadata": {},
   "outputs": [],
   "source": [
    "total_countries = flags.shape[0]\n",
    "\n",
    "orange_probability = flags[flags[\"orange\"] == 1].shape[0] / total_countries\n",
    "\n",
    "stripe_probability = flags[flags[\"stripes\"] > 1].shape[0] / total_countries"
   ]
  },
  {
   "cell_type": "code",
   "execution_count": 8,
   "metadata": {},
   "outputs": [
    {
     "data": {
      "text/plain": [
       "0.13402061855670103"
      ]
     },
     "execution_count": 8,
     "metadata": {},
     "output_type": "execute_result"
    }
   ],
   "source": [
    "orange_probability"
   ]
  },
  {
   "cell_type": "code",
   "execution_count": 9,
   "metadata": {},
   "outputs": [
    {
     "data": {
      "text/plain": [
       "0.41237113402061853"
      ]
     },
     "execution_count": 9,
     "metadata": {},
     "output_type": "execute_result"
    }
   ],
   "source": [
    "stripe_probability"
   ]
  },
  {
   "cell_type": "markdown",
   "metadata": {},
   "source": [
    "- Find the probability that 10 flips in a row will all turn out heads. Assign the probability to ten_heads.\n",
    "- Find the probability that 100 flips in a row will all turn out heads. Assign the probability to hundred_heads."
   ]
  },
  {
   "cell_type": "code",
   "execution_count": 10,
   "metadata": {},
   "outputs": [],
   "source": [
    "ten_heads = .5**10\n",
    "hundred_heads = .5**100"
   ]
  },
  {
   "cell_type": "code",
   "execution_count": 11,
   "metadata": {},
   "outputs": [
    {
     "data": {
      "text/plain": [
       "0.0009765625"
      ]
     },
     "execution_count": 11,
     "metadata": {},
     "output_type": "execute_result"
    }
   ],
   "source": [
    "ten_heads"
   ]
  },
  {
   "cell_type": "code",
   "execution_count": 12,
   "metadata": {},
   "outputs": [
    {
     "data": {
      "text/plain": [
       "7.888609052210118e-31"
      ]
     },
     "execution_count": 12,
     "metadata": {},
     "output_type": "execute_result"
    }
   ],
   "source": [
    "hundred_heads"
   ]
  },
  {
   "cell_type": "markdown",
   "metadata": {},
   "source": [
    "- Let's say that we're picking countries from our dataset, and removing each one that we pick.\n",
    "- What are the odds of picking three countries with red in their flags in a row? Assign the resulting probability to three_red."
   ]
  },
  {
   "cell_type": "code",
   "execution_count": 13,
   "metadata": {},
   "outputs": [],
   "source": [
    "total_count = flags.shape[0]\n",
    "red_count = flags[flags[\"red\"] == 1].shape[0]\n",
    "\n",
    "one_red = (red_count / total_count) \n",
    "two_red = one_red * ((red_count - 1) / (total_count - 1))\n",
    "three_red = two_red * ((red_count - 2) / (total_count - 2))"
   ]
  },
  {
   "cell_type": "code",
   "execution_count": 14,
   "metadata": {},
   "outputs": [
    {
     "data": {
      "text/plain": [
       "0.788659793814433"
      ]
     },
     "execution_count": 14,
     "metadata": {},
     "output_type": "execute_result"
    }
   ],
   "source": [
    "one_red"
   ]
  },
  {
   "cell_type": "code",
   "execution_count": 15,
   "metadata": {},
   "outputs": [
    {
     "data": {
      "text/plain": [
       "0.621120666631056"
      ]
     },
     "execution_count": 15,
     "metadata": {},
     "output_type": "execute_result"
    }
   ],
   "source": [
    "two_red"
   ]
  },
  {
   "cell_type": "code",
   "execution_count": 16,
   "metadata": {},
   "outputs": [
    {
     "data": {
      "text/plain": [
       "0.4884855242775493"
      ]
     },
     "execution_count": 16,
     "metadata": {},
     "output_type": "execute_result"
    }
   ],
   "source": [
    "three_red"
   ]
  },
  {
   "cell_type": "markdown",
   "metadata": {},
   "source": [
    "- Let's say we have a random number generator that generates numbers from 1 to 18000.\n",
    "- What are the odds of getting a number evenly divisible by 100, with no remainder? (ie 100, 200, 300, etc). Assign the result to hundred_prob.\n",
    "- What are the odds of getting a number evenly divisible by 70, with no remainder? (ie 70, 140, 210, etc). Assign the result to seventy_prob."
   ]
  },
  {
   "cell_type": "code",
   "execution_count": 17,
   "metadata": {},
   "outputs": [],
   "source": [
    "start = 1\n",
    "end = 18000\n",
    "\n",
    "def count_evenly_divisible(start, end, div):\n",
    "    divisible = 0\n",
    "    for i in range(start, end+1):\n",
    "        if (i % div) == 0:\n",
    "            divisible += 1\n",
    "    return divisible\n",
    "\n",
    "hundred_prob = count_evenly_divisible(start, end, 100) / end\n",
    "seventy_prob = count_evenly_divisible(start, end, 70) / end"
   ]
  },
  {
   "cell_type": "code",
   "execution_count": 18,
   "metadata": {},
   "outputs": [
    {
     "data": {
      "text/plain": [
       "0.01"
      ]
     },
     "execution_count": 18,
     "metadata": {},
     "output_type": "execute_result"
    }
   ],
   "source": [
    "hundred_prob"
   ]
  },
  {
   "cell_type": "code",
   "execution_count": 19,
   "metadata": {},
   "outputs": [
    {
     "data": {
      "text/plain": [
       "0.014277777777777778"
      ]
     },
     "execution_count": 19,
     "metadata": {},
     "output_type": "execute_result"
    }
   ],
   "source": [
    "seventy_prob"
   ]
  },
  {
   "cell_type": "markdown",
   "metadata": {},
   "source": [
    "- Find the probability of a flag having red or orange as a color. Assign the result to red_or_orange.\n",
    "- Find the probability of a flag having at least one stripes or at least one bars. Assign the result to stripes_or_bars."
   ]
  },
  {
   "cell_type": "code",
   "execution_count": 20,
   "metadata": {},
   "outputs": [],
   "source": [
    "red = flags[flags[\"red\"] == 1].shape[0] / flags.shape[0]\n",
    "orange = flags[flags[\"orange\"] == 1].shape[0] / flags.shape[0]\n",
    "red_and_orange = flags[(flags[\"red\"] == 1) & (flags[\"orange\"] == 1)].shape[0] / flags.shape[0]\n",
    "\n",
    "red_or_orange = red + orange - red_and_orange\n",
    "\n",
    "stripes = flags[flags[\"stripes\"] > 0].shape[0] / flags.shape[0]\n",
    "bars = flags[flags[\"bars\"] > 0].shape[0] / flags.shape[0]\n",
    "stripes_and_bars = flags[(flags[\"stripes\"] > 0) & (flags[\"bars\"] > 0)].shape[0] / flags.shape[0]\n",
    "\n",
    "stripes_or_bars = stripes + bars - stripes_and_bars"
   ]
  },
  {
   "cell_type": "code",
   "execution_count": 21,
   "metadata": {},
   "outputs": [
    {
     "data": {
      "text/plain": [
       "0.8247422680412371"
      ]
     },
     "execution_count": 21,
     "metadata": {},
     "output_type": "execute_result"
    }
   ],
   "source": [
    "red_or_orange"
   ]
  },
  {
   "cell_type": "code",
   "execution_count": 23,
   "metadata": {},
   "outputs": [
    {
     "data": {
      "text/plain": [
       "0.5927835051546392"
      ]
     },
     "execution_count": 23,
     "metadata": {},
     "output_type": "execute_result"
    }
   ],
   "source": [
    "stripes_or_bars"
   ]
  },
  {
   "cell_type": "code",
   "execution_count": 24,
   "metadata": {},
   "outputs": [],
   "source": [
    "bikes = pd.read_csv(\"bike_rental_day.csv\")"
   ]
  },
  {
   "cell_type": "markdown",
   "metadata": {},
   "source": [
    "- Find the probability that more than 4000 bikes were rented on any given day.\n",
    "    - Assign the result to probability_over_4000."
   ]
  },
  {
   "cell_type": "code",
   "execution_count": 25,
   "metadata": {},
   "outputs": [
    {
     "data": {
      "text/plain": [
       "0.6183310533515732"
      ]
     },
     "execution_count": 25,
     "metadata": {},
     "output_type": "execute_result"
    }
   ],
   "source": [
    "days_over_threshold = bikes[bikes[\"cnt\"] > 4000].shape[0]\n",
    "\n",
    "total_days = bikes.shape[0]\n",
    "\n",
    "probability_over_4000 = days_over_threshold / total_days\n",
    "probability_over_4000"
   ]
  },
  {
   "cell_type": "markdown",
   "metadata": {},
   "source": [
    "- Find the probability that 1 coin out of 3 is heads.\n",
    "    - Assign the result to coin_1_prob."
   ]
  },
  {
   "cell_type": "code",
   "execution_count": 26,
   "metadata": {},
   "outputs": [
    {
     "data": {
      "text/plain": [
       "0.375"
      ]
     },
     "execution_count": 26,
     "metadata": {},
     "output_type": "execute_result"
    }
   ],
   "source": [
    "combination_prob = .5**3\n",
    "coin_1_prob = 3*combination_prob\n",
    "\n",
    "coin_1_prob"
   ]
  },
  {
   "cell_type": "markdown",
   "metadata": {},
   "source": [
    "- Find the number of combinations in which 1 day will be sunny.\n",
    "    - Assign the result to sunny_1_combinations."
   ]
  },
  {
   "cell_type": "code",
   "execution_count": 27,
   "metadata": {},
   "outputs": [],
   "source": [
    "# SNNNN\n",
    "# NSNNN\n",
    "# NNSNN\n",
    "# NNNSN\n",
    "# NNNNS\n",
    "\n",
    "sunny_1_combinations = 5"
   ]
  },
  {
   "cell_type": "markdown",
   "metadata": {},
   "source": [
    "- Find the number of combinations where 8 days out of 10 have more than 4000 rentals. Assign the result to combinations_8.\n",
    "- Find the number of combinations where 9 days out of 10 have more than 4000 rentals. Assign the result to combinations_9."
   ]
  },
  {
   "cell_type": "code",
   "execution_count": 28,
   "metadata": {},
   "outputs": [],
   "source": [
    "import math\n",
    "def find_outcome_combinations(N, k):\n",
    "    numerator = math.factorial(N)\n",
    "    denominator = math.factorial(k) * math.factorial(N - k)\n",
    "    return numerator / denominator\n",
    "\n",
    "combinations_8 = find_outcome_combinations(10, 8)\n",
    "combinations_9 = find_outcome_combinations(10, 9)"
   ]
  },
  {
   "cell_type": "code",
   "execution_count": 29,
   "metadata": {},
   "outputs": [
    {
     "data": {
      "text/plain": [
       "45.0"
      ]
     },
     "execution_count": 29,
     "metadata": {},
     "output_type": "execute_result"
    }
   ],
   "source": [
    "combinations_8"
   ]
  },
  {
   "cell_type": "code",
   "execution_count": 30,
   "metadata": {},
   "outputs": [
    {
     "data": {
      "text/plain": [
       "10.0"
      ]
     },
     "execution_count": 30,
     "metadata": {},
     "output_type": "execute_result"
    }
   ],
   "source": [
    "combinations_9"
   ]
  },
  {
   "cell_type": "markdown",
   "metadata": {},
   "source": [
    "- Find the probability of a single combination for finding 3 days out of 5 are sunny.\n",
    "    - The combination is Sunny, Sunny, Sunny, Not Sunny, Not Sunny.\n",
    "    - Assign the result to prob_combination_3."
   ]
  },
  {
   "cell_type": "code",
   "execution_count": 31,
   "metadata": {},
   "outputs": [
    {
     "data": {
      "text/plain": [
       "0.03086999999999999"
      ]
     },
     "execution_count": 31,
     "metadata": {},
     "output_type": "execute_result"
    }
   ],
   "source": [
    "prob_combination_3p  = (.7**3)*(.3**2)\n",
    "\n",
    "prob_combination_3p"
   ]
  },
  {
   "cell_type": "markdown",
   "metadata": {},
   "source": [
    "- Write a function to find the probability of a single combination occurring.\n",
    "- Use the function to calculate the probability of 8 days out of 10 having more than 4000 riders.\n",
    "    - Assign the result to prob_8.\n",
    "- Use the function to calculate the probability of 9 days out of 10 having more than 4000 riders.\n",
    "    - Assign the result to prob_9.\n",
    "- Use the function to calculate the probability of 10 days out of 10 having more than 4000 riders.\n",
    "    - Assign the result to prob_10."
   ]
  },
  {
   "cell_type": "code",
   "execution_count": 32,
   "metadata": {},
   "outputs": [],
   "source": [
    "p = .6\n",
    "q = .4\n",
    "\n",
    "def find_combination_probability(N, k, p, q):\n",
    "    term_1 = p ** k\n",
    "    term_2 = q ** (N-k)\n",
    "    return term_1 * term_2\n",
    "\n",
    "prob_8 = find_outcome_combinations(10, 8) * find_combination_probability(10, 8, p, q)\n",
    "prob_9 = find_outcome_combinations(10, 9) * find_combination_probability(10, 9, p, q)\n",
    "prob_10 = find_outcome_combinations(10, 10) * find_combination_probability(10, 10, p, q)"
   ]
  },
  {
   "cell_type": "code",
   "execution_count": 33,
   "metadata": {},
   "outputs": [
    {
     "data": {
      "text/plain": [
       "0.12093235199999997"
      ]
     },
     "execution_count": 33,
     "metadata": {},
     "output_type": "execute_result"
    }
   ],
   "source": [
    "prob_8"
   ]
  },
  {
   "cell_type": "code",
   "execution_count": 34,
   "metadata": {},
   "outputs": [
    {
     "data": {
      "text/plain": [
       "0.04031078399999999"
      ]
     },
     "execution_count": 34,
     "metadata": {},
     "output_type": "execute_result"
    }
   ],
   "source": [
    "prob_9"
   ]
  },
  {
   "cell_type": "code",
   "execution_count": 35,
   "metadata": {},
   "outputs": [
    {
     "data": {
      "text/plain": [
       "0.006046617599999997"
      ]
     },
     "execution_count": 35,
     "metadata": {},
     "output_type": "execute_result"
    }
   ],
   "source": [
    "prob_10"
   ]
  },
  {
   "cell_type": "markdown",
   "metadata": {},
   "source": [
    "## Probability Distributions"
   ]
  },
  {
   "cell_type": "markdown",
   "metadata": {},
   "source": [
    "- Find the probability of there being more than 5000 riders in a single day (using the cnt column).\n",
    "    - Assign the result to prob_over_5000."
   ]
  },
  {
   "cell_type": "code",
   "execution_count": 36,
   "metadata": {},
   "outputs": [
    {
     "data": {
      "text/plain": [
       "0.3912448700410397"
      ]
     },
     "execution_count": 36,
     "metadata": {},
     "output_type": "execute_result"
    }
   ],
   "source": [
    "prob_over_5000 = bikes[bikes.cnt > 5000].shape[0] / bikes.shape[0]\n",
    "\n",
    "prob_over_5000"
   ]
  },
  {
   "cell_type": "markdown",
   "metadata": {},
   "source": [
    "- Using the knowledge from the last mission, create a function that can compute the probability of k outcomes out of N events occurring.\n",
    "- Use the function to find the probability of each number of outcomes in outcome_counts occurring.\n",
    "    - An outcome is a day where there are more than 5000 riders, with $p = .39$.\n",
    "    - You should have a list with 31 items, where the first item is the probability of 0 days out of 30 with more than 5000 riders, the second is the probability of 1 day out of 30, and so on, up to 30 days out of 30.\n",
    "    - Assign the list to outcome_probs."
   ]
  },
  {
   "cell_type": "code",
   "execution_count": 37,
   "metadata": {},
   "outputs": [
    {
     "data": {
      "text/plain": [
       "[3.6299032553937196e-07,\n",
       " 6.962273457066644e-06,\n",
       " 6.454369901592111e-05,\n",
       " 0.0003851460072425456,\n",
       " 0.0016621260066655757,\n",
       " 0.0055258877729799805,\n",
       " 0.014720602673922079,\n",
       " 0.03226811265290648,\n",
       " 0.0593124939542154,\n",
       " 0.09269602880276286,\n",
       " 0.12445581572043082,\n",
       " 0.1446729303456573,\n",
       " 0.14645169588269408,\n",
       " 0.12964576356828655,\n",
       " 0.10065004829715923,\n",
       " 0.06864003293707908,\n",
       " 0.04114182302068777,\n",
       " 0.021661943461230015,\n",
       " 0.010002372800404023,\n",
       " 0.004038921890068234,\n",
       " 0.0014202438449502238,\n",
       " 0.00043239273968039596,\n",
       " 0.00011309228884338226,\n",
       " 2.5149532515420715e-05,\n",
       " 4.6897693829985355e-06,\n",
       " 7.196105151617426e-07,\n",
       " 8.847670268382081e-08,\n",
       " 8.380306993731663e-09,\n",
       " 5.740608420764663e-10,\n",
       " 2.5311896937232547e-11,\n",
       " 5.394338691541363e-13]"
      ]
     },
     "execution_count": 37,
     "metadata": {},
     "output_type": "execute_result"
    }
   ],
   "source": [
    "import math\n",
    "\n",
    "outcome_counts = list(range(31))\n",
    "def find_probability(N, k, p, q):\n",
    "    term_1 = p ** k\n",
    "    term_2 = q ** (N-k)\n",
    "    combo_prob = term_1 * term_2\n",
    "    numerator = math.factorial(N)\n",
    "    denominator = math.factorial(k) * math.factorial(N - k)\n",
    "    combo_count = numerator / denominator\n",
    "    return combo_prob * combo_count\n",
    "\n",
    "outcome_probs = [find_probability(30, i, .39, .61) for i in outcome_counts]\n",
    "\n",
    "outcome_probs"
   ]
  },
  {
   "cell_type": "code",
   "execution_count": 38,
   "metadata": {},
   "outputs": [
    {
     "data": {
      "image/png": "[encoded data removed]",
      "text/plain": [
       "<Figure size 432x288 with 1 Axes>"
      ]
     },
     "metadata": {},
     "output_type": "display_data"
    }
   ],
   "source": [
    "import matplotlib.pyplot as plt\n",
    "%matplotlib inline\n",
    "\n",
    "plt.bar(outcome_counts, outcome_probs)\n",
    "plt.show();"
   ]
  },
  {
   "cell_type": "markdown",
   "metadata": {},
   "source": [
    "- Generate a binomial distribution, and then find the probabilities for each value in outcome_counts.\n",
    "    - Use N=30, and p=.39, as we're doing this for the bikesharing data.\n",
    "- Plot the resulting data as a bar chart."
   ]
  },
  {
   "cell_type": "code",
   "execution_count": 39,
   "metadata": {},
   "outputs": [
    {
     "data": {
      "image/png": "[encoded data removed]",
      "text/plain": [
       "<Figure size 432x288 with 1 Axes>"
      ]
     },
     "metadata": {},
     "output_type": "display_data"
    }
   ],
   "source": [
    "import scipy\n",
    "from scipy import linspace\n",
    "from scipy.stats import binom\n",
    "\n",
    "outcome_counts = linspace(0,30,31)\n",
    "distribution = binom.pmf(outcome_counts,30,0.39)\n",
    "\n",
    "plt.bar(outcome_counts, distribution)\n",
    "plt.show();"
   ]
  },
  {
   "cell_type": "markdown",
   "metadata": {},
   "source": [
    "- Compute the mean for the bikesharing data, where $N = 30$, and $p = .39$.\n",
    "    - Assign the result to dist_mean."
   ]
  },
  {
   "cell_type": "code",
   "execution_count": 40,
   "metadata": {},
   "outputs": [
    {
     "data": {
      "text/plain": [
       "11.700000000000001"
      ]
     },
     "execution_count": 40,
     "metadata": {},
     "output_type": "execute_result"
    }
   ],
   "source": [
    "dist_mean = 30*.39\n",
    "\n",
    "dist_mean"
   ]
  },
  {
   "cell_type": "markdown",
   "metadata": {},
   "source": [
    "- Compute the standard deviation for the bikesharing data, where $N = 30$, and $p = .39$.\n",
    "    - Assign the result to dist_stdev."
   ]
  },
  {
   "cell_type": "code",
   "execution_count": 41,
   "metadata": {},
   "outputs": [
    {
     "data": {
      "text/plain": [
       "2.671516423307182"
      ]
     },
     "execution_count": 41,
     "metadata": {},
     "output_type": "execute_result"
    }
   ],
   "source": [
    "dist_stdev = math.sqrt(30*.39*(1-.39))\n",
    "\n",
    "dist_stdev"
   ]
  },
  {
   "cell_type": "markdown",
   "metadata": {},
   "source": [
    "- Generate a binomial distribution, with N=10, and p=.39.\n",
    "    - Find the probabilities for each value in outcome_counts.\n",
    "    - Plot the resulting data as a bar chart.\n",
    "- Generate a binomial distribution, with N=100, and p=.39.\n",
    "    - Find the probabilities for each value in outcome_counts.\n",
    "    - Plot the resulting data as a bar chart."
   ]
  },
  {
   "cell_type": "code",
   "execution_count": 42,
   "metadata": {},
   "outputs": [
    {
     "data": {
      "image/png": "[encoded data removed]",
      "text/plain": [
       "<Figure size 432x288 with 1 Axes>"
      ]
     },
     "metadata": {},
     "output_type": "display_data"
    },
    {
     "data": {
      "image/png": "[encoded data removed]",
      "text/plain": [
       "<Figure size 432x288 with 1 Axes>"
      ]
     },
     "metadata": {},
     "output_type": "display_data"
    }
   ],
   "source": [
    "outcome_counts = linspace(0,10,11)\n",
    "outcome_probs = binom.pmf(outcome_counts,10,0.39)\n",
    "plt.bar(outcome_counts, outcome_probs)\n",
    "plt.show()\n",
    "\n",
    "outcome_counts = linspace(0,100,101)\n",
    "outcome_probs = binom.pmf(outcome_counts,100,0.39)\n",
    "plt.bar(outcome_counts, outcome_probs)\n",
    "plt.show()"
   ]
  },
  {
   "cell_type": "code",
   "execution_count": 43,
   "metadata": {},
   "outputs": [
    {
     "data": {
      "image/png": "[encoded data removed]",
      "text/plain": [
       "<Figure size 432x288 with 1 Axes>"
      ]
     },
     "metadata": {},
     "output_type": "display_data"
    }
   ],
   "source": [
    "outcome_counts = scipy.linspace(0,100,101)\n",
    "outcome_probs = binom.pmf(outcome_counts,100,0.39)\n",
    "\n",
    "plt.plot(outcome_counts, outcome_probs)\n",
    "plt.show();"
   ]
  },
  {
   "cell_type": "markdown",
   "metadata": {},
   "source": [
    "- Create a cumulative distribution where $N = 30$ and $p = .39$ and generate a line plot of the distribution."
   ]
  },
  {
   "cell_type": "code",
   "execution_count": 44,
   "metadata": {},
   "outputs": [
    {
     "data": {
      "image/png": "[encoded data removed]",
      "text/plain": [
       "<Figure size 432x288 with 1 Axes>"
      ]
     },
     "metadata": {},
     "output_type": "display_data"
    }
   ],
   "source": [
    "outcome_counts = linspace(0,30,31)\n",
    "outcome_probs = binom.cdf(outcome_counts,30,0.39)\n",
    "plt.plot(outcome_counts, outcome_probs)\n",
    "plt.show();"
   ]
  },
  {
   "cell_type": "markdown",
   "metadata": {},
   "source": [
    "- Find the probability to the left of $k = 16$ (including 16) when $N = 30$ and $p = .39$.\n",
    "    - Assign the result to left_16.\n",
    "- Find the probability to the right of $k = 16$ when $N = 30$ and $p = .39$.\n",
    "    - Assign the result to right_16."
   ]
  },
  {
   "cell_type": "code",
   "execution_count": 45,
   "metadata": {},
   "outputs": [],
   "source": [
    "left_16 = binom.cdf(16,30,0.39)\n",
    "right_16 = 1 - left_16"
   ]
  },
  {
   "cell_type": "code",
   "execution_count": 46,
   "metadata": {},
   "outputs": [
    {
     "data": {
      "text/plain": [
       "0.9623003766054883"
      ]
     },
     "execution_count": 46,
     "metadata": {},
     "output_type": "execute_result"
    }
   ],
   "source": [
    "left_16"
   ]
  },
  {
   "cell_type": "code",
   "execution_count": 47,
   "metadata": {},
   "outputs": [
    {
     "data": {
      "text/plain": [
       "0.037699623394511717"
      ]
     },
     "execution_count": 47,
     "metadata": {},
     "output_type": "execute_result"
    }
   ],
   "source": [
    "right_16"
   ]
  },
  {
   "cell_type": "code",
   "execution_count": 56,
   "metadata": {},
   "outputs": [],
   "source": [
    "weight = pd.read_csv('weight_loss.csv', names=['A', 'B'])\n",
    "\n",
    "weight_lost_a = weight['A']\n",
    "weight_lost_b = weight['B']"
   ]
  },
  {
   "cell_type": "markdown",
   "metadata": {},
   "source": [
    "- Use the NumPy function mean() to calculate:\n",
    "    - The mean of the weight lost by participants in group A. Assign to mean_group_a and display it using the print() function.\n",
    "    - The mean of the weight lost by participants in group B. Assign to mean_group_b and display it using the print() function.\n",
    "- Use the Matplotlib function hist() to plot histograms for both weight_lost_a and weight_lost_b."
   ]
  },
  {
   "cell_type": "code",
   "execution_count": 57,
   "metadata": {},
   "outputs": [
    {
     "data": {
      "image/png": "[encoded data removed]",
      "text/plain": [
       "<Figure size 432x288 with 1 Axes>"
      ]
     },
     "metadata": {},
     "output_type": "display_data"
    },
    {
     "data": {
      "image/png": "[encoded data removed]",
      "text/plain": [
       "<Figure size 432x288 with 1 Axes>"
      ]
     },
     "metadata": {},
     "output_type": "display_data"
    }
   ],
   "source": [
    "import numpy as np\n",
    "\n",
    "mean_group_a = np.mean(weight_lost_a)\n",
    "mean_group_b = np.mean(weight_lost_b)\n",
    "\n",
    "plt.hist(weight_lost_a)\n",
    "plt.show()\n",
    "\n",
    "plt.hist(weight_lost_b)\n",
    "plt.show()"
   ]
  },
  {
   "cell_type": "markdown",
   "metadata": {},
   "source": [
    "- Calculate the observed test statistic by subtracting mean_group_a from mean_group_b and assign to mean_difference.\n",
    "- Display mean_difference using the print() function."
   ]
  },
  {
   "cell_type": "code",
   "execution_count": 58,
   "metadata": {},
   "outputs": [
    {
     "data": {
      "text/plain": [
       "2.52"
      ]
     },
     "execution_count": 58,
     "metadata": {},
     "output_type": "execute_result"
    }
   ],
   "source": [
    "mean_difference = mean_group_b - mean_group_a\n",
    "mean_difference"
   ]
  },
  {
   "cell_type": "code",
   "execution_count": 64,
   "metadata": {},
   "outputs": [],
   "source": [
    "all_values = list(weight_lost_a.values) + list(weight_lost_b.values)"
   ]
  },
  {
   "cell_type": "markdown",
   "metadata": {},
   "source": [
    "- Create an empty list named mean_differences.\n",
    "- Inside a for loop that repeats 1000 times:\n",
    "    - Assign empty lists to the variables group_a and group_b.\n",
    "    - Inside a for loop that iterates over all_values:\n",
    "        - Use the numpy.random.rand() function to generate a value between 0 and 1.\n",
    "        - If the random value is larger than or equal to 0.5, assign that weight loss value to group A by using the append() method to append it to group_a.\n",
    "        - If the random value is less than 0.5, assign that weight loss value to group B by using the append() method to append it to group_b.\n",
    "    - Outside the for loop that iterates over all_values:\n",
    "        - Use the numpy.mean() function to calculate the means of group_a and group_b.\n",
    "        - Subtract the mean of group A from group B and assign the result to iteration_mean_difference.\n",
    "        - Append iteration_mean_difference to mean_differences using the append() method.\n",
    "- Use plt.hist() to generate a histogram of mean_differences."
   ]
  },
  {
   "cell_type": "code",
   "execution_count": 65,
   "metadata": {},
   "outputs": [
    {
     "data": {
      "image/png": "[encoded data removed]",
      "text/plain": [
       "<Figure size 432x288 with 1 Axes>"
      ]
     },
     "metadata": {},
     "output_type": "display_data"
    }
   ],
   "source": [
    "mean_differences = []\n",
    "for i in range(1000):\n",
    "    group_a = []\n",
    "    group_b = []\n",
    "    for value in all_values:\n",
    "        assignment_chance = np.random.rand()\n",
    "        if assignment_chance >= 0.5:\n",
    "            group_a.append(value)\n",
    "        else:\n",
    "            group_b.append(value)\n",
    "    iteration_mean_difference = np.mean(group_b) - np.mean(group_a)\n",
    "    mean_differences.append(iteration_mean_difference)\n",
    "\n",
    "plt.hist(mean_differences)\n",
    "plt.show();"
   ]
  },
  {
   "cell_type": "markdown",
   "metadata": {},
   "source": [
    "- Create an empty dictionary called sampling_distribution whose keys will be the test statistics and whose values are the frequencies of the test statistics.\n",
    "    - Inside a for loop that iterates over mean_differences, check if each value exists as a key in sampling_distribution:\n",
    "        - Use the dictionary method get() with a default condition of False to check if the current iteration's value is already in sampling_distribution.\n",
    "            - If it is, increment the existing value in sampling_distribution for that key by 1.\n",
    "            - If it isn't, add it to sampling_distribution as a key and assign 1 as the value."
   ]
  },
  {
   "cell_type": "code",
   "execution_count": 66,
   "metadata": {},
   "outputs": [
    {
     "data": {
      "text/plain": [
       "{-1.0753205128205123: 2,\n",
       " 0.07371794871794801: 4,\n",
       " 0.581818181818182: 1,\n",
       " -0.026272577996715896: 1,\n",
       " -0.6749999999999998: 2,\n",
       " 0.036814725890355504: 2,\n",
       " 0.4913689281413083: 1,\n",
       " 0.5073891625615765: 1,\n",
       " -0.6972624798711755: 1,\n",
       " 0.5898989898989901: 2,\n",
       " -0.9199999999999999: 2,\n",
       " 0.3797979797979796: 1,\n",
       " -0.6746794871794877: 1,\n",
       " 0.3709353673223603: 3,\n",
       " -0.4433773509403758: 4,\n",
       " 0.5494949494949495: 1,\n",
       " -0.3200000000000003: 3,\n",
       " -0.30213464696223324: 1,\n",
       " 0.8242424242424242: 2,\n",
       " -0.15094339622641506: 3,\n",
       " -0.7170868347338937: 1,\n",
       " 0.43697478991596617: 2,\n",
       " 0.6626262626262629: 1,\n",
       " -0.13365539452496034: 1,\n",
       " -0.22626262626262594: 4,\n",
       " 0.47699079631852737: 1,\n",
       " -0.7200000000000002: 2,\n",
       " -0.711755233494364: 1,\n",
       " 0.5144230769230766: 4,\n",
       " -0.5010101010101007: 1,\n",
       " 0.012882447665056418: 4,\n",
       " 1.1199999999999997: 1,\n",
       " 1.1636654661864743: 1,\n",
       " 0.5544871794871793: 1,\n",
       " 0.09955120359037117: 1,\n",
       " -0.2505018065034119: 3,\n",
       " -0.2799999999999998: 3,\n",
       " 0.36334533813525427: 2,\n",
       " 0.11079887595343241: 5,\n",
       " 0.3441558441558441: 2,\n",
       " 0.1968787515006003: 1,\n",
       " -0.4913689281413083: 3,\n",
       " -0.18115055079559372: 1,\n",
       " -0.2103572862304297: 1,\n",
       " 0.2585858585858585: 2,\n",
       " -0.0242424242424244: 3,\n",
       " -0.3969587835134054: 3,\n",
       " -0.38636363636363624: 1,\n",
       " 0.13737373737373737: 2,\n",
       " 0.0676328502415453: 4,\n",
       " 0.18181818181818166: 3,\n",
       " -0.2400000000000002: 4,\n",
       " -0.0305098354074671: 6,\n",
       " -0.061688311688310904: 2,\n",
       " -0.14814814814814792: 2,\n",
       " -0.040000000000000036: 3,\n",
       " 0.2610837438423643: 2,\n",
       " -0.45122440786832607: 3,\n",
       " -0.39181051786431187: 3,\n",
       " -0.5124439004487962: 3,\n",
       " 0.0032012805122052512: 4,\n",
       " -0.2627498980008163: 2,\n",
       " 0.026272577996715896: 2,\n",
       " -0.7572419420644634: 1,\n",
       " -0.4202020202020198: 2,\n",
       " 0.3070707070707068: 2,\n",
       " -0.7143447705663495: 1,\n",
       " 0.19999999999999973: 3,\n",
       " 0.22402597402597424: 2,\n",
       " -0.22866344605475053: 4,\n",
       " -0.4070512820512824: 4,\n",
       " -0.3752012882447664: 1,\n",
       " 0.6400000000000006: 2,\n",
       " 0.1904761904761907: 1,\n",
       " -0.8747450020399832: 1,\n",
       " -0.3709353673223603: 3,\n",
       " 0.11684673869547879: 4,\n",
       " 0.38335435056746503: 1,\n",
       " -0.7599999999999998: 2,\n",
       " -0.28685897435897445: 5,\n",
       " 0.049779205138499094: 3,\n",
       " 0.1006493506493511: 1,\n",
       " -0.08911307271963054: 2,\n",
       " -0.9171668667466988: 1,\n",
       " 0.8152128978916906: 1,\n",
       " 0.3752012882447664: 2,\n",
       " 1.1474747474747478: 1,\n",
       " -0.13333333333333375: 1,\n",
       " -0.4227504244482172: 1,\n",
       " -0.571657968687274: 2,\n",
       " 0.436781609195402: 1,\n",
       " 0.4686868686868686: 2,\n",
       " -0.11684673869547879: 2,\n",
       " 0.3200000000000003: 3,\n",
       " -0.4299516908212557: 2,\n",
       " 0.6570048309178746: 2,\n",
       " 0.39423076923076916: 4,\n",
       " 0.3569427771108442: 2,\n",
       " -0.27691076430572226: 3,\n",
       " -0.5892857142857144: 1,\n",
       " -0.1200000000000001: 3,\n",
       " 0.014778325123153024: 1,\n",
       " 0.1538461538461542: 4,\n",
       " 0.9599999999999995: 1,\n",
       " -0.17391304347826075: 3,\n",
       " 0.17391304347826075: 2,\n",
       " 0.18115055079559372: 2,\n",
       " 0.23397435897435903: 4,\n",
       " -0.04321728691476601: 3,\n",
       " 0.23152709359605916: 2,\n",
       " -0.2585858585858585: 2,\n",
       " 0.2740384615384617: 5,\n",
       " -0.0676328502415453: 1,\n",
       " 0.6519470092332398: 1,\n",
       " 0.46674826601387176: 1,\n",
       " -0.31692677070828346: 1,\n",
       " -0.3569427771108442: 2,\n",
       " -0.16666666666666696: 1,\n",
       " 0.6756425948592413: 2,\n",
       " 0.12105926860025296: 1,\n",
       " 0.474358974358974: 3,\n",
       " 0.3896940418679553: 2,\n",
       " 0.1300682456844635: 5,\n",
       " -0.1454545454545455: 3,\n",
       " -0.12660256410256387: 3,\n",
       " 0.1200000000000001: 4,\n",
       " 0.12660256410256387: 3,\n",
       " -0.6383701188455007: 1,\n",
       " 0.15094339622641506: 3,\n",
       " -0.027375201288244888: 3,\n",
       " -0.19999999999999973: 3,\n",
       " -0.3269230769230771: 2,\n",
       " 0.7110389610389616: 1,\n",
       " 0.16000000000000014: 2,\n",
       " -0.5090909090909097: 3,\n",
       " 0.3091787439613527: 1,\n",
       " -0.4431583298883841: 1,\n",
       " -0.3599999999999999: 2,\n",
       " -0.6707070707070706: 2,\n",
       " 0.0790248003362759: 1,\n",
       " 0.5081168831168834: 3,\n",
       " 1.041050903119869: 1,\n",
       " 0.00833333333333286: 2,\n",
       " 1.002039983680131: 1,\n",
       " 0.4110798875953434: 4,\n",
       " -0.29898989898989914: 1,\n",
       " 0.39181051786431187: 3,\n",
       " 0.0969696969696976: 2,\n",
       " -0.1403508771929829: 1,\n",
       " 0.30519480519480524: 1,\n",
       " -0.2141706924315625: 1,\n",
       " 0.26666666666666705: 1,\n",
       " -0.3233293317326935: 3,\n",
       " -1.3587662337662336: 1,\n",
       " -0.6519470092332398: 2,\n",
       " 0.43999999999999995: 3,\n",
       " 0.33939393939393936: 2,\n",
       " 0.18585858585858617: 5,\n",
       " -0.07065435568044975: 3,\n",
       " -0.03365384615384581: 3,\n",
       " -0.10444716442268476: 2,\n",
       " 0.2629870129870131: 1,\n",
       " -0.016161616161616266: 2,\n",
       " 0.33494363929146553: 1,\n",
       " -0.5188834154351398: 2,\n",
       " 0.38474025974026027: 4,\n",
       " -0.2312324367723808: 5,\n",
       " 0.3233293317326935: 3,\n",
       " -0.5523885989562429: 2,\n",
       " -0.33079084704937767: 3,\n",
       " 0.5876623376623376: 1,\n",
       " 0.5130845130845132: 1,\n",
       " 0.832528180354267: 1,\n",
       " -0.5094577553593949: 1,\n",
       " 0.22684618523051858: 1,\n",
       " -0.17021276595744705: 4,\n",
       " 0.2833133253301314: 2,\n",
       " 0.8076923076923075: 1,\n",
       " -1.1738257727820152: 1,\n",
       " -0.47699079631852737: 1,\n",
       " -0.3250000000000002: 1,\n",
       " -0.4269480519480524: 1,\n",
       " 0.6383701188455007: 1,\n",
       " -1.1959595959595961: 2,\n",
       " -0.1078904991948475: 2,\n",
       " 0.7548076923076925: 1,\n",
       " 0.4070512820512824: 2,\n",
       " 0.6498553121124435: 1,\n",
       " 0.5534804753820031: 1,\n",
       " -0.6073717948717947: 1,\n",
       " 0.15686274509803955: 2,\n",
       " -0.18840579710144967: 1,\n",
       " 0.25442834138486337: 1,\n",
       " -0.5144230769230766: 1,\n",
       " 0.04321728691476601: 3,\n",
       " -0.7932557205941388: 2,\n",
       " 0.07110376188507672: 1,\n",
       " -0.3412563667232602: 1,\n",
       " -0.41545893719806726: 1,\n",
       " -0.5234093637454982: 1,\n",
       " 0.6834733893557425: 1,\n",
       " -0.21818181818181825: 1,\n",
       " -0.4686868686868686: 6,\n",
       " -0.2368947579031615: 6,\n",
       " 0.1454545454545455: 3,\n",
       " -0.1968787515006003: 1,\n",
       " -0.2629870129870131: 2,\n",
       " -0.22003284072249585: 1,\n",
       " 0.1232492997198884: 2,\n",
       " 0.13333333333333375: 2,\n",
       " -0.43999999999999995: 2,\n",
       " 0.47209955841027673: 3,\n",
       " 0.5925331192292247: 3,\n",
       " -0.0969696969696976: 1,\n",
       " 0.8733766233766236: 2,\n",
       " -0.4471153846153846: 3,\n",
       " 0.4916666666666667: 2,\n",
       " 0.22866344605475053: 1,\n",
       " 0.18840579710144967: 1,\n",
       " 0.7571028411364549: 1,\n",
       " 0.7241379310344827: 1,\n",
       " -0.0064102564102563875: 3,\n",
       " -0.33939393939393936: 1,\n",
       " -0.11079887595343241: 4,\n",
       " -0.33494363929146553: 3,\n",
       " -0.16000000000000014: 4,\n",
       " 0.45122440786832607: 4,\n",
       " -0.052914427449358925: 1,\n",
       " 0.1537825547747005: 2,\n",
       " -0.3035495716034271: 2,\n",
       " 0.3541666666666665: 5,\n",
       " 0.06464646464646506: 1,\n",
       " 0.5570228091236489: 2,\n",
       " -0.17777777777777803: 3,\n",
       " 0.7723805700521882: 1,\n",
       " 0.08323329331732676: 3,\n",
       " -0.581818181818182: 1,\n",
       " 0.08000000000000007: 4,\n",
       " 0.5673076923076925: 2,\n",
       " 0.3669871794871793: 5,\n",
       " -0.3141025641025643: 1,\n",
       " -1.02190988011575: 1,\n",
       " -0.38362959900785487: 1,\n",
       " -0.22240259740259694: 3,\n",
       " 0.14285714285714324: 3,\n",
       " 0.41545893719806726: 1,\n",
       " 0.27257799671592764: 2,\n",
       " 0.33123160992013423: 2,\n",
       " 0.22240259740259694: 3,\n",
       " -0.40000000000000036: 4,\n",
       " 0.044616044616044626: 2,\n",
       " 0.3009508061182311: 3,\n",
       " 0.7515151515151515: 1,\n",
       " 0.38787878787878816: 3,\n",
       " -0.9935587761674718: 1,\n",
       " -0.6626262626262629: 2,\n",
       " 0.06364749082007393: 1,\n",
       " -0.012882447665056418: 2,\n",
       " -0.474358974358974: 1,\n",
       " 0.016161616161616266: 3,\n",
       " -0.046474358974359475: 5,\n",
       " 0.05875152998776034: 1,\n",
       " 0.9551282051282048: 1,\n",
       " 0.28685897435897445: 1,\n",
       " -0.14123376623376593: 3,\n",
       " -0.22684618523051858: 3,\n",
       " 0.13365539452496034: 1,\n",
       " 0.027375201288244888: 1,\n",
       " 0.6034413765506201: 1,\n",
       " -0.576489533011272: 3,\n",
       " 0.046474358974359475: 1,\n",
       " -0.1355932203389827: 3,\n",
       " -0.4342948717948718: 4,\n",
       " -0.15686274509803955: 2,\n",
       " -0.4716442268461849: 1,\n",
       " 1.0341228422320357: 1,\n",
       " -0.6000000000000001: 1,\n",
       " 0.2400000000000002: 3,\n",
       " -0.34201388888888884: 1,\n",
       " -0.46060606060606046: 1,\n",
       " -0.5170068027210881: 2,\n",
       " -0.049779205138499094: 1,\n",
       " -0.11378205128205199: 3,\n",
       " 1.3171717171717172: 1,\n",
       " 0.7919191919191921: 1,\n",
       " -0.19108791649939816: 4,\n",
       " 0.7147435897435899: 1,\n",
       " -0.7583333333333337: 1,\n",
       " -0.4319550381372941: 3,\n",
       " -0.6704545454545454: 3,\n",
       " 0.33079084704937767: 3,\n",
       " -0.2139219015280136: 1,\n",
       " 0.2799999999999998: 2,\n",
       " -0.39004487964096235: 2,\n",
       " -0.22402597402597424: 2,\n",
       " 0.17021276595744705: 3,\n",
       " -0.342290202563043: 1,\n",
       " 0.52: 2,\n",
       " 0.2141706924315625: 3,\n",
       " -0.20328131252500992: 2,\n",
       " -0.6434573829531809: 3,\n",
       " -0.3541666666666665: 1,\n",
       " -0.4702093397745575: 1,\n",
       " -0.9500000000000002: 1,\n",
       " 1.1642036124794743: 1,\n",
       " 0.0305098354074671: 2,\n",
       " 0.7275641025641022: 2,\n",
       " -0.3851489188086492: 1,\n",
       " -0.46753246753246724: 1,\n",
       " 0.4308445532435736: 1,\n",
       " -0.43697478991596617: 2,\n",
       " -0.49936948297604067: 1,\n",
       " 0.4702093397745575: 1,\n",
       " 0.3851489188086492: 2,\n",
       " -0.26666666666666705: 4,\n",
       " -0.17881944444444464: 1,\n",
       " -0.053140096618357724: 1,\n",
       " -1.3989813242784384: 1,\n",
       " 0.1078904991948475: 3,\n",
       " 0.5600000000000005: 2,\n",
       " -0.5876623376623376: 1,\n",
       " -0.271376957045363: 1,\n",
       " -0.6167471819645729: 1,\n",
       " -0.2740384615384617: 1,\n",
       " -0.9971988795518203: 1,\n",
       " 0.46590909090909083: 1,\n",
       " 0.16666666666666696: 3,\n",
       " -0.08323329331732676: 2,\n",
       " -0.3070707070707068: 1,\n",
       " 0.8799999999999994: 1,\n",
       " -0.8477564102564101: 1,\n",
       " 0.8985507246376812: 1,\n",
       " 0.7599999999999998: 1,\n",
       " -0.4663382594417076: 2,\n",
       " 0.2946859903381638: 1,\n",
       " 0.634615384615385: 2,\n",
       " -0.7515151515151515: 2,\n",
       " 0.3604795369987599: 2,\n",
       " 0.19108791649939816: 1,\n",
       " -0.3669871794871793: 4,\n",
       " -0.6834733893557425: 1,\n",
       " 0.11378205128205199: 2,\n",
       " -0.009634684865515553: 1,\n",
       " -0.5122440786832598: 2,\n",
       " -0.7115463076295394: 2,\n",
       " 0.6688311688311686: 1,\n",
       " 0.5470779220779223: 1,\n",
       " -0.7147435897435899: 1,\n",
       " 0.4202020202020198: 2,\n",
       " 0.16326530612244916: 2,\n",
       " 0.02110389610389607: 2,\n",
       " -0.6166666666666667: 1,\n",
       " 0.20328131252500992: 3,\n",
       " -0.5507246376811592: 1,\n",
       " -0.6298701298701297: 1,\n",
       " 0.34318555008210216: 1,\n",
       " 0.09339774557165814: 2,\n",
       " 0.03365384615384581: 2,\n",
       " -0.5333333333333337: 1,\n",
       " -0.3474747474747475: 1,\n",
       " -0.1300682456844635: 1,\n",
       " -0.10227272727272751: 3,\n",
       " -0.5898989898989901: 2,\n",
       " 0.8768472906403937: 1,\n",
       " 0.022847817217462207: 2,\n",
       " 0.875: 1,\n",
       " 0.30844553243574024: 2,\n",
       " -0.17500000000000027: 1,\n",
       " -0.8768472906403937: 1,\n",
       " 0.7200000000000002: 1,\n",
       " -0.9533011272141705: 1,\n",
       " -0.29064632677639546: 3,\n",
       " -0.6282467532467533: 2,\n",
       " -0.7922077922077926: 1,\n",
       " 0.342290202563043: 1,\n",
       " -0.08000000000000007: 1,\n",
       " 0.6746794871794877: 2,\n",
       " 0.26764585883312986: 1,\n",
       " 0.5634253701480594: 2,\n",
       " -0.36334533813525427: 1,\n",
       " 0.35166599759132877: 2,\n",
       " -0.5272435897435899: 1,\n",
       " -0.6303030303030299: 1,\n",
       " 0.576489533011272: 1,\n",
       " 0.3115214773183461: 2,\n",
       " 0.31692677070828346: 3,\n",
       " -0.7723805700521882: 2,\n",
       " -0.23397435897435903: 1,\n",
       " -0.7531112003211557: 1,\n",
       " -0.8835534213685476: 1,\n",
       " -0.14285714285714324: 1,\n",
       " -0.3492452060383515: 1,\n",
       " -0.2596114096734192: 2,\n",
       " -0.6474358974358978: 1,\n",
       " -0.6920915295062224: 2,\n",
       " 0.07500000000000018: 1,\n",
       " 1.5616883116883113: 1,\n",
       " -0.3457792207792205: 1,\n",
       " -0.7971188475390156: 1,\n",
       " -0.3091787439613527: 2,\n",
       " -0.2833133253301314: 2,\n",
       " -0.9563443492452057: 1,\n",
       " 0.2646103896103895: 2,\n",
       " -0.6756425948592413: 1,\n",
       " -0.7232597623089978: 1,\n",
       " 0.5234093637454982: 1,\n",
       " -0.5894909688013135: 1,\n",
       " 0.5124439004487962: 1,\n",
       " -0.9388083735909825: 1,\n",
       " -0.1538461538461542: 3,\n",
       " 0.061688311688310904: 1,\n",
       " 0.0: 6,\n",
       " 0.7322360497792046: 1,\n",
       " 0.06732348111658393: 1,\n",
       " -0.1232492997198884: 4,\n",
       " 0.1860465116279073: 3,\n",
       " -0.2051282051282053: 1,\n",
       " -0.42532467532467555: 1,\n",
       " -0.07371794871794801: 1,\n",
       " -0.4736164736164734: 1,\n",
       " -0.9204406364749085: 1,\n",
       " -0.3896940418679553: 1,\n",
       " -0.07110376188507672: 1,\n",
       " 0.5090909090909097: 1,\n",
       " -0.09688013136288998: 1,\n",
       " 0.3035495716034271: 1,\n",
       " -0.52: 3,\n",
       " 0.26892109500805095: 1,\n",
       " 0.4319550381372941: 1,\n",
       " 0.053140096618357724: 3,\n",
       " 0.07683073229291715: 4,\n",
       " 0.17777777777777803: 1,\n",
       " -0.06364749082007393: 1,\n",
       " 0.20673076923076916: 2,\n",
       " -0.35166599759132877: 3,\n",
       " -0.5499999999999998: 1,\n",
       " -0.6009852216748772: 1,\n",
       " -0.2646103896103895: 2,\n",
       " -0.06006493506493449: 3,\n",
       " -0.8474264705882355: 1,\n",
       " -0.9679487179487176: 1,\n",
       " -0.5970388155262101: 1,\n",
       " 0.7936107608238752: 1,\n",
       " 0.07065435568044975: 1,\n",
       " -0.0032012805122052512: 2,\n",
       " -0.455716586151369: 2,\n",
       " 1.180354267310789: 1,\n",
       " 0.08653846153846168: 4,\n",
       " -0.02110389610389607: 2,\n",
       " 0.4471153846153846: 2,\n",
       " -0.08653846153846168: 2,\n",
       " 0.0916666666666659: 1,\n",
       " -0.9551282051282048: 1,\n",
       " -0.30519480519480524: 1,\n",
       " 0.06006493506493449: 1,\n",
       " 0.590982286634461: 2,\n",
       " 0.05656565656565604: 1,\n",
       " -0.1860465116279073: 1,\n",
       " 0.5075479396164826: 1,\n",
       " 0.7232597623089978: 1,\n",
       " 0.3035714285714284: 1,\n",
       " 0.29898989898989914: 1,\n",
       " 0.2985842985842986: 2,\n",
       " 0.19391025641025683: 2,\n",
       " 0.2139219015280136: 1,\n",
       " 0.3599999999999999: 1,\n",
       " -0.18181818181818166: 1,\n",
       " -0.1006493506493511: 1,\n",
       " 0.9454545454545449: 1,\n",
       " -0.7676282051282053: 1,\n",
       " 0.3269230769230771: 3,\n",
       " -0.5315134484142918: 2,\n",
       " 0.49597423510466987: 1,\n",
       " -0.11666666666666714: 1,\n",
       " -0.42594859241126093: 1,\n",
       " -1.1151515151515152: 1,\n",
       " -0.13737373737373737: 1,\n",
       " 0.24679487179487136: 2,\n",
       " 0.8383629599007851: 1,\n",
       " -0.6728221597751909: 2,\n",
       " -0.21666666666666679: 1,\n",
       " -0.22195022439820455: 1,\n",
       " -0.436781609195402: 1,\n",
       " 0.2312324367723808: 1,\n",
       " -0.16326530612244916: 2,\n",
       " -0.017951856385148623: 1,\n",
       " -0.39423076923076916: 1,\n",
       " 0.6073717948717947: 1,\n",
       " -0.02976436544026484: 1,\n",
       " 0.7777777777777777: 1,\n",
       " -0.24329731892757067: 3,\n",
       " -0.6305418719211824: 1,\n",
       " 0.39004487964096235: 1,\n",
       " 0.9136892814130868: 1,\n",
       " -0.8703296703296708: 1,\n",
       " 0.8727858293075688: 1,\n",
       " -0.8242424242424242: 1,\n",
       " 0.019480519480519654: 2,\n",
       " -0.19391025641025683: 1,\n",
       " 0.10444716442268476: 1,\n",
       " -0.6034413765506201: 1,\n",
       " -0.5494949494949495: 1,\n",
       " 0.3492452060383515: 2,\n",
       " -0.055829228243021944: 1,\n",
       " -0.04118404118404051: 1,\n",
       " 0.14942528735632177: 1,\n",
       " -0.7516233766233764: 1,\n",
       " 1.3599999999999999: 1,\n",
       " -1.0132476916900846: 1,\n",
       " 1.1236494597839135: 1,\n",
       " 0.47783251231527046: 1,\n",
       " 0.9935587761674718: 1,\n",
       " -0.4833933573429374: 1,\n",
       " 0.42828282828282793: 1,\n",
       " 0.17898193760262693: 1,\n",
       " 1.0: 1,\n",
       " -0.7948717948717952: 1,\n",
       " 0.5487012987012982: 2,\n",
       " 1.3573429371748698: 1,\n",
       " -0.011575031004547043: 1,\n",
       " -0.783838383838384: 1,\n",
       " 0.3443492452060388: 1,\n",
       " 0.3842364532019702: 1,\n",
       " -0.34943639291465356: 2,\n",
       " 0.18344155844155852: 1,\n",
       " 0.6996527777777777: 1,\n",
       " -0.6222222222222227: 1,\n",
       " -0.42614601018675735: 1,\n",
       " -0.6714975845410631: 1,\n",
       " -0.014778325123153024: 1,\n",
       " -0.5916666666666663: 1,\n",
       " -0.8399999999999999: 1,\n",
       " 0.571657968687274: 1,\n",
       " -0.7164422684618521: 1,\n",
       " 0.0064102564102563875: 1,\n",
       " 0.5940432476540187: 1,\n",
       " -0.46590909090909083: 1,\n",
       " -0.5544871794871793: 1,\n",
       " -0.27780074410913613: 1,\n",
       " 0.017951856385148623: 1,\n",
       " 0.4800000000000004: 1,\n",
       " 0.1403508771929829: 1,\n",
       " 0.10505050505050484: 1,\n",
       " 0.31362889983579656: 1,\n",
       " -0.4871794871794868: 1,\n",
       " -0.7275641025641022: 1,\n",
       " -0.5634253701480594: 1,\n",
       " 0.28919714165615806: 1,\n",
       " -0.24679487179487136: 1,\n",
       " -0.16808149405772443: 1,\n",
       " 0.42496899545266675: 1,\n",
       " 0.271376957045363: 1,\n",
       " -0.9612403100775198: 1,\n",
       " 0.5362318840579712: 1,\n",
       " -0.26892109500805095: 1,\n",
       " -0.20673076923076916: 1,\n",
       " 0.8435374149659869: 1,\n",
       " -0.6799999999999997: 1,\n",
       " -0.6775956284153009: 1,\n",
       " 0.40000000000000036: 1,\n",
       " -0.1537825547747005: 1,\n",
       " -0.6326776395022078: 2,\n",
       " 0.6474358974358978: 1,\n",
       " 0.9635854341736692: 1,\n",
       " 0.22195022439820455: 2,\n",
       " 0.2368947579031615: 1,\n",
       " 0.21666666666666679: 1,\n",
       " -1.1400966183574885: 1,\n",
       " 0.02976436544026484: 1}"
      ]
     },
     "execution_count": 66,
     "metadata": {},
     "output_type": "execute_result"
    }
   ],
   "source": [
    "sampling_distribution = {}\n",
    "for mean_difference in mean_differences:\n",
    "    if sampling_distribution.get(mean_difference, False):\n",
    "        sampling_distribution[mean_difference] += 1\n",
    "    else:\n",
    "        sampling_distribution[mean_difference] = 1\n",
    "        \n",
    "sampling_distribution"
   ]
  },
  {
   "cell_type": "markdown",
   "metadata": {},
   "source": [
    "- Create an empty list named frequencies.\n",
    "- Inside a for loop that iterates over the keys in sampling_distribution:\n",
    "    - If the key is 2.52 or larger, add its value to frequencies (and do nothing if it isn't).\n",
    "- Outside the for loop, use the NumPy function sum() to calculate the sum of the values in frequencies.\n",
    "- Divide the sum by 1000 and assign to p_value."
   ]
  },
  {
   "cell_type": "code",
   "execution_count": 67,
   "metadata": {},
   "outputs": [
    {
     "data": {
      "text/plain": [
       "0.0"
      ]
     },
     "execution_count": 67,
     "metadata": {},
     "output_type": "execute_result"
    }
   ],
   "source": [
    "frequencies = []\n",
    "for sp in sampling_distribution.keys():\n",
    "    if sp >= 2.52:\n",
    "        frequencies.append(sampling_distribution[sp])\n",
    "p_value = np.sum(frequencies) / 1000\n",
    "\n",
    "p_value"
   ]
  },
  {
   "cell_type": "markdown",
   "metadata": {},
   "source": [
    "## Chi-Squared"
   ]
  },
  {
   "cell_type": "markdown",
   "metadata": {},
   "source": [
    "- In the last screen, our observed values were 10771 Females, and 21790 Males. Our expected values were 16280.5 Females and 16280.5 Males.\n",
    "    - Compute the proportional difference in number of observed Females vs number of expected Females. Assign the result to female_diff.\n",
    "    - Compute the proportional difference in number of observed Males vs number of expected Males. Assign the result to male_diff."
   ]
  },
  {
   "cell_type": "code",
   "execution_count": 68,
   "metadata": {},
   "outputs": [],
   "source": [
    "female_diff = (10771 - 16280.5) / 16280.5\n",
    "male_diff = (21790 - 16280.5) / 16280.5"
   ]
  },
  {
   "cell_type": "code",
   "execution_count": 69,
   "metadata": {},
   "outputs": [
    {
     "data": {
      "text/plain": [
       "-0.33841098246368356"
      ]
     },
     "execution_count": 69,
     "metadata": {},
     "output_type": "execute_result"
    }
   ],
   "source": [
    "female_diff"
   ]
  },
  {
   "cell_type": "code",
   "execution_count": 70,
   "metadata": {},
   "outputs": [
    {
     "data": {
      "text/plain": [
       "0.33841098246368356"
      ]
     },
     "execution_count": 70,
     "metadata": {},
     "output_type": "execute_result"
    }
   ],
   "source": [
    "male_diff"
   ]
  },
  {
   "cell_type": "markdown",
   "metadata": {},
   "source": [
    "- In the last screen, our observed values were 10771 Females, and 21790 Males. Our expected values were 16280.5 Females and 16280.5 Males.\n",
    "    - Compute the difference in number of observed Females vs number of expected Females using the updated technique. Assign the result to female_diff.\n",
    "    - Compute the difference in number of observed Males vs number of expected Males using the updated technique. Assign the result to male_diff.\n",
    "    - Add male_diff and female_diff together and assign to the variable gender_chisq."
   ]
  },
  {
   "cell_type": "code",
   "execution_count": 71,
   "metadata": {},
   "outputs": [
    {
     "data": {
      "text/plain": [
       "3728.950615767329"
      ]
     },
     "execution_count": 71,
     "metadata": {},
     "output_type": "execute_result"
    }
   ],
   "source": [
    "female_diff = (10771 - 16280.5) ** 2 / 16280.5\n",
    "male_diff = (21790 - 16280.5) ** 2 / 16280.5\n",
    "gender_chisq = female_diff + male_diff\n",
    "\n",
    "gender_chisq"
   ]
  },
  {
   "cell_type": "markdown",
   "metadata": {},
   "source": [
    "- Inside a for loop that repeats 1000 times:\n",
    "    - Use the numpy.random.random function to generate 32561 numbers between 0.0 and 1.0.\n",
    "    - Pass (32561,) into the numpy.random.random function to get a vector with 32561 elements.\n",
    "        - For each of the numbers, if it is less than .5, replace it with 0, otherwise replace it with 1.\n",
    "        - Count up how many times 0 occurs (Male frequency), and how many times 1 occurs (Female frequency).\n",
    "        - Use the expected frequencies from earlier to compute the chi-squared value.\n",
    "            - Compute male_diff by subtracting the expected Male count from the observed Male count, squaring it, and dividing by the expected Male count.\n",
    "            - Compute female_diff by subtracting the expected Female count from the observed Female count, squaring it, and dividing by the expected Female count.\n",
    "            - Add up male_diff and female_diff to get the chi-squared vlaue.\n",
    "    - Append the chi-squared value to chi_squared_values.\n",
    "    - Create a histogram with chi_squared_values using the plt.hist method."
   ]
  },
  {
   "cell_type": "code",
   "execution_count": 72,
   "metadata": {},
   "outputs": [
    {
     "data": {
      "image/png": "[encoded data removed]",
      "text/plain": [
       "<Figure size 432x288 with 1 Axes>"
      ]
     },
     "metadata": {},
     "output_type": "display_data"
    }
   ],
   "source": [
    "from numpy.random import random\n",
    "\n",
    "chi_squared_values = []\n",
    "for i in range(1000):\n",
    "    sequence = random((32561,))\n",
    "    sequence[sequence < .5] = 0\n",
    "    sequence[sequence >= .5] = 1\n",
    "    male_count = len(sequence[sequence == 0])\n",
    "    female_count = len(sequence[sequence == 1])\n",
    "    male_diff = (male_count - 16280.5) ** 2 / 16280.5\n",
    "    female_diff = (female_count - 16280.5) ** 2 / 16280.5\n",
    "    chi_squared = male_diff + female_diff\n",
    "    chi_squared_values.append(chi_squared)\n",
    "\n",
    "plt.hist(chi_squared_values);"
   ]
  },
  {
   "cell_type": "markdown",
   "metadata": {},
   "source": [
    "- Let's say our observed values are 107.71 Females, and 217.90 Males. Our expected values are 162.805 Females and 162.805 Males.\n",
    "    - Compute the difference in number of observed Females vs number of expected Females using the new formula. Assign the result to female_diff.\n",
    "    - Compute the difference in number of observed Males vs number of expected Males using the new formula. Assign the result to male_diff.\n",
    "    - Add male_diff and female_diff together and assign to the variable gender_chisq."
   ]
  },
  {
   "cell_type": "code",
   "execution_count": 73,
   "metadata": {},
   "outputs": [
    {
     "data": {
      "text/plain": [
       "37.2895061576733"
      ]
     },
     "execution_count": 73,
     "metadata": {},
     "output_type": "execute_result"
    }
   ],
   "source": [
    "female_diff = (107.71 - 162.805) ** 2 / 162.805\n",
    "male_diff = (217.90 - 162.805) ** 2 / 162.805\n",
    "gender_chisq = female_diff + male_diff\n",
    "\n",
    "gender_chisq"
   ]
  },
  {
   "cell_type": "markdown",
   "metadata": {},
   "source": [
    "- Inside a for loop that repeats 1000 times:\n",
    "    - Use the numpy.random.random function to generate 300 numbers between 0.0 and 1.0.\n",
    "    - Pass (300,) into the numpy.random.random function to get a vector with 300 elements.\n",
    "        - For each of the numbers, if it is less than .5, replace it with 0, otherwise replace it with 1.\n",
    "        - Count up how many times 0 occurs (Male frequency), and how many times 1 occurs (Female frequency).\n",
    "        - Use the expected frequencies from earlier to compute the chi-squared value.\n",
    "            - Compute male_diff by subtracting the expected Male count (150) from the observed Male count, squaring it, and dividing by the expected Male count.\n",
    "            - Compute female_diff by subtracting the expected Female count (150) from the observed Female count, squaring it, and dividing by the expected Female count.\n",
    "            - Add up male_diff and female_diff to get the chi-squared vlaue.\n",
    "        - Append the chi-squared value to chi_squared_values.\n",
    "    - Create a histogram with chi_squared_values using the plt.hist method.\n",
    "    - This plot should look identical to the one you generated earlier."
   ]
  },
  {
   "cell_type": "code",
   "execution_count": 74,
   "metadata": {},
   "outputs": [
    {
     "data": {
      "image/png": "[encoded data removed]",
      "text/plain": [
       "<Figure size 432x288 with 1 Axes>"
      ]
     },
     "metadata": {},
     "output_type": "display_data"
    }
   ],
   "source": [
    "chi_squared_values = []\n",
    "for i in range(1000):\n",
    "    sequence = random((300,))\n",
    "    sequence[sequence < .5] = 0\n",
    "    sequence[sequence >= .5] = 1\n",
    "    male_count = len(sequence[sequence == 0])\n",
    "    female_count = len(sequence[sequence == 1])\n",
    "    male_diff = (male_count - 150) ** 2 / 150\n",
    "    female_diff = (female_count - 150) ** 2 / 150\n",
    "    chi_squared = male_diff + female_diff\n",
    "    chi_squared_values.append(chi_squared)\n",
    "\n",
    "plt.hist(chi_squared_values);"
   ]
  },
  {
   "cell_type": "markdown",
   "metadata": {},
   "source": [
    "- For each category (White, Black, Asian-Pac-Islander, Amer-Indian-Eskimo, and Other):\n",
    "    - compute the difference between the expected and observed counts,\n",
    "    - square the difference,\n",
    "    - divide by the expected value,\n",
    "    - append each result to a list,\n",
    "    - sum the values in the list and assign the result to race_chisq."
   ]
  },
  {
   "cell_type": "code",
   "execution_count": 75,
   "metadata": {},
   "outputs": [
    {
     "data": {
      "text/plain": [
       "1080.485936593381"
      ]
     },
     "execution_count": 75,
     "metadata": {},
     "output_type": "execute_result"
    }
   ],
   "source": [
    "diffs = []\n",
    "observed = [27816, 3124, 1039, 311, 271]\n",
    "expected = [26146.5, 3939.9, 944.3, 260.5, 1269.8]\n",
    "\n",
    "for i, obs in enumerate(observed):\n",
    "    exp = expected[i]\n",
    "    diff = (obs - exp) ** 2 / exp\n",
    "    diffs.append(diff)\n",
    "\n",
    "race_chisq = sum(diffs)\n",
    "\n",
    "race_chisq"
   ]
  },
  {
   "cell_type": "markdown",
   "metadata": {},
   "source": [
    "- Use the scipy.stats.chisquare function to calculate the p-value for the following table:\n",
    "\n",
    "White | Black | Asian | Amer Indian | Other | Total\n",
    ":---: | :---: | :---: | :---: | :---: | :---:\n",
    "Observed | 27816 | 3124 | 1039 | 311 | 271 | 32561\n",
    "Expected | 26146.5 | 3939.9 | 944.3 | 260.5 | 1269.8 | 32561\n",
    "\n",
    "- Assign the result to race_pvalue."
   ]
  },
  {
   "cell_type": "code",
   "execution_count": 76,
   "metadata": {},
   "outputs": [],
   "source": [
    "from scipy.stats import chisquare\n",
    "\n",
    "observed = np.array([27816, 3124, 1039, 311, 271])\n",
    "expected = np.array([26146.5, 3939.9, 944.3, 260.5, 1269.8])\n",
    "\n",
    "chisquare_value, race_pvalue = chisquare(observed, expected)"
   ]
  },
  {
   "cell_type": "code",
   "execution_count": 77,
   "metadata": {},
   "outputs": [
    {
     "data": {
      "text/plain": [
       "1080.485936593381"
      ]
     },
     "execution_count": 77,
     "metadata": {},
     "output_type": "execute_result"
    }
   ],
   "source": [
    "chisquare_value"
   ]
  },
  {
   "cell_type": "code",
   "execution_count": 78,
   "metadata": {},
   "outputs": [
    {
     "data": {
      "text/plain": [
       "1.2848494674873035e-232"
      ]
     },
     "execution_count": 78,
     "metadata": {},
     "output_type": "execute_result"
    }
   ],
   "source": [
    "race_pvalue"
   ]
  },
  {
   "cell_type": "markdown",
   "metadata": {},
   "source": [
    "- Using the expected proportions in the table above, calculate the expected values for each of the 4 cells in the table.\n",
    "    - Calculate the expected value for Males who earn >50k, and assign to males_over50k.\n",
    "    - Calculate the expected value for Males who earn <=50k, and assign to males_under50k.\n",
    "    - Calculate the expected value for Females who earn >50k, and assign to females_over50k.\n",
    "    - Calculate the expected value for Females who earn <=50k, and assign to females_under50k."
   ]
  },
  {
   "cell_type": "code",
   "execution_count": 79,
   "metadata": {},
   "outputs": [],
   "source": [
    "males_over50k = .669 * .241 * 32561\n",
    "males_under50k = .669 * .759 * 32561\n",
    "females_over50k = .331 * .241 * 32561\n",
    "females_under50k = .331 * .759 * 32561"
   ]
  },
  {
   "cell_type": "code",
   "execution_count": 80,
   "metadata": {},
   "outputs": [
    {
     "data": {
      "text/plain": [
       "5249.777469000001"
      ]
     },
     "execution_count": 80,
     "metadata": {},
     "output_type": "execute_result"
    }
   ],
   "source": [
    "males_over50k"
   ]
  },
  {
   "cell_type": "code",
   "execution_count": 81,
   "metadata": {},
   "outputs": [
    {
     "data": {
      "text/plain": [
       "16533.531531000004"
      ]
     },
     "execution_count": 81,
     "metadata": {},
     "output_type": "execute_result"
    }
   ],
   "source": [
    "males_under50k"
   ]
  },
  {
   "cell_type": "code",
   "execution_count": 82,
   "metadata": {},
   "outputs": [
    {
     "data": {
      "text/plain": [
       "2597.423531"
      ]
     },
     "execution_count": 82,
     "metadata": {},
     "output_type": "execute_result"
    }
   ],
   "source": [
    "females_over50k"
   ]
  },
  {
   "cell_type": "code",
   "execution_count": 83,
   "metadata": {},
   "outputs": [
    {
     "data": {
      "text/plain": [
       "8180.267469000001"
      ]
     },
     "execution_count": 83,
     "metadata": {},
     "output_type": "execute_result"
    }
   ],
   "source": [
    "females_under50k"
   ]
  },
  {
   "cell_type": "markdown",
   "metadata": {},
   "source": [
    "- Compute the chi-squared value for the observed values above and the expected values above.\n",
    "    - Assign the result to chisq_gender_income."
   ]
  },
  {
   "cell_type": "code",
   "execution_count": 84,
   "metadata": {},
   "outputs": [
    {
     "data": {
      "text/plain": [
       "1517.5510981525103"
      ]
     },
     "execution_count": 84,
     "metadata": {},
     "output_type": "execute_result"
    }
   ],
   "source": [
    "observed = [6662, 1179, 15128, 9592]\n",
    "\n",
    "expected = [5249.8, 2597.4, 16533.5, 8180.3]\n",
    "\n",
    "values = []\n",
    "for i, obs in enumerate(observed):\n",
    "    exp = expected[i]\n",
    "    value = (obs - exp) ** 2 / exp\n",
    "    values.append(value)\n",
    "\n",
    "chisq_gender_income = sum(values)\n",
    "\n",
    "chisq_gender_income"
   ]
  },
  {
   "cell_type": "markdown",
   "metadata": {},
   "source": [
    "- Use the scipy.stats.chisquare function to find the chi-squared value and p-value for the above observed and expected counts.\n",
    "    - Assign the p-value to pvalue_gender_income."
   ]
  },
  {
   "cell_type": "code",
   "execution_count": 85,
   "metadata": {},
   "outputs": [],
   "source": [
    "observed = np.array([6662, 1179, 15128, 9592])\n",
    "expected = np.array([5249.8, 2597.4, 16533.5, 8180.3])\n",
    "\n",
    "chisq_value, pvalue_gender_income = chisquare(observed, expected)"
   ]
  },
  {
   "cell_type": "code",
   "execution_count": 86,
   "metadata": {},
   "outputs": [
    {
     "data": {
      "text/plain": [
       "1517.5510981525103"
      ]
     },
     "execution_count": 86,
     "metadata": {},
     "output_type": "execute_result"
    }
   ],
   "source": [
    "chisq_value"
   ]
  },
  {
   "cell_type": "code",
   "execution_count": 87,
   "metadata": {},
   "outputs": [
    {
     "data": {
      "text/plain": [
       "0.0"
      ]
     },
     "execution_count": 87,
     "metadata": {},
     "output_type": "execute_result"
    }
   ],
   "source": [
    "pvalue_gender_income"
   ]
  },
  {
   "cell_type": "code",
   "execution_count": 89,
   "metadata": {},
   "outputs": [],
   "source": [
    "income = pd.read_csv('income.csv')"
   ]
  },
  {
   "cell_type": "markdown",
   "metadata": {},
   "source": [
    "- Use the pandas.crosstab function to print out a table comparing the sex column of income to the race column of income."
   ]
  },
  {
   "cell_type": "code",
   "execution_count": 90,
   "metadata": {},
   "outputs": [
    {
     "data": {
      "text/html": [
       "<div>\n",
       "<style scoped>\n",
       "    .dataframe tbody tr th:only-of-type {\n",
       "        vertical-align: middle;\n",
       "    }\n",
       "\n",
       "    .dataframe tbody tr th {\n",
       "        vertical-align: top;\n",
       "    }\n",
       "\n",
       "    .dataframe thead th {\n",
       "        text-align: right;\n",
       "    }\n",
       "</style>\n",
       "<table border=\"1\" class=\"dataframe\">\n",
       "  <thead>\n",
       "    <tr style=\"text-align: right;\">\n",
       "      <th>race</th>\n",
       "      <th>Amer-Indian-Eskimo</th>\n",
       "      <th>Asian-Pac-Islander</th>\n",
       "      <th>Black</th>\n",
       "      <th>Other</th>\n",
       "      <th>White</th>\n",
       "    </tr>\n",
       "    <tr>\n",
       "      <th>sex</th>\n",
       "      <th></th>\n",
       "      <th></th>\n",
       "      <th></th>\n",
       "      <th></th>\n",
       "      <th></th>\n",
       "    </tr>\n",
       "  </thead>\n",
       "  <tbody>\n",
       "    <tr>\n",
       "      <th>Female</th>\n",
       "      <td>119</td>\n",
       "      <td>346</td>\n",
       "      <td>1555</td>\n",
       "      <td>109</td>\n",
       "      <td>8642</td>\n",
       "    </tr>\n",
       "    <tr>\n",
       "      <th>Male</th>\n",
       "      <td>192</td>\n",
       "      <td>693</td>\n",
       "      <td>1569</td>\n",
       "      <td>162</td>\n",
       "      <td>19174</td>\n",
       "    </tr>\n",
       "  </tbody>\n",
       "</table>\n",
       "</div>"
      ],
      "text/plain": [
       "race      Amer-Indian-Eskimo   Asian-Pac-Islander   Black   Other   White\n",
       "sex                                                                      \n",
       " Female                  119                  346    1555     109    8642\n",
       " Male                    192                  693    1569     162   19174"
      ]
     },
     "execution_count": 90,
     "metadata": {},
     "output_type": "execute_result"
    }
   ],
   "source": [
    "pd.crosstab(income[\"sex\"], [income[\"race\"]])"
   ]
  },
  {
   "cell_type": "markdown",
   "metadata": {},
   "source": [
    "- Use the scipy.stats.chi2_contingency function to calculate the p-value for the sex and race columns of income.\n",
    "    - Assign the result to pvalue_gender_race."
   ]
  },
  {
   "cell_type": "code",
   "execution_count": 93,
   "metadata": {},
   "outputs": [],
   "source": [
    "from scipy.stats import chi2_contingency\n",
    "\n",
    "table = pd.crosstab(income[\"sex\"], [income[\"race\"]])\n",
    "chisq_value, pvalue_gender_race, df, expected = chi2_contingency(table)"
   ]
  },
  {
   "cell_type": "code",
   "execution_count": 94,
   "metadata": {},
   "outputs": [
    {
     "data": {
      "text/plain": [
       "454.2671089131088"
      ]
     },
     "execution_count": 94,
     "metadata": {},
     "output_type": "execute_result"
    }
   ],
   "source": [
    "chisq_value"
   ]
  },
  {
   "cell_type": "code",
   "execution_count": 95,
   "metadata": {},
   "outputs": [
    {
     "data": {
      "text/plain": [
       "5.192061302760456e-97"
      ]
     },
     "execution_count": 95,
     "metadata": {},
     "output_type": "execute_result"
    }
   ],
   "source": [
    "pvalue_gender_race"
   ]
  },
  {
   "cell_type": "code",
   "execution_count": 96,
   "metadata": {},
   "outputs": [
    {
     "data": {
      "text/plain": [
       "4"
      ]
     },
     "execution_count": 96,
     "metadata": {},
     "output_type": "execute_result"
    }
   ],
   "source": [
    "df"
   ]
  },
  {
   "cell_type": "code",
   "execution_count": 97,
   "metadata": {},
   "outputs": [
    {
     "data": {
      "text/plain": [
       "array([[  102.87709223,   343.69549461,  1033.40204539,    89.64531188,\n",
       "         9201.3800559 ],\n",
       "       [  208.12290777,   695.30450539,  2090.59795461,   181.35468812,\n",
       "        18614.6199441 ]])"
      ]
     },
     "execution_count": 97,
     "metadata": {},
     "output_type": "execute_result"
    }
   ],
   "source": [
    "expected"
   ]
  }
 ],
 "metadata": {
  "kernelspec": {
   "display_name": "Python 3",
   "language": "python",
   "name": "python3"
  },
  "language_info": {
   "codemirror_mode": {
    "name": "ipython",
    "version": 3
   },
   "file_extension": ".py",
   "mimetype": "text/x-python",
   "name": "python",
   "nbconvert_exporter": "python",
   "pygments_lexer": "ipython3",
   "version": "3.6.6"
  }
 },
 "nbformat": 4,
 "nbformat_minor": 2
}
