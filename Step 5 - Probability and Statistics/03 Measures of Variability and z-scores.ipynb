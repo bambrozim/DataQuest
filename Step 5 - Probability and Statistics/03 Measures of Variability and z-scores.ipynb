{
 "cells": [
  {
   "cell_type": "markdown",
   "metadata": {},
   "source": [
    "## Measures of Variability"
   ]
  },
  {
   "cell_type": "markdown",
   "metadata": {},
   "source": [
    "- Write a function that takes in an array of numerical values and returns the range of that array.\n",
    "- Using the function you wrote, measure the range of the SalePrice variable for each year of sales. You can find the year of sale in the Yr Sold column.\n",
    "    - Store the measures in a dictionary named range_by_year. The keys should be the individual years, and the dictionary values should be the ranges. This is how the dictionary should look like: {2010: 598868, 2009: 575100, 2008: 601900,...}.\n",
    "- Using the measures of variability you got, asses the truth value of the following sentences:\n",
    "    1. Prices had the greatest variability in 2008.\n",
    "        - If you consider this sentence true, assign the boolean True to a variable named one, otherwise assign False.\n",
    "    2. Prices variability had a peak in 2007, then the variability started to decrease until 2010 when there was a short increase in variability compared to the previous year (2009).\n",
    "        - If you consider this sentence true, assign the boolean True to a variable named two, otherwise assign False."
   ]
  },
  {
   "cell_type": "code",
   "execution_count": 1,
   "metadata": {},
   "outputs": [],
   "source": [
    "import pandas as pd\n",
    "\n",
    "houses = pd.read_table('AmesHousing_1.txt')\n",
    "\n",
    "def find_range(array):\n",
    "    return max(array) - min(array)\n",
    "\n",
    "range_by_year = {}\n",
    "for year in houses[\"Yr Sold\"].unique():\n",
    "    data_by_year = houses[houses[\"Yr Sold\"] == year]\n",
    "    range_by_year[year] = find_range(data_by_year[\"SalePrice\"])\n",
    "\n",
    "one = False\n",
    "two = True"
   ]
  },
  {
   "cell_type": "code",
   "execution_count": 2,
   "metadata": {},
   "outputs": [],
   "source": [
    "C = [1,1,1,1,1,1,1,1,1,21]"
   ]
  },
  {
   "cell_type": "markdown",
   "metadata": {},
   "source": [
    "- Write a function that takes in a numerical array and returns the average distance (as explained above). Inside the function's defition:\n",
    "    - Compute the mean of the array.\n",
    "    - Initialize an empty list.\n",
    "    - Loop through the values of the array. For each iteration:\n",
    "        - Compute the distance between the current value and the mean. Use value - mean every time, as indicated by the formula.\n",
    "        - Append the distance to the list we initialized before the loop.\n",
    "    - At the end of the loop, the list should contain all the distances.\n",
    "    - Return the mean of the list.\n",
    "- Compute the average distance for distribution $C$ using the function you wrote, and assign the result to a variable named avg_distance.\n",
    "- Print the result. Why do you think we got that value? (Hint: The mean is the balance point of a distribution.)"
   ]
  },
  {
   "cell_type": "code",
   "execution_count": 3,
   "metadata": {},
   "outputs": [
    {
     "data": {
      "text/plain": [
       "0.0"
      ]
     },
     "execution_count": 3,
     "metadata": {},
     "output_type": "execute_result"
    }
   ],
   "source": [
    "def average_distance(array):\n",
    "    reference_point = sum(array) / len(array)\n",
    "\n",
    "    distances = [(value - reference_point) for value in array]\n",
    "    return sum(distances) / len(distances)\n",
    "\n",
    "avg_distance = average_distance(C)\n",
    "avg_distance"
   ]
  },
  {
   "cell_type": "markdown",
   "metadata": {},
   "source": [
    "- Write a function that takes in a numerical array and returns the mean absolute deviation. Inside the function:\n",
    "    - Compute the mean of the array.\n",
    "    - Loop through the values of the array. For each iteration:\n",
    "        - Compute the absolute distance (deviation). You can use the abs() function.\n",
    "        - Append the absolute distance to a list.\n",
    "    - Return the mean of the list containing all the absolute distances.\n",
    "- Compute the mean absolute deviation of distribution $C$, and assign the result to a variable named mad.\n",
    "    - Is the result considerably less than 20 but greater than 0, as we expected?"
   ]
  },
  {
   "cell_type": "code",
   "execution_count": 4,
   "metadata": {},
   "outputs": [
    {
     "data": {
      "text/plain": [
       "3.6"
      ]
     },
     "execution_count": 4,
     "metadata": {},
     "output_type": "execute_result"
    }
   ],
   "source": [
    "def mean_absolute_deviation(array):\n",
    "    reference_point = sum(array) / len(array)\n",
    " \n",
    "    distances = [(abs(value - reference_point)) for value in array]\n",
    "    return sum(distances) / len(distances)\n",
    "\n",
    "mad = mean_absolute_deviation(C)\n",
    "\n",
    "mad"
   ]
  },
  {
   "cell_type": "markdown",
   "metadata": {},
   "source": [
    "- Write a function that takes in a numerical array and returns the variance of that array. Inside the function:\n",
    "    - Compute the mean of the array.\n",
    "    - Loop through the values of the array. For each iteration:\n",
    "        - Compute the squared distance (squared deviation).\n",
    "        - Append the squared distance to a list.\n",
    "    - Return the mean of the list of squared distances.\n",
    "- Compute the variance of distribution $C$, and assign the result to a variable named variance_C.\n",
    "    - Is the result considerably less than 20 but greater than 0, as we expected?"
   ]
  },
  {
   "cell_type": "code",
   "execution_count": 5,
   "metadata": {},
   "outputs": [
    {
     "data": {
      "text/plain": [
       "36.0"
      ]
     },
     "execution_count": 5,
     "metadata": {},
     "output_type": "execute_result"
    }
   ],
   "source": [
    "def variance(array):\n",
    "    reference_point = sum(array) / len(array)\n",
    "   \n",
    "    distances = [((value - reference_point)**2) for value in array]\n",
    "    return sum(distances) / len(distances)\n",
    "\n",
    "variance_C = variance(C)\n",
    "\n",
    "variance_C"
   ]
  },
  {
   "cell_type": "markdown",
   "metadata": {},
   "source": [
    "- Write a function that takes in a numerical array and returns the standard deviation of that array. Inside the function:\n",
    "    - Compute the mean of the array.\n",
    "    - Loop through the values of the array. For each iteration:\n",
    "        - Compute the squared distance (squared deviation).\n",
    "        - Append the squared distance to a list.\n",
    "    - Compute the mean of the list of squared distances — this is the variance.\n",
    "    - Return the square root of the variance.\n",
    "- Compute the standard deviation of distribution , and assign the result to a variable named standard_deviation_C.\n",
    "    - Is the result considerably less than 20 but greater than 0, as we expected?"
   ]
  },
  {
   "cell_type": "code",
   "execution_count": 6,
   "metadata": {},
   "outputs": [
    {
     "data": {
      "text/plain": [
       "6.0"
      ]
     },
     "execution_count": 6,
     "metadata": {},
     "output_type": "execute_result"
    }
   ],
   "source": [
    "from math import sqrt\n",
    "\n",
    "def standard_deviation(array):\n",
    "    reference_point = sum(array) / len(array)\n",
    "    \n",
    "    distances = [((value - reference_point)**2) for value in array]\n",
    "    \n",
    "    variance = sum(distances) / len(distances)\n",
    "    return sqrt(variance)\n",
    "\n",
    "standard_deviation_C = standard_deviation(C)\n",
    "\n",
    "standard_deviation_C"
   ]
  },
  {
   "cell_type": "markdown",
   "metadata": {},
   "source": [
    "- The standard deviation of the SalePrice variable should give us a picture about the diversity of prices on the real estate market.\n",
    "    - Find the year with the greatest variability of prices and assign the answer as an integer to the variable greatest_variability.\n",
    "    - Find the year with the lowest variability of prices and assign the answer as an integer to the variable lowest_variability.\n",
    "    - Use the function you wrote in the previous screen to measure the standard deviation of each year.\n",
    "    - You can find information about the years of sale in the Yr Sold column.\n",
    "    - There are many ways you can solve this exercise. If you get stuck, you can check the hint or the solution code."
   ]
  },
  {
   "cell_type": "code",
   "execution_count": 7,
   "metadata": {},
   "outputs": [],
   "source": [
    "def standard_deviation(array):\n",
    "    reference_point = sum(array) / len(array)\n",
    "\n",
    "    distances = []\n",
    "    for value in array:\n",
    "        squared_distance = (value - reference_point)**2\n",
    "        distances.append(squared_distance)\n",
    "\n",
    "    variance = sum(distances) / len(distances)\n",
    "\n",
    "    return sqrt(variance)\n",
    "\n",
    "years = {}\n",
    "for year in houses['Yr Sold'].unique():\n",
    "    year_segment = houses[houses['Yr Sold'] == year]\n",
    "    st_dev = standard_deviation(year_segment['SalePrice'])\n",
    "    years[year] = st_dev\n",
    "\n",
    "greatest_variability = max(years, key = years.get)\n",
    "lowest_variability = min(years, key = years.get)"
   ]
  },
  {
   "cell_type": "code",
   "execution_count": 8,
   "metadata": {},
   "outputs": [
    {
     "data": {
      "text/plain": [
       "2006"
      ]
     },
     "execution_count": 8,
     "metadata": {},
     "output_type": "execute_result"
    }
   ],
   "source": [
    "greatest_variability"
   ]
  },
  {
   "cell_type": "code",
   "execution_count": 9,
   "metadata": {},
   "outputs": [
    {
     "data": {
      "text/plain": [
       "2010"
      ]
     },
     "execution_count": 9,
     "metadata": {},
     "output_type": "execute_result"
    }
   ],
   "source": [
    "lowest_variability"
   ]
  },
  {
   "cell_type": "code",
   "execution_count": 10,
   "metadata": {},
   "outputs": [],
   "source": [
    "sample1 = houses['Year Built'].sample(50, random_state = 1)\n",
    "sample2 = houses['Year Built'].sample(50, random_state = 2)"
   ]
  },
  {
   "cell_type": "markdown",
   "metadata": {},
   "source": [
    "- We took two samples of 50 sample points each from the distribution of the Year Built variable. Examine the graph below, and estimate visually which sample has a bigger spread.\n",
    "    - Assign your answer to a variable named bigger_spread. If you think sample 1 has a bigger spread, assign the string 'sample 1' to bigger_spread, otherwise assign 'sample_2'.\n",
    "    - Sanity check your visual estimate by computing and comparing the standard deviations of the two samples.\n",
    "        - You can see the two samples already saved in the code editor.\n",
    "        - Assign the standard deviation of sample 1 to a variable named st_dev1. Compute the standard deviation using the standard_deviation() function.\n",
    "        - Assign the standard deviation of sample 2 to a variable named st_dev2. Compute the standard deviation using the standard_deviation() function."
   ]
  },
  {
   "cell_type": "code",
   "execution_count": 11,
   "metadata": {},
   "outputs": [],
   "source": [
    "def standard_deviation(array):\n",
    "    reference_point = sum(array) / len(array)\n",
    "    \n",
    "    distances = []\n",
    "    for value in array:\n",
    "        squared_distance = (value - reference_point)**2\n",
    "        distances.append(squared_distance)\n",
    "    \n",
    "    variance = sum(distances) / len(distances)\n",
    "    \n",
    "    return sqrt(variance)\n",
    "\n",
    "bigger_spread = 'sample 2'\n",
    "st_dev1 = standard_deviation(sample1)\n",
    "st_dev2 = standard_deviation(sample2)"
   ]
  },
  {
   "cell_type": "code",
   "execution_count": 12,
   "metadata": {},
   "outputs": [
    {
     "data": {
      "text/plain": [
       "29.239589600403075"
      ]
     },
     "execution_count": 12,
     "metadata": {},
     "output_type": "execute_result"
    }
   ],
   "source": [
    "st_dev1"
   ]
  },
  {
   "cell_type": "code",
   "execution_count": 13,
   "metadata": {},
   "outputs": [
    {
     "data": {
      "text/plain": [
       "32.466234767832255"
      ]
     },
     "execution_count": 13,
     "metadata": {},
     "output_type": "execute_result"
    }
   ],
   "source": [
    "st_dev2"
   ]
  },
  {
   "cell_type": "markdown",
   "metadata": {},
   "source": [
    "- Let's consider the data we have for SalePrice a population and sample it 5000 times. For each of the 5000 iterations of a for loop:\n",
    "    - Sample 10 data points from the SalePrice variable using the Series.sample() method.\n",
    "        - The random_state of Series.sample() should be 0 for the first iteration, 1 for the second iteration, 2 for the third, and so on.\n",
    "    - Compute the standard deviation of the sample using the standard_deviation() function.\n",
    "    - Append the standard deviation to a list that will eventually store all the 5000 sample standard deviations.\n",
    "- Generate a histogram using plt.hist() to visualize the distribution of the 5000 sample standard deviations.\n",
    "- Draw a vertical line using plt.axvline() to mark the population standard deviation.\n",
    "- Examine the histogram and try to figure out whether most sample standard deviations cluster above or below the population standard deviation, or right at the center of it."
   ]
  },
  {
   "cell_type": "code",
   "execution_count": 14,
   "metadata": {},
   "outputs": [
    {
     "data": {
      "image/png": "[encoded data removed]",
      "text/plain": [
       "<Figure size 432x288 with 1 Axes>"
      ]
     },
     "metadata": {},
     "output_type": "display_data"
    }
   ],
   "source": [
    "import matplotlib.pyplot as plt\n",
    "%matplotlib inline\n",
    "\n",
    "st_devs = []\n",
    "for i in range(5000):\n",
    "    sample = houses['SalePrice'].sample(10, random_state = i)\n",
    "    st_dev = standard_deviation(sample)\n",
    "    st_devs.append(st_dev)\n",
    "\n",
    "plt.hist(st_devs)\n",
    "plt.axvline(standard_deviation(houses['SalePrice']));"
   ]
  },
  {
   "cell_type": "markdown",
   "metadata": {},
   "source": [
    "- Modify the code we wrote in the previous exercise by implementing Bessel's correction, and generate the histogram again.\n",
    "- If you want to challenge yourself, delete the display code and recode everything from scratch.\n",
    "- Does it look like Bessel's correction added any improvement?"
   ]
  },
  {
   "cell_type": "code",
   "execution_count": 15,
   "metadata": {},
   "outputs": [
    {
     "data": {
      "image/png": "[encoded data removed]",
      "text/plain": [
       "<Figure size 432x288 with 1 Axes>"
      ]
     },
     "metadata": {},
     "output_type": "display_data"
    }
   ],
   "source": [
    "def standard_deviation(array):\n",
    "    reference_point = sum(array) / len(array)\n",
    "    \n",
    "    distances = []\n",
    "    for value in array:\n",
    "        squared_distance = (value - reference_point)**2\n",
    "        distances.append(squared_distance)\n",
    "    \n",
    "    variance = sum(distances) / (len(distances) - 1)\n",
    "    \n",
    "    return sqrt(variance)\n",
    "\n",
    "st_devs = []\n",
    "for i in range(5000):\n",
    "    sample = houses['SalePrice'].sample(10, random_state = i)\n",
    "    st_dev = standard_deviation(sample)\n",
    "    st_devs.append(st_dev)\n",
    "\n",
    "plt.hist(st_devs)\n",
    "plt.axvline(standard_deviation(houses['SalePrice']));"
   ]
  },
  {
   "cell_type": "code",
   "execution_count": 16,
   "metadata": {},
   "outputs": [],
   "source": [
    "sample = houses.sample(100, random_state = 1)"
   ]
  },
  {
   "cell_type": "markdown",
   "metadata": {},
   "source": [
    "- We already sampled our data set and saved the sample in a variable named sample.\n",
    "    - Use the Series.std() method to compute the sample standard deviation for the SalePrice column. You can use the ddof parameter to choose between $n$ and $n - 1$. Save the result to a variable named pandas_stdev.\n",
    "    - Use the numpy.std() function to compute the sample standard deviation for the SalePrice column. You can use the ddof parameter to choose between $n$ and $n - 1$. Save the result to a variable named numpy_stdev.\n",
    "    - Compare pandas_stdev with numpy_stdev using the == operator. Assign the result of the comparison to a variable named equal_stdevs.\n",
    "    - Use the Series.var() method to compute the sample variance for the SalePrice column. Assign the result to pandas_var.\n",
    "    - Use the numpy.var() function to compute the sample variance for the SalePrice column. Assign the result to numpy_var.\n",
    "    - Compare pandas_var with numpy_var using the == operator. Assign the result of the comparison to a variable named equal_vars."
   ]
  },
  {
   "cell_type": "code",
   "execution_count": 17,
   "metadata": {},
   "outputs": [],
   "source": [
    "from numpy import std, var\n",
    "\n",
    "pandas_stdev = sample.SalePrice.std(ddof=1)\n",
    "numpy_stdev = std(sample.SalePrice, ddof=1)\n",
    "equal_stdevs = pandas_stdev == numpy_stdev\n",
    "\n",
    "pandas_var = sample.SalePrice.var(ddof=1)\n",
    "numpy_var = var(sample.SalePrice, ddof=1)\n",
    "equal_vars = pandas_var == numpy_var"
   ]
  },
  {
   "cell_type": "code",
   "execution_count": 18,
   "metadata": {},
   "outputs": [
    {
     "data": {
      "text/plain": [
       "76469.14464354338"
      ]
     },
     "execution_count": 18,
     "metadata": {},
     "output_type": "execute_result"
    }
   ],
   "source": [
    "pandas_stdev"
   ]
  },
  {
   "cell_type": "code",
   "execution_count": 19,
   "metadata": {},
   "outputs": [
    {
     "data": {
      "text/plain": [
       "5847530082.515158"
      ]
     },
     "execution_count": 19,
     "metadata": {},
     "output_type": "execute_result"
    }
   ],
   "source": [
    "pandas_var"
   ]
  },
  {
   "cell_type": "code",
   "execution_count": 20,
   "metadata": {},
   "outputs": [
    {
     "data": {
      "text/plain": [
       "76469.14464354338"
      ]
     },
     "execution_count": 20,
     "metadata": {},
     "output_type": "execute_result"
    }
   ],
   "source": [
    "numpy_stdev"
   ]
  },
  {
   "cell_type": "code",
   "execution_count": 21,
   "metadata": {},
   "outputs": [
    {
     "data": {
      "text/plain": [
       "5847530082.515158"
      ]
     },
     "execution_count": 21,
     "metadata": {},
     "output_type": "execute_result"
    }
   ],
   "source": [
    "numpy_var"
   ]
  },
  {
   "cell_type": "code",
   "execution_count": 22,
   "metadata": {},
   "outputs": [
    {
     "data": {
      "text/plain": [
       "True"
      ]
     },
     "execution_count": 22,
     "metadata": {},
     "output_type": "execute_result"
    }
   ],
   "source": [
    "equal_stdevs"
   ]
  },
  {
   "cell_type": "code",
   "execution_count": 23,
   "metadata": {},
   "outputs": [
    {
     "data": {
      "text/plain": [
       "True"
      ]
     },
     "execution_count": 23,
     "metadata": {},
     "output_type": "execute_result"
    }
   ],
   "source": [
    "equal_vars"
   ]
  },
  {
   "cell_type": "code",
   "execution_count": 24,
   "metadata": {},
   "outputs": [],
   "source": [
    "population = [0, 3, 6]\n",
    "\n",
    "samples = [[0,3], [0,6],\n",
    "           [3,0], [3,6],\n",
    "           [6,0], [6,3]\n",
    "          ]"
   ]
  },
  {
   "cell_type": "markdown",
   "metadata": {},
   "source": [
    "- In the code editor, you can see all the possible samples of size  for the population  when we sample without replacement.\n",
    "    - Compute the sample variance and sample standard deviation for each sample.\n",
    "    - Take the mean of all the sample variances. Compare the mean variance with the population variance (which you'll have to compute) using the == operator, and assign the result to a variable equal_var.\n",
    "        - If the sample variance is biased in this case, the result should be False.\n",
    "    - Take the mean of all the sample standard deviations. Comapre the mean standard deviation with the population standard deviation using the == operator, and assign the result to equal_std.\n",
    "        - If the sample variance is biased in this case, the result should be False."
   ]
  },
  {
   "cell_type": "code",
   "execution_count": 25,
   "metadata": {},
   "outputs": [],
   "source": [
    "pop_var = var(population, ddof = 0)\n",
    "pop_std = std(population, ddof = 0)\n",
    "\n",
    "st_devs = []\n",
    "variances = []\n",
    "for sample in samples:\n",
    "    st_devs.append(std(sample, ddof = 1))\n",
    "    variances.append(var(sample, ddof = 1))\n",
    "    \n",
    "mean_std = sum(st_devs) / len(st_devs)\n",
    "mean_var = sum(variances) / len(variances)\n",
    "\n",
    "equal_stdev = pop_std == mean_std\n",
    "equal_var = pop_var == mean_var"
   ]
  },
  {
   "cell_type": "code",
   "execution_count": 26,
   "metadata": {},
   "outputs": [
    {
     "data": {
      "text/plain": [
       "False"
      ]
     },
     "execution_count": 26,
     "metadata": {},
     "output_type": "execute_result"
    }
   ],
   "source": [
    "equal_stdev"
   ]
  },
  {
   "cell_type": "code",
   "execution_count": 27,
   "metadata": {},
   "outputs": [
    {
     "data": {
      "text/plain": [
       "False"
      ]
     },
     "execution_count": 27,
     "metadata": {},
     "output_type": "execute_result"
    }
   ],
   "source": [
    "equal_var"
   ]
  },
  {
   "cell_type": "markdown",
   "metadata": {},
   "source": [
    "## z-scores"
   ]
  },
  {
   "cell_type": "markdown",
   "metadata": {},
   "source": [
    "- Generate a kernel density plot for the SalePrice variable to find out how far off \\$220,000 is from the mean.\n",
    "    - Generate the plot using Series.plot.kde().\n",
    "        - The limits of the x-axis should be the minimum and the maximum value of the SalePrice variable. To set the limits you can use the xlim parameter of Series.plot.kde().\n",
    "    - Plot a vertical line to indicate visually the location of the mean using plt.axvline().\n",
    "        - The color of the line should be black, and its label should be 'Mean'. You can use the color and label parameters of plt.axvline().\n",
    "    - Plot a vertical line to indicate visually the standard deviation distance above the mean — you'll have to generate a vertical line for the sum of the mean and standard deviation.\n",
    "        - Assume that the data is a population and compute the standard deviation without using Bessel's correction.\n",
    "        - The color of the line should be red and its label should be 'Standard deviation'.\n",
    "    - Plot a vertical line for the \\$220,000 price.\n",
    "        - The color of the line should be orange and its label should be '220000'.\n",
    "    - Display all the labels using plt.legend().\n",
    "- Examine the graph and figure out whether a price of \\$220,000 is very expensive. If it's very expensive, assign True to variable named very_expensive, otherwise assign False."
   ]
  },
  {
   "cell_type": "code",
   "execution_count": 28,
   "metadata": {},
   "outputs": [
    {
     "data": {
      "image/png": "[encoded data removed]",
      "text/plain": [
       "<Figure size 432x288 with 1 Axes>"
      ]
     },
     "metadata": {},
     "output_type": "display_data"
    }
   ],
   "source": [
    "houses['SalePrice'].plot.kde(xlim = (houses['SalePrice'].min(), houses['SalePrice'].max()))\n",
    "\n",
    "st_dev = houses['SalePrice'].std(ddof = 0)\n",
    "mean = houses['SalePrice'].mean()\n",
    "\n",
    "plt.axvline(mean, color = 'Black', label = 'Mean')\n",
    "plt.axvline(mean + st_dev, color = 'Red', label = 'Standard deviation')\n",
    "plt.axvline(220000, color = 'Orange', label = '220000')\n",
    "plt.legend();\n",
    "\n",
    "very_expensive = False"
   ]
  },
  {
   "cell_type": "markdown",
   "metadata": {},
   "source": [
    "- Find out the number of standard deviations away from the mean for a price of \\$220,000 in the distribution of the SalePrice variable.\n",
    "    - Measure the distance between \\$220,000 and the mean of the SalePrice column.\n",
    "    - Divide the distance by the standard deviation of the SalePrice column (assume the data we have is a population) to find the number of standard deviations away from the mean.\n",
    "        - Assign your result to a variable named st_devs_away.\n",
    "        - If you can't understand why we divide, think about this way: if we have a distance of 6 and a standard deviation of 2, then that is three standard deviations away because $6 : 2 = 3$.\n",
    "    - Does the number of standard deviations match our visual estimate from the last exercise?"
   ]
  },
  {
   "cell_type": "code",
   "execution_count": 29,
   "metadata": {},
   "outputs": [],
   "source": [
    "distance = 220000 - houses.SalePrice.mean()\n",
    "st_devs_away = distance / houses.SalePrice.std(ddof=0)"
   ]
  },
  {
   "cell_type": "code",
   "execution_count": 30,
   "metadata": {},
   "outputs": [
    {
     "data": {
      "text/plain": [
       "0.4908280788718362"
      ]
     },
     "execution_count": 30,
     "metadata": {},
     "output_type": "execute_result"
    }
   ],
   "source": [
    "st_devs_away"
   ]
  },
  {
   "cell_type": "markdown",
   "metadata": {},
   "source": [
    "- Write a function that that takes in a value, the array the value belongs to, and returns the z-score of that value. Inside the function's definition:\n",
    "    - Compute the mean of the array.\n",
    "    - Compute the standard deviation of the array. Make sure your function is flexible enough to compute z-scores for both samples and populations.\n",
    "        - You can use the std() function from numpy.\n",
    "    - Find out the distance between the value and the mean of the array.\n",
    "    - Compute the z-score by dividing the distance to the standard deviation of the array.\n",
    "    - Return the z-score.\n",
    "- Compute the z-score for min_val, mean_val, max_val, which are already defined in the code editor. Assume that the values come from a population.\n",
    "    - Assign the z-score for min_val to a variable named min_z.\n",
    "    - Assign the z-score for mean_val to a variable named mean_z.\n",
    "    - Assign the z-score for max_val to a variable named max_z."
   ]
  },
  {
   "cell_type": "code",
   "execution_count": 31,
   "metadata": {},
   "outputs": [],
   "source": [
    "min_val = houses['SalePrice'].min()\n",
    "mean_val = houses['SalePrice'].mean()\n",
    "max_val = houses['SalePrice'].max()\n",
    "\n",
    "def z_score(value, array, bessel = 0):\n",
    "    mean = sum(array) / len(array)\n",
    "\n",
    "    st_dev = std(array, ddof = bessel)\n",
    "    \n",
    "    distance = value - mean\n",
    "    z = distance / st_dev\n",
    "    \n",
    "    return z\n",
    "\n",
    "min_z = z_score(min_val, houses['SalePrice'])\n",
    "mean_z = z_score(mean_val, houses['SalePrice'])\n",
    "max_z = z_score(max_val, houses['SalePrice'])"
   ]
  },
  {
   "cell_type": "code",
   "execution_count": 32,
   "metadata": {},
   "outputs": [
    {
     "data": {
      "text/plain": [
       "-2.1034258973406126"
      ]
     },
     "execution_count": 32,
     "metadata": {},
     "output_type": "execute_result"
    }
   ],
   "source": [
    "min_z"
   ]
  },
  {
   "cell_type": "code",
   "execution_count": 33,
   "metadata": {},
   "outputs": [
    {
     "data": {
      "text/plain": [
       "0.0"
      ]
     },
     "execution_count": 33,
     "metadata": {},
     "output_type": "execute_result"
    }
   ],
   "source": [
    "mean_z"
   ]
  },
  {
   "cell_type": "code",
   "execution_count": 34,
   "metadata": {},
   "outputs": [
    {
     "data": {
      "text/plain": [
       "7.188956446929806"
      ]
     },
     "execution_count": 34,
     "metadata": {},
     "output_type": "execute_result"
    }
   ],
   "source": [
    "max_z"
   ]
  },
  {
   "cell_type": "markdown",
   "metadata": {},
   "source": [
    "- Find out the location for which \\$200,000 has the z-score closest to 0. Code-wise, there are several ways to complete this task, and we encourage you to think of a way yourself. Below we describe one way to complete this task:\n",
    "    - Isolate the data for each of the five neighborhoods. The neigborhoods are described in the Neighborhood column. These are the abbreviations for our neighborhoods of interest:\n",
    "        - 'NAmes' for North Ames.\n",
    "        - 'CollgCr' for College Creek.\n",
    "        - 'OldTown' for Old Town.\n",
    "        - 'Edwards' for Edwards.\n",
    "        - 'Somerst' for Somerset.\n",
    "    - For example, to isolate the data for North Ames you can do houses[houses['Neighborhood'] == 'NAmes'] and save the data to a variable.\n",
    "    - Find the z-score of a $200,000 price for each of the five data sets you isolated. Assume that each data set is a population.\n",
    "    - Examine the z-scores to find the best location to invest in. Assign your answer as a string to the variable best_investment. Choose between the following strings: 'North Ames', 'College Creek', 'Old Town', 'Edwards', and 'Somerset'."
   ]
  },
  {
   "cell_type": "code",
   "execution_count": 35,
   "metadata": {},
   "outputs": [
    {
     "name": "stdout",
     "output_type": "stream",
     "text": [
      "{'NAmes': 1.7239665910370237, 'CollgCr': -0.03334366282705464, 'OldTown': 1.7183080926865524, 'Edwards': 1.443576193848941, 'Somerst': -0.5186390646965722}\n"
     ]
    }
   ],
   "source": [
    "north_ames = houses[houses['Neighborhood'] == 'NAmes']\n",
    "clg_creek = houses[houses['Neighborhood'] == 'CollgCr']\n",
    "old_town = houses[houses['Neighborhood'] == 'OldTown']\n",
    "edwards = houses[houses['Neighborhood'] == 'Edwards']\n",
    "somerset = houses[houses['Neighborhood'] == 'Somerst']\n",
    "\n",
    "z_by_location = {}\n",
    "for data, neighborhood in [(north_ames, 'NAmes'), (clg_creek, 'CollgCr'),\n",
    "                     (old_town, 'OldTown'), (edwards, 'Edwards'),\n",
    "                     (somerset, 'Somerst')]:\n",
    "\n",
    "    z_by_location[neighborhood] = z_score(200000, data['SalePrice'], bessel = 0)\n",
    "\n",
    "print(z_by_location)\n",
    "best_investment = 'College Creek'"
   ]
  },
  {
   "cell_type": "code",
   "execution_count": 36,
   "metadata": {},
   "outputs": [],
   "source": [
    "mean = houses['SalePrice'].mean()\n",
    "st_dev = houses['SalePrice'].std(ddof = 0)\n",
    "\n",
    "houses['z_prices'] = houses['SalePrice'].apply(lambda x: ((x - mean) / st_dev))"
   ]
  },
  {
   "cell_type": "markdown",
   "metadata": {},
   "source": [
    "- We've already transformed the distribution of the SalePrice variable to distribution of z-scores and saved the new values to a column named z_prices.\n",
    "    - Compute the mean of the z_prices column and assign the result to a variable named z_mean_price.\n",
    "    - Compute the standard deviation of the z_prices column and assign the result to a variable named z_stdev_price. Assume that you're computing the standard deviation for a population.\n",
    "- Transform the distribution of the Lot Area variable into a distribution of z-scores.\n",
    "    - Compute the mean of the new distribution of z-scores and assign the result to a variable named z_mean_area.\n",
    "    - Compute the standard deviation of the new distribution of z-scores and assign the result to a variable named z_stdev_area. Assume that you're computing the standard deviation for a population.\n",
    "- Compare the values of z_mean_price and z_mean_area. What do you observe? How can you explain that?\n",
    "- Compare the values of z_stdev_price and z_stdev_area. What do you observe? How can you explain that?"
   ]
  },
  {
   "cell_type": "code",
   "execution_count": 37,
   "metadata": {},
   "outputs": [],
   "source": [
    "z_mean_price = houses['z_prices'].mean()\n",
    "z_stdev_price = houses['z_prices'].std(ddof = 0)\n",
    "\n",
    "# Transforming 'Lot Area'\n",
    "mean_area = houses['Lot Area'].mean()\n",
    "stdev_area = houses['Lot Area'].std(ddof = 0)\n",
    "\n",
    "houses['z_area'] = houses['Lot Area'].apply(lambda x: ((x - mean_area) / stdev_area))\n",
    "\n",
    "z_mean_area = houses['z_area'].mean()\n",
    "z_stdev_area = houses['z_area'].std(ddof = 0)"
   ]
  },
  {
   "cell_type": "code",
   "execution_count": 40,
   "metadata": {},
   "outputs": [],
   "source": [
    "from numpy import std, mean\n",
    "population = [0,8,0,8]"
   ]
  },
  {
   "cell_type": "markdown",
   "metadata": {},
   "source": [
    "- Standardize the population of values stored in the population variable and compute its mean $\\mu_z$ and its standard deviation $\\sigma_z$.\n",
    "    - Assign the value of $\\mu_z$ to a variable named mean_z.\n",
    "    - Assign the value of $\\sigma_z$ to a variable named stdev_z.\n",
    "    - This time we should get $\\mu_z = 0$ and $\\sigma_z = 1$ because there'll be no rounding errors."
   ]
  },
  {
   "cell_type": "code",
   "execution_count": 41,
   "metadata": {},
   "outputs": [],
   "source": [
    "mean_pop = mean(population)\n",
    "stdev_pop = std(population, ddof = 0)\n",
    "\n",
    "standardized_pop = []\n",
    "for value in population:\n",
    "    z = (value - mean_pop) / stdev_pop\n",
    "    standardized_pop.append(z)\n",
    "\n",
    "mean_z = mean(standardized_pop)\n",
    "stdev_z = std(standardized_pop, ddof = 0)"
   ]
  },
  {
   "cell_type": "code",
   "execution_count": 42,
   "metadata": {},
   "outputs": [
    {
     "data": {
      "text/plain": [
       "0.0"
      ]
     },
     "execution_count": 42,
     "metadata": {},
     "output_type": "execute_result"
    }
   ],
   "source": [
    "mean_z"
   ]
  },
  {
   "cell_type": "code",
   "execution_count": 43,
   "metadata": {},
   "outputs": [
    {
     "data": {
      "text/plain": [
       "1.0"
      ]
     },
     "execution_count": 43,
     "metadata": {},
     "output_type": "execute_result"
    }
   ],
   "source": [
    "stdev_z"
   ]
  },
  {
   "cell_type": "code",
   "execution_count": 44,
   "metadata": {},
   "outputs": [],
   "source": [
    "sample = [0,8,0,8]"
   ]
  },
  {
   "cell_type": "markdown",
   "metadata": {},
   "source": [
    "- Compute the standard deviation of standardized_sample using the sample standard deviation formula, and assign the result to a variable named stdev_sample.\n",
    "- Inspect the result to see if the standard deviation equals 1."
   ]
  },
  {
   "cell_type": "code",
   "execution_count": 45,
   "metadata": {},
   "outputs": [],
   "source": [
    "x_bar = mean(sample)\n",
    "s = std(sample, ddof = 1)\n",
    "\n",
    "standardized_sample = []\n",
    "for value in sample:\n",
    "    z = (value - x_bar) / s\n",
    "    standardized_sample.append(z)\n",
    "    \n",
    "stdev_sample = std(standardized_sample, ddof = 1)"
   ]
  },
  {
   "cell_type": "code",
   "execution_count": 46,
   "metadata": {},
   "outputs": [
    {
     "data": {
      "text/plain": [
       "1.0"
      ]
     },
     "execution_count": 46,
     "metadata": {},
     "output_type": "execute_result"
    }
   ],
   "source": [
    "stdev_sample"
   ]
  }
 ],
 "metadata": {
  "kernelspec": {
   "display_name": "Python 3",
   "language": "python",
   "name": "python3"
  },
  "language_info": {
   "codemirror_mode": {
    "name": "ipython",
    "version": 3
   },
   "file_extension": ".py",
   "mimetype": "text/x-python",
   "name": "python",
   "nbconvert_exporter": "python",
   "pygments_lexer": "ipython3",
   "version": "3.6.6"
  }
 },
 "nbformat": 4,
 "nbformat_minor": 2
}
