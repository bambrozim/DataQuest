{
 "cells": [
  {
   "cell_type": "markdown",
   "metadata": {},
   "source": [
    "## The Mean"
   ]
  },
  {
   "cell_type": "code",
   "execution_count": 1,
   "metadata": {},
   "outputs": [],
   "source": [
    "distribution = [0,2,3,3,3,4,13]"
   ]
  },
  {
   "cell_type": "markdown",
   "metadata": {},
   "source": [
    "- We assigned a few values to the distribution variable in the code editor.\n",
    "    - Compute the mean of this distribution and assign the result to a variable named mean.\n",
    "    - Find out whether the value of the mean is at the center of the distribution's range (0 - 13). If it is, assign True to a variable named center, otherwise assign False.\n",
    "    - Check whether the sum of the distances of the values that are below the mean is equal to the sum of the distances of the values that are above the mean.\n",
    "        - Measure the distance of each value from the mean. You can ignore potential values that are equal to the mean because the distances will be 0 for these cases.\n",
    "        - Sum up the distances of the values that are above the mean, and then sum up separately the distances of the values that are below the mean.\n",
    "        - Compare the results of the two sums — if they are equal, assign True to a variable named equal_distances, otherwise assign False."
   ]
  },
  {
   "cell_type": "code",
   "execution_count": 2,
   "metadata": {},
   "outputs": [],
   "source": [
    "mean = sum(distribution)/len(distribution)\n",
    "center = False\n",
    "\n",
    "above = [(mean - value) for value in distribution if value < mean]\n",
    "below = [(value - mean) for value in distribution if value > mean]\n",
    "\n",
    "equal_distances = (sum(above) == sum(below))"
   ]
  },
  {
   "cell_type": "code",
   "execution_count": 3,
   "metadata": {},
   "outputs": [
    {
     "data": {
      "text/plain": [
       "True"
      ]
     },
     "execution_count": 3,
     "metadata": {},
     "output_type": "execute_result"
    }
   ],
   "source": [
    "equal_distances"
   ]
  },
  {
   "cell_type": "markdown",
   "metadata": {},
   "source": [
    "- Generate 5000 different distributions, measure the total distances above and below the mean, and check whether they are equal. For each of the 5000 iterations of a for loop:\n",
    "    - Set a seed using the seed() function from numpy.random. For the first iteration, the seed number should be 0, for the second iteration it should be 1, for the third it should be 2, and so on.\n",
    "    - Generate randomly a distribution of integers using the randint() function from numpy.random. Pass the right arguments to randint() such that each distribution will:\n",
    "        - Have 10 values.\n",
    "        - The values can range from 0 to 1000.\n",
    "    - Compute the mean of the distribution.\n",
    "    - Measure the total distance above and below the mean.\n",
    "        - Round off each distance to 1 decimal place using the round() function. This will prevent rounding errors at the 13th or 14th decimal place.\n",
    "    - Compare the two sums. If they are equal, then increment a variable named equal_distances with 1. You'll need to define equal_distances outside the loop with a value of 0.\n",
    "- At the end equal_distances should have a value of 5000. This will confirm that for each of the 5000 distributions the total distance of the values above the mean is equal to the total distance of the values below the mean."
   ]
  },
  {
   "cell_type": "code",
   "execution_count": 4,
   "metadata": {},
   "outputs": [
    {
     "data": {
      "text/plain": [
       "5000"
      ]
     },
     "execution_count": 4,
     "metadata": {},
     "output_type": "execute_result"
    }
   ],
   "source": [
    "from numpy.random import randint, seed\n",
    "\n",
    "equal_distances = 0\n",
    "\n",
    "for i in range(5000):\n",
    "    seed(i)\n",
    "    distribution = randint(0,1000,10)\n",
    "    mean = sum(distribution) / len(distribution)\n",
    "\n",
    "    above = [(mean - value) for value in distribution if value < mean]\n",
    "    below = [(value - mean) for value in distribution if value > mean]\n",
    "\n",
    "    sum_above = round(sum(above), 1)\n",
    "    sum_below = round(sum(below), 1)\n",
    "    if (sum_above == sum_below):\n",
    "        equal_distances += 1\n",
    "        \n",
    "equal_distances"
   ]
  },
  {
   "cell_type": "markdown",
   "metadata": {},
   "source": [
    "- Indicate whether the following sentences are true or false.\n",
    "    1. We use the symbol $\\mu$ to denote both the population and the sample mean. Assign True or False to a variable named one.\n",
    "    2. If a population has 8 values, then $n = 8$. Assign True or False to a variable named two.\n",
    "    3. $\\bar x$ is a symbol used as an alternative to $M$, $\\bar X$ or $\\bar x_n$ to denote the population mean. Assign True or False to a variable named three."
   ]
  },
  {
   "cell_type": "code",
   "execution_count": 5,
   "metadata": {},
   "outputs": [],
   "source": [
    "one = False\n",
    "two = False\n",
    "three = False"
   ]
  },
  {
   "cell_type": "code",
   "execution_count": 6,
   "metadata": {},
   "outputs": [],
   "source": [
    "distribution_1 = [42, 24, 32, 11]\n",
    "distribution_2 = [102, 32, 74, 15, 38, 45, 22]\n",
    "distribution_3 = [3, 12, 7, 2, 15, 1, 21]"
   ]
  },
  {
   "cell_type": "markdown",
   "metadata": {},
   "source": [
    "- Write a function that behaves just like $\\frac{\\sum_{i=1}^{N} x_i}{N}$.\n",
    "    - The function takes in an array of numbers and returns its mean value.\n",
    "    - Inside the function, write a for loop to iterate over the values in the array and sum them up. We can use sum() to compute the sum of an array without using a for loop, but for learning purposes we advise you to use a for loop just to understand better how $\\frac{\\sum_{i=1}^{N} x_i}{N}$ works.\n",
    "- Use the function you wrote to compute the mean of the three distributions we already defined in the code editor:\n",
    "    - For the distribution in distribution_1 assing the mean to a variable named mean_1.\n",
    "    - For the distribution in distribution_2 assign the mean to a variable named mean_2.\n",
    "    - For the distribution in distribution_3 assign the mean to a variable named mean_3."
   ]
  },
  {
   "cell_type": "code",
   "execution_count": 7,
   "metadata": {},
   "outputs": [],
   "source": [
    "def mean(distribution):\n",
    "    dist_sum = 0\n",
    "    for value in distribution:\n",
    "        dist_sum += value\n",
    "    return (dist_sum/len(distribution))\n",
    "\n",
    "mean_1 = mean(distribution_1)\n",
    "mean_2 = mean(distribution_2)\n",
    "mean_3 = mean(distribution_3)"
   ]
  },
  {
   "cell_type": "code",
   "execution_count": 8,
   "metadata": {},
   "outputs": [
    {
     "data": {
      "text/plain": [
       "27.25"
      ]
     },
     "execution_count": 8,
     "metadata": {},
     "output_type": "execute_result"
    }
   ],
   "source": [
    "mean_1"
   ]
  },
  {
   "cell_type": "code",
   "execution_count": 9,
   "metadata": {},
   "outputs": [
    {
     "data": {
      "text/plain": [
       "46.857142857142854"
      ]
     },
     "execution_count": 9,
     "metadata": {},
     "output_type": "execute_result"
    }
   ],
   "source": [
    "mean_2"
   ]
  },
  {
   "cell_type": "code",
   "execution_count": 10,
   "metadata": {},
   "outputs": [
    {
     "data": {
      "text/plain": [
       "8.714285714285714"
      ]
     },
     "execution_count": 10,
     "metadata": {},
     "output_type": "execute_result"
    }
   ],
   "source": [
    "mean_3"
   ]
  },
  {
   "cell_type": "markdown",
   "metadata": {},
   "source": [
    "- The data set is stored in a file named AmesHousing_1.txt. Read the file as a pandas DataFrame, and store it in a variable named houses.\n",
    "    - The values in each row are tab-separated, which means AmesHousing_1.txt is a TSV (tab-separated value) file. This is different from a CSV (comma-separated values) file, where the values are separated by commas, not by tab a tab character.\n",
    "    - Use the pd.read_table() function or pd.read_csv(sep = '\\t') to read in the data set.\n",
    "- With the help of the documentation and by exploring the data set yourself, asses the truth value of the following sentences:\n",
    "    1. This data set has variables measured on every scale of measurement: nominal, ordinal, interval and ratio. (If you think this is true, assign the boolean True to the variable one, otherwise assign False.)\n",
    "    2. The SalePrice column is continuous and measured on an interval scale. (If you think this is true, assign the boolean True to the variable two, otherwise assign False.)\n",
    "    3. In the paper he published here, professor Dean DeCock wrote \"The initial Excel file contained 113 variables describing 3970 property sales that had occurred in Ames, Iowa between 2006 an 2010\". If we wanted to measure the mean sale prices for all the houses sold between 2006 and 2010 in Ames, Iowa, the data stored in the AmesHousing_1.txt would be a sample. (If you think the last sentence is true, assign the boolean True to the variable three, otherwise assign False.)"
   ]
  },
  {
   "cell_type": "code",
   "execution_count": 11,
   "metadata": {},
   "outputs": [],
   "source": [
    "import pandas as pd\n",
    "\n",
    "houses = pd.read_table(\"AmesHousing_1.txt\")\n",
    "\n",
    "one = True\n",
    "two = False\n",
    "three = True"
   ]
  },
  {
   "cell_type": "markdown",
   "metadata": {},
   "source": [
    "- Use the function you wrote in step 5 to compute the mean of the SalePrice distribution. Assign the result to a variable named function_mean.\n",
    "- Use Series.mean() to compute the mean of the SalePrice distribution. Assign the result to a variable named pandas_mean.\n",
    "- Compare function_mean with pandas_mean using the == operator. Assign the result of the comparison to a variable named means_are_equal.\n",
    "    - The two means should be equal, so we expect the comparison to resolve to True."
   ]
  },
  {
   "cell_type": "code",
   "execution_count": 12,
   "metadata": {},
   "outputs": [],
   "source": [
    "function_mean = mean(houses[\"SalePrice\"])\n",
    "pandas_mean = houses.SalePrice.mean()\n",
    "\n",
    "means_are_equal = (function_mean == pandas_mean)"
   ]
  },
  {
   "cell_type": "code",
   "execution_count": 13,
   "metadata": {},
   "outputs": [
    {
     "data": {
      "text/plain": [
       "180796.0600682594"
      ]
     },
     "execution_count": 13,
     "metadata": {},
     "output_type": "execute_result"
    }
   ],
   "source": [
    "function_mean"
   ]
  },
  {
   "cell_type": "code",
   "execution_count": 14,
   "metadata": {},
   "outputs": [
    {
     "data": {
      "text/plain": [
       "180796.0600682594"
      ]
     },
     "execution_count": 14,
     "metadata": {},
     "output_type": "execute_result"
    }
   ],
   "source": [
    "pandas_mean"
   ]
  },
  {
   "cell_type": "code",
   "execution_count": 15,
   "metadata": {},
   "outputs": [
    {
     "data": {
      "text/plain": [
       "True"
      ]
     },
     "execution_count": 15,
     "metadata": {},
     "output_type": "execute_result"
    }
   ],
   "source": [
    "means_are_equal"
   ]
  },
  {
   "cell_type": "markdown",
   "metadata": {},
   "source": [
    "- Compute the mean of the SalePrice variable. We'll assume that the data we have is a population relative to the question \"What's the mean sale price of a house in Ames, Iowa for the period 2006-2010?\".\n",
    "- For each iteration of a for loop that iterates 100 times:\n",
    "    - Sample the SalePrice distribution using the Series.sample() method.\n",
    "        - For the first iteration the sample size should be 5. For every new iteration increment the sample size by 29 (by incrementing with 29, the last sample size will be 2905, which is close to 2930, the population's size).\n",
    "        - For the first iteration, the random_state parameter is 0, for the second iteration is 1, for the third is 2, and so on.\n",
    "    - Compute the sample mean.\n",
    "    - Compute the sampling error. For answer checking purposes, use $parameter - statistic$, not $statistic - parameter$.\n",
    "- Generate a scatter plot to represent visually how the sampling error changes as the sample size increases.\n",
    "    - Place the sample sizes on the x-axis.\n",
    "    - Place the sampling errors on the y-axis.\n",
    "    - Use plt.axhline() to generate a horizontal line at 0 to illustrate the point where the sampling error is 0.\n",
    "    - Use plt.axvline() to generate a vertical line at 2930 to illustrate the population size.\n",
    "    - Label the x-axis \"Sample size\".\n",
    "    - Label the y-axis \"Sampling error\"."
   ]
  },
  {
   "cell_type": "code",
   "execution_count": 16,
   "metadata": {},
   "outputs": [
    {
     "data": {
      "image/png": "[encoded data removed]",
      "text/plain": [
       "<Figure size 432x288 with 1 Axes>"
      ]
     },
     "metadata": {},
     "output_type": "display_data"
    }
   ],
   "source": [
    "parameter = houses[\"SalePrice\"].mean()\n",
    "\n",
    "sample_size = 5\n",
    "\n",
    "sample_sizes = []\n",
    "sampling_errors = []\n",
    "for i in range(100):\n",
    "    sample = houses[\"SalePrice\"].sample(sample_size, random_state=i)\n",
    "    statistic = sample.mean()\n",
    "    sampling_error = parameter - statistic\n",
    "    sampling_errors.append(sampling_error)\n",
    "    sample_sizes.append(sample_size)\n",
    "    sample_size += 29\n",
    "\n",
    "import matplotlib.pyplot as plt\n",
    "%matplotlib inline\n",
    "\n",
    "plt.scatter(sample_sizes, sampling_errors)\n",
    "plt.axhline(0)\n",
    "plt.axvline(2930)\n",
    "plt.xlabel(\"Sample size\")\n",
    "plt.ylabel(\"Sampling error\");"
   ]
  },
  {
   "cell_type": "markdown",
   "metadata": {},
   "source": [
    "- Take 10000 samples of sample size 100 from the population of sale prices and measure the mean of each sample. For each of the 10000 iterations of a for loop:\n",
    "    - Use Series.sample() to take a sample of size 100 from the SalePrice variable. The random_state parameter is 0 for the first iteration, 1 for the second iteration, 2 for the third iteration, and so on.\n",
    "    - Compute the mean of the sample.\n",
    "- Use plt.hist() to generate a histogram to visualize the distribution of sample means.\n",
    "    - Draw a vertical line for the population mean.\n",
    "    - Label the x-axis \"Sample mean\".\n",
    "    - Label the y-axis \"Frequency\".\n",
    "    - Set the range of the x-axis to (0,500000). This is the same range as the histogram we built above has. Can you observe any obvious difference between the two histograms now that we've increased the sample size?"
   ]
  },
  {
   "cell_type": "code",
   "execution_count": 17,
   "metadata": {},
   "outputs": [
    {
     "data": {
      "image/png": "[encoded data removed]",
      "text/plain": [
       "<Figure size 432x288 with 1 Axes>"
      ]
     },
     "metadata": {},
     "output_type": "display_data"
    }
   ],
   "source": [
    "means = []\n",
    "for i in range(10000):\n",
    "    sample = houses[\"SalePrice\"].sample(100, random_state=i)\n",
    "    means.append(sample.mean())\n",
    "\n",
    "plt.hist(means)\n",
    "plt.axvline(houses[\"SalePrice\"].mean())\n",
    "plt.xlabel(\"Sample mean\")\n",
    "plt.ylabel(\"Frequency\")\n",
    "plt.xlim(0,500000);"
   ]
  },
  {
   "cell_type": "code",
   "execution_count": 18,
   "metadata": {},
   "outputs": [],
   "source": [
    "population = [3, 7, 2]\n",
    "samples = [[3, 7], [3, 2],\n",
    "           [7, 2], [7, 3],\n",
    "           [2, 3], [2, 7]\n",
    "          ]"
   ]
  },
  {
   "cell_type": "markdown",
   "metadata": {},
   "source": [
    "- Check whether the population mean of the population [3, 7, 2] is equal to the mean of all the sample means of size 2 that we can get if we do sampling without replacement.\n",
    "    - Compute the mean for each sample.\n",
    "    - Compute the mean of all the sample means. Compare it with the population mean using the == operator, and assign the result of the comparison to a variable named unbiased."
   ]
  },
  {
   "cell_type": "code",
   "execution_count": 19,
   "metadata": {},
   "outputs": [],
   "source": [
    "sample_means = []\n",
    "for sample in samples:\n",
    "    sample_means.append(sum(sample) / len(sample))\n",
    "    \n",
    "population_mean = sum(population) / len(population)\n",
    "mean_of_sample_means = sum(sample_means) / len(sample_means)\n",
    "\n",
    "unbiased = (population_mean == mean_of_sample_means)"
   ]
  },
  {
   "cell_type": "code",
   "execution_count": 20,
   "metadata": {},
   "outputs": [
    {
     "data": {
      "text/plain": [
       "True"
      ]
     },
     "execution_count": 20,
     "metadata": {},
     "output_type": "execute_result"
    }
   ],
   "source": [
    "unbiased"
   ]
  },
  {
   "cell_type": "markdown",
   "metadata": {},
   "source": [
    "## The Weighted Mean and the Median"
   ]
  },
  {
   "cell_type": "code",
   "execution_count": 21,
   "metadata": {},
   "outputs": [
    {
     "data": {
      "text/plain": [
       "Index(['Order', 'PID', 'MS SubClass', 'MS Zoning', 'Lot Frontage', 'Lot Area',\n",
       "       'Street', 'Alley', 'Lot Shape', 'Land Contour', 'Utilities',\n",
       "       'Lot Config', 'Land Slope', 'Neighborhood', 'Condition 1',\n",
       "       'Condition 2', 'Bldg Type', 'House Style', 'Overall Qual',\n",
       "       'Overall Cond', 'Year Built', 'Year Remod/Add', 'Roof Style',\n",
       "       'Roof Matl', 'Exterior 1st', 'Exterior 2nd', 'Mas Vnr Type',\n",
       "       'Mas Vnr Area', 'Exter Qual', 'Exter Cond', 'Foundation', 'Bsmt Qual',\n",
       "       'Bsmt Cond', 'Bsmt Exposure', 'BsmtFin Type 1', 'BsmtFin SF 1',\n",
       "       'BsmtFin Type 2', 'BsmtFin SF 2', 'Bsmt Unf SF', 'Total Bsmt SF',\n",
       "       'Heating', 'Heating QC', 'Central Air', 'Electrical', '1st Flr SF',\n",
       "       '2nd Flr SF', 'Low Qual Fin SF', 'Gr Liv Area', 'Bsmt Full Bath',\n",
       "       'Bsmt Half Bath', 'Full Bath', 'Half Bath', 'Bedroom AbvGr',\n",
       "       'Kitchen AbvGr', 'Kitchen Qual', 'TotRms AbvGrd', 'Functional',\n",
       "       'Fireplaces', 'Fireplace Qu', 'Garage Type', 'Garage Yr Blt',\n",
       "       'Garage Finish', 'Garage Cars', 'Garage Area', 'Garage Qual',\n",
       "       'Garage Cond', 'Paved Drive', 'Wood Deck SF', 'Open Porch SF',\n",
       "       'Enclosed Porch', '3Ssn Porch', 'Screen Porch', 'Pool Area', 'Pool QC',\n",
       "       'Fence', 'Misc Feature', 'Misc Val', 'Mo Sold', 'Yr Sold', 'Sale Type',\n",
       "       'Sale Condition', 'SalePrice'],\n",
       "      dtype='object')"
      ]
     },
     "execution_count": 21,
     "metadata": {},
     "output_type": "execute_result"
    }
   ],
   "source": [
    "houses.columns"
   ]
  },
  {
   "cell_type": "code",
   "execution_count": 22,
   "metadata": {},
   "outputs": [],
   "source": [
    "import numpy as np\n",
    "\n",
    "data = {'Year': houses['Yr Sold'].agg('unique'),\n",
    "        'Mean Price': houses.groupby('Yr Sold')['SalePrice'].agg(np.mean).values,\n",
    "        'Houses Sold': houses.groupby('Yr Sold')['Order'].agg('count').values\n",
    "       }\n",
    "\n",
    "houses_per_year = pd.DataFrame(data)"
   ]
  },
  {
   "cell_type": "code",
   "execution_count": 23,
   "metadata": {},
   "outputs": [
    {
     "data": {
      "text/html": [
       "<div>\n",
       "<style scoped>\n",
       "    .dataframe tbody tr th:only-of-type {\n",
       "        vertical-align: middle;\n",
       "    }\n",
       "\n",
       "    .dataframe tbody tr th {\n",
       "        vertical-align: top;\n",
       "    }\n",
       "\n",
       "    .dataframe thead th {\n",
       "        text-align: right;\n",
       "    }\n",
       "</style>\n",
       "<table border=\"1\" class=\"dataframe\">\n",
       "  <thead>\n",
       "    <tr style=\"text-align: right;\">\n",
       "      <th></th>\n",
       "      <th>Year</th>\n",
       "      <th>Mean Price</th>\n",
       "      <th>Houses Sold</th>\n",
       "    </tr>\n",
       "  </thead>\n",
       "  <tbody>\n",
       "    <tr>\n",
       "      <th>0</th>\n",
       "      <td>2010</td>\n",
       "      <td>181761.648000</td>\n",
       "      <td>625</td>\n",
       "    </tr>\n",
       "    <tr>\n",
       "      <th>1</th>\n",
       "      <td>2009</td>\n",
       "      <td>185138.207493</td>\n",
       "      <td>694</td>\n",
       "    </tr>\n",
       "    <tr>\n",
       "      <th>2</th>\n",
       "      <td>2008</td>\n",
       "      <td>178841.750804</td>\n",
       "      <td>622</td>\n",
       "    </tr>\n",
       "    <tr>\n",
       "      <th>3</th>\n",
       "      <td>2007</td>\n",
       "      <td>181404.567901</td>\n",
       "      <td>648</td>\n",
       "    </tr>\n",
       "    <tr>\n",
       "      <th>4</th>\n",
       "      <td>2006</td>\n",
       "      <td>172597.598240</td>\n",
       "      <td>341</td>\n",
       "    </tr>\n",
       "  </tbody>\n",
       "</table>\n",
       "</div>"
      ],
      "text/plain": [
       "   Year     Mean Price  Houses Sold\n",
       "0  2010  181761.648000          625\n",
       "1  2009  185138.207493          694\n",
       "2  2008  178841.750804          622\n",
       "3  2007  181404.567901          648\n",
       "4  2006  172597.598240          341"
      ]
     },
     "execution_count": 23,
     "metadata": {},
     "output_type": "execute_result"
    }
   ],
   "source": [
    "houses_per_year"
   ]
  },
  {
   "cell_type": "markdown",
   "metadata": {},
   "source": [
    "- Compute the mean of the Mean Price column in the houses_per_year data set. Assign the value to a variable named mean_new.\n",
    "    - Note that houses_per_year is a DataFrame object, so you can use directly the Series.mean() method.\n",
    "- Compute the mean of the SalePrice column in the houses data set. Assign the value to a variable named mean_original.\n",
    "- Measure the difference between the two means, and assign the result to a variable named difference. If they are equal, the difference should be 0.\n",
    "    - For answer checking purposes use mean_original - mean_new, not mean_new - mean_original."
   ]
  },
  {
   "cell_type": "code",
   "execution_count": 24,
   "metadata": {},
   "outputs": [],
   "source": [
    "mean_new = houses_per_year[\"Mean Price\"].mean()\n",
    "\n",
    "mean_original = houses[\"SalePrice\"].mean()\n",
    "\n",
    "difference = mean_original - mean_new"
   ]
  },
  {
   "cell_type": "code",
   "execution_count": 25,
   "metadata": {},
   "outputs": [
    {
     "data": {
      "text/plain": [
       "179948.75448767154"
      ]
     },
     "execution_count": 25,
     "metadata": {},
     "output_type": "execute_result"
    }
   ],
   "source": [
    "mean_new"
   ]
  },
  {
   "cell_type": "code",
   "execution_count": 26,
   "metadata": {},
   "outputs": [
    {
     "data": {
      "text/plain": [
       "180796.0600682594"
      ]
     },
     "execution_count": 26,
     "metadata": {},
     "output_type": "execute_result"
    }
   ],
   "source": [
    "mean_original"
   ]
  },
  {
   "cell_type": "code",
   "execution_count": 27,
   "metadata": {},
   "outputs": [
    {
     "data": {
      "text/plain": [
       "847.3055805878539"
      ]
     },
     "execution_count": 27,
     "metadata": {},
     "output_type": "execute_result"
    }
   ],
   "source": [
    "difference"
   ]
  },
  {
   "cell_type": "markdown",
   "metadata": {},
   "source": [
    "- Using only the data we have in the houses_per_year data set, compute the sum of prices for each year.\n",
    "- Add all the sums together.\n",
    "- Divide the final sum by the total number of houses sold. Assign the result to a variable named weighted_mean.\n",
    "- Compute again the mean of the SalePrice column in the houses data set. Assign the value to a variable named mean_original.\n",
    "- Round each mean value to 10 decimal places to get rid of minor rounding errors and then measure the difference between the two means. Assign the result to a variable named difference. If the two means are equal, you should get a difference of 0."
   ]
  },
  {
   "cell_type": "code",
   "execution_count": 28,
   "metadata": {},
   "outputs": [],
   "source": [
    "houses_per_year[\"sum_per_year\"] = houses_per_year[\"Mean Price\"] * houses_per_year[\"Houses Sold\"]\n",
    "all_sums_together = houses_per_year[\"sum_per_year\"].sum()\n",
    "total_n_houses = houses_per_year[\"Houses Sold\"].sum()\n",
    "weighted_mean = all_sums_together / total_n_houses\n",
    "\n",
    "difference = round(mean_original, 10) - round(weighted_mean, 10)"
   ]
  },
  {
   "cell_type": "code",
   "execution_count": 29,
   "metadata": {},
   "outputs": [
    {
     "data": {
      "text/plain": [
       "0.0"
      ]
     },
     "execution_count": 29,
     "metadata": {},
     "output_type": "execute_result"
    }
   ],
   "source": [
    "difference"
   ]
  },
  {
   "cell_type": "markdown",
   "metadata": {},
   "source": [
    "- Write a function that computes the weighted mean for any array of numbers.\n",
    "    - The function should take in two arrays: one array containing the mean values, and another array with the corresponding weights.\n",
    "    - The function returns the weighted mean.\n",
    "- Use the function you wrote to compute the weighted mean for the Mean Price column in the houses_per_year data set. Assign the result to a variable named weighted_mean_function.\n",
    "- Use the numpy.average() function to compute the weighted mean for the same Mean Price column. Read the documentation to figure out how you can pass in the weights. Assign the result to a variable named weighted_mean_numpy.\n",
    "- Compare the two weighted means (the one from your function and the one from np.average()) using the == operator. Round each mean to 10 decimal places to get rid of minor rounding errors. Assign the result to a variable named equal."
   ]
  },
  {
   "cell_type": "code",
   "execution_count": 30,
   "metadata": {},
   "outputs": [],
   "source": [
    "def weighted_mean(distribution, weights):\n",
    "    weighted_sum = []\n",
    "    for mean, weight in zip(distribution, weights):\n",
    "        weighted_sum.append(mean * weight)\n",
    "    \n",
    "    return sum(weighted_sum) / sum(weights)\n",
    "\n",
    "weighted_mean_function = weighted_mean(houses_per_year['Mean Price'], houses_per_year['Houses Sold'])\n",
    "\n",
    "from numpy import average\n",
    "weighted_mean_numpy = average(houses_per_year['Mean Price'], weights = houses_per_year['Houses Sold'])\n",
    "\n",
    "equal = round(weighted_mean_function, 10) == round(weighted_mean_numpy, 10)"
   ]
  },
  {
   "cell_type": "code",
   "execution_count": 31,
   "metadata": {},
   "outputs": [
    {
     "data": {
      "text/plain": [
       "True"
      ]
     },
     "execution_count": 31,
     "metadata": {},
     "output_type": "execute_result"
    }
   ],
   "source": [
    "equal"
   ]
  },
  {
   "cell_type": "code",
   "execution_count": 32,
   "metadata": {},
   "outputs": [],
   "source": [
    "distribution1 = [23, 24, 22, '20 years or lower,', 23, 42, 35]\n",
    "distribution2 = [55, 38, 123, 40, 71]\n",
    "distribution3 = [45, 22, 7, '5 books or lower', 32, 65, '100 books or more']"
   ]
  },
  {
   "cell_type": "markdown",
   "metadata": {},
   "source": [
    "- Compute the median for each of the three distributions we already defined in the code editor.\n",
    "    - Assign the median of distribution1 to a variable named median1.\n",
    "    - Assign the median of distribution2 to a variable named median2.\n",
    "    - Assign the median of distribution3 to a variable named median3."
   ]
  },
  {
   "cell_type": "code",
   "execution_count": 33,
   "metadata": {},
   "outputs": [],
   "source": [
    "median1 = 23\n",
    "median2 = 55\n",
    "median3 = 32"
   ]
  },
  {
   "cell_type": "markdown",
   "metadata": {},
   "source": [
    "- Find the median value of the TotRms AbvGrd column.\n",
    "    - Sort the values in the column in ascending order.\n",
    "        - Replace the '10 or more' value with the integer 10 using the Series.replace() method. We do this only for sorting purposes. To avoid modifying the data in the original data set, make a copy of the column using the Series.copy() method and save it to a distinct variable.\n",
    "        - Convert the column to the int type using the Series.astype() method.\n",
    "        - Sort the values in ascending order using the Series.sort_values() method.\n",
    "    - Depending on whether the distribution has an odd or even number of values, find the median and assign it to a variable named median."
   ]
  },
  {
   "cell_type": "code",
   "execution_count": 34,
   "metadata": {},
   "outputs": [],
   "source": [
    "rooms = houses[\"TotRms AbvGrd\"].copy().replace({\"10 or more\": 10}).astype(int)\n",
    "rooms_sorted = rooms.sort_values()\n",
    "\n",
    "middle_indices = [int((len(rooms_sorted) / 2)), int((len(rooms_sorted) / 2 + 1))]\n",
    "\n",
    "middle_values = rooms_sorted.iloc[middle_indices]\n",
    "median = middle_values.mean()"
   ]
  },
  {
   "cell_type": "code",
   "execution_count": 35,
   "metadata": {},
   "outputs": [
    {
     "data": {
      "text/plain": [
       "6.0"
      ]
     },
     "execution_count": 35,
     "metadata": {},
     "output_type": "execute_result"
    }
   ],
   "source": [
    "median"
   ]
  },
  {
   "cell_type": "markdown",
   "metadata": {},
   "source": [
    "- The Lot Area and SalePrice variables have outliers. Confirm this information by visualizing the distributions using a box plot. Remember from the previous course that outliers will appear as dots on the graph.\n",
    "    - You can use the Series.plot.box() method.\n",
    "- Compute the median and the mean for each of the two variables.\n",
    "    - Because the variables are numerical, you can use the Series.median() method and the Series.mean() method.\n",
    "- For each variable, compute the difference between the mean and the median. For answer checking purposes, use mean - median, not median - mean.\n",
    "    - Assign the difference for the Lot Area column to a variable named lotarea_difference.\n",
    "    - Assign the difference for the SalePrice column to a variable named saleprice_difference."
   ]
  },
  {
   "cell_type": "code",
   "execution_count": 36,
   "metadata": {},
   "outputs": [
    {
     "data": {
      "image/png": "[encoded data removed]",
      "text/plain": [
       "<Figure size 432x288 with 1 Axes>"
      ]
     },
     "metadata": {},
     "output_type": "display_data"
    },
    {
     "data": {
      "image/png": "[encoded data removed]",
      "text/plain": [
       "<Figure size 432x288 with 1 Axes>"
      ]
     },
     "metadata": {},
     "output_type": "display_data"
    }
   ],
   "source": [
    "houses[\"Lot Area\"].plot.box()\n",
    "plt.show()\n",
    "\n",
    "houses[\"SalePrice\"].plot.box()\n",
    "plt.show()\n",
    "\n",
    "lotarea_difference = houses[\"Lot Area\"].mean() - houses[\"Lot Area\"].median()\n",
    "saleprice_difference = houses[\"SalePrice\"].mean() - houses[\"SalePrice\"].median()"
   ]
  },
  {
   "cell_type": "code",
   "execution_count": 37,
   "metadata": {},
   "outputs": [
    {
     "data": {
      "text/plain": [
       "3680.7051194539254"
      ]
     },
     "execution_count": 37,
     "metadata": {},
     "output_type": "execute_result"
    }
   ],
   "source": [
    "lotarea_difference"
   ]
  },
  {
   "cell_type": "code",
   "execution_count": 38,
   "metadata": {},
   "outputs": [
    {
     "data": {
      "text/plain": [
       "20796.060068259394"
      ]
     },
     "execution_count": 38,
     "metadata": {},
     "output_type": "execute_result"
    }
   ],
   "source": [
    "saleprice_difference"
   ]
  },
  {
   "cell_type": "markdown",
   "metadata": {},
   "source": [
    "- Find the mean and the median of the Overall Cond variable.\n",
    "    - Assign the mean to a variable named mean.\n",
    "    - Assign the median to a variable named median.\n",
    "- Plot a histogram to visualize the distribution of the Overall Cond variable. Between the mean and the median, which one do you think describes better the shape of the histogram?\n",
    "    - If you think it's the mean, assign the string 'mean' to a variable named more_representative, otherwise assign 'median'."
   ]
  },
  {
   "cell_type": "code",
   "execution_count": 39,
   "metadata": {},
   "outputs": [
    {
     "data": {
      "text/plain": [
       "<matplotlib.axes._subplots.AxesSubplot at 0x214f2dfbbe0>"
      ]
     },
     "execution_count": 39,
     "metadata": {},
     "output_type": "execute_result"
    },
    {
     "data": {
      "image/png": "[encoded data removed]",
      "text/plain": [
       "<Figure size 432x288 with 1 Axes>"
      ]
     },
     "metadata": {},
     "output_type": "display_data"
    }
   ],
   "source": [
    "mean = houses[\"Overall Cond\"].mean()\n",
    "median = houses[\"Overall Cond\"].median()\n",
    "\n",
    "houses[\"Overall Cond\"].plot.hist()"
   ]
  },
  {
   "cell_type": "code",
   "execution_count": 40,
   "metadata": {},
   "outputs": [
    {
     "data": {
      "text/plain": [
       "5.563139931740614"
      ]
     },
     "execution_count": 40,
     "metadata": {},
     "output_type": "execute_result"
    }
   ],
   "source": [
    "mean"
   ]
  },
  {
   "cell_type": "code",
   "execution_count": 41,
   "metadata": {},
   "outputs": [
    {
     "data": {
      "text/plain": [
       "5.0"
      ]
     },
     "execution_count": 41,
     "metadata": {},
     "output_type": "execute_result"
    }
   ],
   "source": [
    "median"
   ]
  },
  {
   "cell_type": "code",
   "execution_count": 42,
   "metadata": {},
   "outputs": [],
   "source": [
    "more_representative = \"mean\""
   ]
  },
  {
   "cell_type": "markdown",
   "metadata": {},
   "source": [
    "## The Mode"
   ]
  },
  {
   "cell_type": "markdown",
   "metadata": {},
   "source": [
    "- Explore the Land Slope column to find its scale of measurement. Refer to the documentation to find the data dictionary of this column.\n",
    "    - Assign your answer as a string to the variable scale_land. Depending on the scale of measurement, choose between these following strings: 'nominal', 'ordinal', 'interval', and 'ratio'.\n",
    "- Explore the Roof Style variable and find its scale of measurement. Assign your answer as a string to a variable named scale_roof (choose between the four strings listed above).\n",
    "    - What measure of average would you choose for this column?\n",
    "- Explore the Kitchen AbvGr variable and determine whether it's continuous or discrete. Assign your answer as a string to a variable named kitchen_variable — the string should be either 'continuous', or 'discrete'."
   ]
  },
  {
   "cell_type": "code",
   "execution_count": 43,
   "metadata": {},
   "outputs": [],
   "source": [
    "scale_land = \"ordinal\"\n",
    "scale_roof = \"nominal\"\n",
    "kitchen_variable = \"discrete\""
   ]
  },
  {
   "cell_type": "markdown",
   "metadata": {},
   "source": [
    "- Write a function that takes in an array of values (including strings) and returns the mode of that array. Inside the function's definition:\n",
    "    - Initialize an empty dictionary.\n",
    "    - Loop through the values of the array that the function takes in. For each iteration of the loop:\n",
    "        - If the value is already a key in the dictionary we initialized before the loop, increment its dictionary value by 1.\n",
    "        - Else, define the value as a key in the dictionary, and set the initial dictionary value to 1.\n",
    "    - You should end up with a dictionary containing the unique values of the array as dictionary keys and the count for each unique value as a dictionary value: example_dictionary = {'unique_value1': 230, 'unique_value2': 23, 'unique_value3': 328}.\n",
    "    - Return the key with the highest count (this key is the mode of the array). For instance, for the example_dictionary above, you should return the string unique_value3.\n",
    "        - You can use this technique to return the key corresponding to the highest value.\n",
    "- Using the function you wrote, measure the mode of the Land Slope variable, and assign the result to a variable named mode_function.\n",
    "- Using the Series.mode() method, measure the mode of the Land Slope variable, and assign the result to a variable named mode_method.\n",
    "- Compare the two modes using the == operator to check whether they are the same and assign the result of the comparison to a variable named same."
   ]
  },
  {
   "cell_type": "code",
   "execution_count": 44,
   "metadata": {},
   "outputs": [],
   "source": [
    "def mode(array):\n",
    "    counts = {}\n",
    "    for value in array:\n",
    "        if value in counts:\n",
    "            counts[value] += 1\n",
    "        else:\n",
    "            counts[value] = 1\n",
    "    return max(counts, key=counts.get)\n",
    "\n",
    "mode_function = mode(houses[\"Land Slope\"])\n",
    "mode_method = houses[\"Land Slope\"].mode()\n",
    "same = (mode_function == mode_method)"
   ]
  },
  {
   "cell_type": "code",
   "execution_count": 45,
   "metadata": {},
   "outputs": [
    {
     "data": {
      "text/plain": [
       "'Gtl'"
      ]
     },
     "execution_count": 45,
     "metadata": {},
     "output_type": "execute_result"
    }
   ],
   "source": [
    "mode_function"
   ]
  },
  {
   "cell_type": "code",
   "execution_count": 46,
   "metadata": {},
   "outputs": [
    {
     "data": {
      "text/plain": [
       "0    Gtl\n",
       "dtype: object"
      ]
     },
     "execution_count": 46,
     "metadata": {},
     "output_type": "execute_result"
    }
   ],
   "source": [
    "mode_method"
   ]
  },
  {
   "cell_type": "code",
   "execution_count": 47,
   "metadata": {},
   "outputs": [
    {
     "data": {
      "text/plain": [
       "0    True\n",
       "dtype: bool"
      ]
     },
     "execution_count": 47,
     "metadata": {},
     "output_type": "execute_result"
    }
   ],
   "source": [
    "same"
   ]
  },
  {
   "cell_type": "markdown",
   "metadata": {},
   "source": [
    "- Edit the function you wrote to return both the mode of an array and the dictionary containing the count for each unique value in the array.\n",
    "- Use the edited function to return, at the same time, the mode of the Roof Style variable and the dictionary containing the counts for each unique value.\n",
    "    - Assign the mode to a variable named 'mode'.\n",
    "    - Assign the dictionary to a variable named value_counts.\n",
    "- Inspect the content of value_counts and compare it to the value count we'd get by using the Series.value_counts() method.\n",
    "    - This exercise is meant to give you a better understanding of what happens under the hood when we run Series.value_counts()."
   ]
  },
  {
   "cell_type": "code",
   "execution_count": 48,
   "metadata": {},
   "outputs": [],
   "source": [
    "def mode(array):\n",
    "    counts = {}\n",
    "    for value in array:\n",
    "        if value in counts:\n",
    "            counts[value] += 1\n",
    "        else:\n",
    "            counts[value] = 1\n",
    "    return (max(counts, key = counts.get), counts)\n",
    "\n",
    "mode, value_counts = mode(houses[\"Roof Style\"])"
   ]
  },
  {
   "cell_type": "code",
   "execution_count": 49,
   "metadata": {},
   "outputs": [
    {
     "data": {
      "text/plain": [
       "'Gable'"
      ]
     },
     "execution_count": 49,
     "metadata": {},
     "output_type": "execute_result"
    }
   ],
   "source": [
    "mode"
   ]
  },
  {
   "cell_type": "code",
   "execution_count": 50,
   "metadata": {},
   "outputs": [
    {
     "data": {
      "text/plain": [
       "{'Hip': 551,\n",
       " 'Gable': 2321,\n",
       " 'Mansard': 11,\n",
       " 'Gambrel': 22,\n",
       " 'Shed': 5,\n",
       " 'Flat': 20}"
      ]
     },
     "execution_count": 50,
     "metadata": {},
     "output_type": "execute_result"
    }
   ],
   "source": [
    "value_counts"
   ]
  },
  {
   "cell_type": "markdown",
   "metadata": {},
   "source": [
    "- Explore the Bedroom AbvGr variable, and find whether it's discrete or continuous. You can also refer to the documentation.\n",
    "    - If it's discrete, assign the string 'discrete' to a variable named bedroom_variable, otherwise assign 'continuous'.\n",
    "    - If it's discrete, compute its mode using Series.mode() and assign the result to a variable named bedroom_mode.\n",
    "- Find whether the SalePrice variable is discrete or continuous.\n",
    "    - If it's discrete, assign the string 'discrete' to a variable named price_variable, otherwise assign 'continuous'.\n",
    "    - If it's discrete, compute its mode using Series.mode() and assign the result to a variable named price_mode."
   ]
  },
  {
   "cell_type": "code",
   "execution_count": 51,
   "metadata": {},
   "outputs": [],
   "source": [
    "bedroom_variable = \"discrete\"\n",
    "bedroom_mode = houses[\"Bedroom AbvGr\"].mode()\n",
    "price_variable = \"continuous\""
   ]
  },
  {
   "cell_type": "code",
   "execution_count": 52,
   "metadata": {},
   "outputs": [
    {
     "data": {
      "text/plain": [
       "0    3\n",
       "dtype: int64"
      ]
     },
     "execution_count": 52,
     "metadata": {},
     "output_type": "execute_result"
    }
   ],
   "source": [
    "bedroom_mode"
   ]
  },
  {
   "cell_type": "code",
   "execution_count": 53,
   "metadata": {},
   "outputs": [
    {
     "data": {
      "text/plain": [
       "(0, 100000]          252\n",
       "(100000, 200000]    1821\n",
       "(200000, 300000]     627\n",
       "(300000, 400000]     166\n",
       "(400000, 500000]      47\n",
       "(500000, 600000]      11\n",
       "(600000, 700000]       4\n",
       "(700000, 800000]       2\n",
       "dtype: int64"
      ]
     },
     "execution_count": 53,
     "metadata": {},
     "output_type": "execute_result"
    }
   ],
   "source": [
    "intervals = pd.interval_range(start = 0, end = 800000, freq = 100000)\n",
    "gr_freq_table = pd.Series([0,0,0,0,0,0,0,0], index = intervals)\n",
    "\n",
    "for value in houses['SalePrice']:\n",
    "    for interval in intervals:\n",
    "        if value in interval:\n",
    "            gr_freq_table.loc[interval] += 1\n",
    "            break\n",
    "\n",
    "gr_freq_table"
   ]
  },
  {
   "cell_type": "markdown",
   "metadata": {},
   "source": [
    "- Using only what we learned in the previous course, we already created a grouped frequency table for the SalePrice variable (in the code editor, you can see the code we used):\n",
    "- Find the class interval with the highest frequency, then find its midpoint. For instance, the midpoint of the class interval (0, 100000] is 50000.\n",
    "    - Assign the midpoint value to a variable named mode. Make sure the value you assign is of the int type.\n",
    "- Find the mean of the SalePrice column and assign it to a variable named mean.\n",
    "- Find the median of the SalePrice column and assign it to a variable named median.\n",
    "- Asses the truth value of the following sentences:\n",
    "    1. The mode is lower than the median, and the median is lower than the mean.\n",
    "        - If you think this is true, assign the boolean True to a variable named sentence_1, otherwise assign False.\n",
    "    2. The mean is greater than the median, and the median is greater than the mode.\n",
    "        - Assign True or False to a variable named sentence_2."
   ]
  },
  {
   "cell_type": "code",
   "execution_count": 54,
   "metadata": {},
   "outputs": [],
   "source": [
    "midpoint = 150000\n",
    "mean = houses['SalePrice'].mean()\n",
    "median = houses['SalePrice'].median()\n",
    "\n",
    "sentence_1 = True\n",
    "sentence_2 = True"
   ]
  },
  {
   "cell_type": "code",
   "execution_count": 55,
   "metadata": {},
   "outputs": [],
   "source": [
    "distribution_1 = {'mean': 3021 , 'median': 3001, 'mode': 2947}\n",
    "distribution_2 = {'median': 924 , 'mode': 832, 'mean': 962}\n",
    "distribution_3 = {'mode': 202, 'mean': 143, 'median': 199}"
   ]
  },
  {
   "cell_type": "markdown",
   "metadata": {},
   "source": [
    "- In the code editor you can see the mean, mode and median for three distributions. Indicate whether the mean, median, and mode of each distribution suggest a left or a right skew.\n",
    "    - If the values for distribution_1 indicate a right skew, assign the string 'right skew' to a variable named shape_1, otherwise assign 'left skew'.\n",
    "    - If the values for distribution_2 indicate a right skew, assign the string 'right skew' to a variable named shape_2, otherwise assign 'left skew'.\n",
    "    - If the values for distribution_3 indicate a right skew, assign the string 'right skew' to a variable named shape_3, otherwise assign 'left skew'."
   ]
  },
  {
   "cell_type": "code",
   "execution_count": 56,
   "metadata": {},
   "outputs": [],
   "source": [
    "shape_1 = 'right skew'\n",
    "shape_2 = 'right skew'\n",
    "shape_3 = 'left skew'"
   ]
  },
  {
   "cell_type": "markdown",
   "metadata": {},
   "source": [
    "- The distribution of the Mo Sold variable (which describes the month of a sale) is close to normal.\n",
    "    - Plot a kernel density plot for this distribution using Series.plot.kde().\n",
    "    - The lower boundary of the x-axis should be 1 and the upper one 12. You can use the xlim parameter of the Series.plot.kde() method.\n",
    "    - Plot three vertical lines:\n",
    "        - One for the mode — the color of the line should be green and its label should be 'Mode'.\n",
    "        - One for the median — the color of the line should be orange and its label should be 'Median'.\n",
    "        - One for the mean — the color of the line should be black and its label should be 'Mean'.\n",
    "    - Display all the labels using a legend (you can activate the legend using plt.legend().\n",
    "- You should observe the mean, the median, and the mode clustered together in the center of the distribution."
   ]
  },
  {
   "cell_type": "code",
   "execution_count": 57,
   "metadata": {},
   "outputs": [
    {
     "data": {
      "image/png": "[encoded data removed]",
      "text/plain": [
       "<Figure size 432x288 with 1 Axes>"
      ]
     },
     "metadata": {},
     "output_type": "display_data"
    }
   ],
   "source": [
    "houses[\"Mo Sold\"].plot.kde(xlim=[1, 12])\n",
    "\n",
    "plt.axvline(houses[\"Mo Sold\"].mode()[0], label=\"Mode\", color=\"green\")\n",
    "plt.axvline(houses[\"Mo Sold\"].median(), label=\"Median\", color=\"orange\")\n",
    "plt.axvline(houses[\"Mo Sold\"].mean(), label=\"Mean\", color=\"black\")\n",
    "plt.legend();"
   ]
  }
 ],
 "metadata": {
  "kernelspec": {
   "display_name": "Python 3",
   "language": "python",
   "name": "python3"
  },
  "language_info": {
   "codemirror_mode": {
    "name": "ipython",
    "version": 3
   },
   "file_extension": ".py",
   "mimetype": "text/x-python",
   "name": "python",
   "nbconvert_exporter": "python",
   "pygments_lexer": "ipython3",
   "version": "3.6.6"
  }
 },
 "nbformat": 4,
 "nbformat_minor": 2
}
