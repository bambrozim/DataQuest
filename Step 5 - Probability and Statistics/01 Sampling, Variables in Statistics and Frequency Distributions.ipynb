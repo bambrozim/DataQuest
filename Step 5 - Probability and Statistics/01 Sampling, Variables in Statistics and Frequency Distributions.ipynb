{
 "cells": [
  {
   "cell_type": "markdown",
   "metadata": {},
   "source": [
    "## Sampling"
   ]
  },
  {
   "cell_type": "markdown",
   "metadata": {},
   "source": [
    "- What's the average salary of the individuals in our company working in IT roles? (Assign either 'population' or 'sample' to the variable question1.)\n",
    "- What's the proportion of individuals in the IT department having salaries under \\$60000? (Assign either 'population' or 'sample' to the variable question2.)\n",
    "- What's the minimum salary in the entire company? (Assign either 'population' or 'sample' to the variable question3.)\n",
    "- What's the minimum salary in the IT department of our company? (Assign either 'population' or 'sample' to the variable question4.)\n",
    "- What's the proportion of salaries under $20000 in the entire company? (Assign either 'population' or 'sample' to the variable question5.)"
   ]
  },
  {
   "cell_type": "code",
   "execution_count": 1,
   "metadata": {},
   "outputs": [],
   "source": [
    "question1 = 'population'\n",
    "question2 = 'population'\n",
    "question3 = 'sample'\n",
    "question4 = 'population'\n",
    "question5 = 'sample'"
   ]
  },
  {
   "cell_type": "markdown",
   "metadata": {},
   "source": [
    "- Get familiar with the data set.\n",
    "    - Print the first five rows using DataFrame.head() and the last five rows with DataFrame.tail().\n",
    "    - Find the number of rows and columns using DataFrame.shape.\n",
    "- Take one measure of the sampling error.\n",
    "    - Use the Games Played column to find the maximum number of games played by a player in the season 2016-2017. The data set contains all the players that had at least one game, so it's a population relative to our question. Find this parameter, and assign the result to a variable named parameter.\n",
    "    - Using the Series.sample() method, sample randomly 30 players from the population, and assign the result to a variable named sample.\n",
    "    - When calling Series.sample(), use the the argument random_state = 1. This makes your results reproducible and helps us with the answer checking (we'll discuss more about this in the next screen).\n",
    "    - Find the maximum number of games using the sample, and assign the result to a variable named statistic.\n",
    "    - Measure the sampling error, and assign the result to a variable named sampling_error."
   ]
  },
  {
   "cell_type": "code",
   "execution_count": 36,
   "metadata": {},
   "outputs": [],
   "source": [
    "import pandas as pd\n",
    "\n",
    "wnba = pd.read_csv('wnba.csv')"
   ]
  },
  {
   "cell_type": "code",
   "execution_count": 3,
   "metadata": {},
   "outputs": [
    {
     "data": {
      "text/html": [
       "<div>\n",
       "<style scoped>\n",
       "    .dataframe tbody tr th:only-of-type {\n",
       "        vertical-align: middle;\n",
       "    }\n",
       "\n",
       "    .dataframe tbody tr th {\n",
       "        vertical-align: top;\n",
       "    }\n",
       "\n",
       "    .dataframe thead th {\n",
       "        text-align: right;\n",
       "    }\n",
       "</style>\n",
       "<table border=\"1\" class=\"dataframe\">\n",
       "  <thead>\n",
       "    <tr style=\"text-align: right;\">\n",
       "      <th></th>\n",
       "      <th>Name</th>\n",
       "      <th>Team</th>\n",
       "      <th>Pos</th>\n",
       "      <th>Height</th>\n",
       "      <th>Weight</th>\n",
       "      <th>BMI</th>\n",
       "      <th>Birth_Place</th>\n",
       "      <th>Birthdate</th>\n",
       "      <th>Age</th>\n",
       "      <th>College</th>\n",
       "      <th>...</th>\n",
       "      <th>OREB</th>\n",
       "      <th>DREB</th>\n",
       "      <th>REB</th>\n",
       "      <th>AST</th>\n",
       "      <th>STL</th>\n",
       "      <th>BLK</th>\n",
       "      <th>TO</th>\n",
       "      <th>PTS</th>\n",
       "      <th>DD2</th>\n",
       "      <th>TD3</th>\n",
       "    </tr>\n",
       "  </thead>\n",
       "  <tbody>\n",
       "    <tr>\n",
       "      <th>0</th>\n",
       "      <td>Aerial Powers</td>\n",
       "      <td>DAL</td>\n",
       "      <td>F</td>\n",
       "      <td>183</td>\n",
       "      <td>71.0</td>\n",
       "      <td>21.200991</td>\n",
       "      <td>US</td>\n",
       "      <td>January 17, 1994</td>\n",
       "      <td>23</td>\n",
       "      <td>Michigan State</td>\n",
       "      <td>...</td>\n",
       "      <td>6</td>\n",
       "      <td>22</td>\n",
       "      <td>28</td>\n",
       "      <td>12</td>\n",
       "      <td>3</td>\n",
       "      <td>6</td>\n",
       "      <td>12</td>\n",
       "      <td>93</td>\n",
       "      <td>0</td>\n",
       "      <td>0</td>\n",
       "    </tr>\n",
       "    <tr>\n",
       "      <th>1</th>\n",
       "      <td>Alana Beard</td>\n",
       "      <td>LA</td>\n",
       "      <td>G/F</td>\n",
       "      <td>185</td>\n",
       "      <td>73.0</td>\n",
       "      <td>21.329438</td>\n",
       "      <td>US</td>\n",
       "      <td>May 14, 1982</td>\n",
       "      <td>35</td>\n",
       "      <td>Duke</td>\n",
       "      <td>...</td>\n",
       "      <td>19</td>\n",
       "      <td>82</td>\n",
       "      <td>101</td>\n",
       "      <td>72</td>\n",
       "      <td>63</td>\n",
       "      <td>13</td>\n",
       "      <td>40</td>\n",
       "      <td>217</td>\n",
       "      <td>0</td>\n",
       "      <td>0</td>\n",
       "    </tr>\n",
       "    <tr>\n",
       "      <th>2</th>\n",
       "      <td>Alex Bentley</td>\n",
       "      <td>CON</td>\n",
       "      <td>G</td>\n",
       "      <td>170</td>\n",
       "      <td>69.0</td>\n",
       "      <td>23.875433</td>\n",
       "      <td>US</td>\n",
       "      <td>October 27, 1990</td>\n",
       "      <td>26</td>\n",
       "      <td>Penn State</td>\n",
       "      <td>...</td>\n",
       "      <td>4</td>\n",
       "      <td>36</td>\n",
       "      <td>40</td>\n",
       "      <td>78</td>\n",
       "      <td>22</td>\n",
       "      <td>3</td>\n",
       "      <td>24</td>\n",
       "      <td>218</td>\n",
       "      <td>0</td>\n",
       "      <td>0</td>\n",
       "    </tr>\n",
       "    <tr>\n",
       "      <th>3</th>\n",
       "      <td>Alex Montgomery</td>\n",
       "      <td>SAN</td>\n",
       "      <td>G/F</td>\n",
       "      <td>185</td>\n",
       "      <td>84.0</td>\n",
       "      <td>24.543462</td>\n",
       "      <td>US</td>\n",
       "      <td>December 11, 1988</td>\n",
       "      <td>28</td>\n",
       "      <td>Georgia Tech</td>\n",
       "      <td>...</td>\n",
       "      <td>35</td>\n",
       "      <td>134</td>\n",
       "      <td>169</td>\n",
       "      <td>65</td>\n",
       "      <td>20</td>\n",
       "      <td>10</td>\n",
       "      <td>38</td>\n",
       "      <td>188</td>\n",
       "      <td>2</td>\n",
       "      <td>0</td>\n",
       "    </tr>\n",
       "    <tr>\n",
       "      <th>4</th>\n",
       "      <td>Alexis Jones</td>\n",
       "      <td>MIN</td>\n",
       "      <td>G</td>\n",
       "      <td>175</td>\n",
       "      <td>78.0</td>\n",
       "      <td>25.469388</td>\n",
       "      <td>US</td>\n",
       "      <td>August 5, 1994</td>\n",
       "      <td>23</td>\n",
       "      <td>Baylor</td>\n",
       "      <td>...</td>\n",
       "      <td>3</td>\n",
       "      <td>9</td>\n",
       "      <td>12</td>\n",
       "      <td>12</td>\n",
       "      <td>7</td>\n",
       "      <td>0</td>\n",
       "      <td>14</td>\n",
       "      <td>50</td>\n",
       "      <td>0</td>\n",
       "      <td>0</td>\n",
       "    </tr>\n",
       "  </tbody>\n",
       "</table>\n",
       "<p>5 rows × 32 columns</p>\n",
       "</div>"
      ],
      "text/plain": [
       "              Name Team  Pos  Height  Weight        BMI Birth_Place  \\\n",
       "0    Aerial Powers  DAL    F     183    71.0  21.200991          US   \n",
       "1      Alana Beard   LA  G/F     185    73.0  21.329438          US   \n",
       "2     Alex Bentley  CON    G     170    69.0  23.875433          US   \n",
       "3  Alex Montgomery  SAN  G/F     185    84.0  24.543462          US   \n",
       "4     Alexis Jones  MIN    G     175    78.0  25.469388          US   \n",
       "\n",
       "           Birthdate  Age         College ...  OREB  DREB  REB  AST  STL  BLK  \\\n",
       "0   January 17, 1994   23  Michigan State ...     6    22   28   12    3    6   \n",
       "1       May 14, 1982   35            Duke ...    19    82  101   72   63   13   \n",
       "2   October 27, 1990   26      Penn State ...     4    36   40   78   22    3   \n",
       "3  December 11, 1988   28    Georgia Tech ...    35   134  169   65   20   10   \n",
       "4     August 5, 1994   23          Baylor ...     3     9   12   12    7    0   \n",
       "\n",
       "   TO  PTS  DD2  TD3  \n",
       "0  12   93    0    0  \n",
       "1  40  217    0    0  \n",
       "2  24  218    0    0  \n",
       "3  38  188    2    0  \n",
       "4  14   50    0    0  \n",
       "\n",
       "[5 rows x 32 columns]"
      ]
     },
     "execution_count": 3,
     "metadata": {},
     "output_type": "execute_result"
    }
   ],
   "source": [
    "wnba.head()"
   ]
  },
  {
   "cell_type": "code",
   "execution_count": 4,
   "metadata": {},
   "outputs": [
    {
     "data": {
      "text/html": [
       "<div>\n",
       "<style scoped>\n",
       "    .dataframe tbody tr th:only-of-type {\n",
       "        vertical-align: middle;\n",
       "    }\n",
       "\n",
       "    .dataframe tbody tr th {\n",
       "        vertical-align: top;\n",
       "    }\n",
       "\n",
       "    .dataframe thead th {\n",
       "        text-align: right;\n",
       "    }\n",
       "</style>\n",
       "<table border=\"1\" class=\"dataframe\">\n",
       "  <thead>\n",
       "    <tr style=\"text-align: right;\">\n",
       "      <th></th>\n",
       "      <th>Name</th>\n",
       "      <th>Team</th>\n",
       "      <th>Pos</th>\n",
       "      <th>Height</th>\n",
       "      <th>Weight</th>\n",
       "      <th>BMI</th>\n",
       "      <th>Birth_Place</th>\n",
       "      <th>Birthdate</th>\n",
       "      <th>Age</th>\n",
       "      <th>College</th>\n",
       "      <th>...</th>\n",
       "      <th>OREB</th>\n",
       "      <th>DREB</th>\n",
       "      <th>REB</th>\n",
       "      <th>AST</th>\n",
       "      <th>STL</th>\n",
       "      <th>BLK</th>\n",
       "      <th>TO</th>\n",
       "      <th>PTS</th>\n",
       "      <th>DD2</th>\n",
       "      <th>TD3</th>\n",
       "    </tr>\n",
       "  </thead>\n",
       "  <tbody>\n",
       "    <tr>\n",
       "      <th>138</th>\n",
       "      <td>Tiffany Hayes</td>\n",
       "      <td>ATL</td>\n",
       "      <td>G</td>\n",
       "      <td>178</td>\n",
       "      <td>70.0</td>\n",
       "      <td>22.093170</td>\n",
       "      <td>US</td>\n",
       "      <td>September 20, 1989</td>\n",
       "      <td>27</td>\n",
       "      <td>Connecticut</td>\n",
       "      <td>...</td>\n",
       "      <td>28</td>\n",
       "      <td>89</td>\n",
       "      <td>117</td>\n",
       "      <td>69</td>\n",
       "      <td>37</td>\n",
       "      <td>8</td>\n",
       "      <td>50</td>\n",
       "      <td>467</td>\n",
       "      <td>0</td>\n",
       "      <td>0</td>\n",
       "    </tr>\n",
       "    <tr>\n",
       "      <th>139</th>\n",
       "      <td>Tiffany Jackson</td>\n",
       "      <td>LA</td>\n",
       "      <td>F</td>\n",
       "      <td>191</td>\n",
       "      <td>84.0</td>\n",
       "      <td>23.025685</td>\n",
       "      <td>US</td>\n",
       "      <td>April 26, 1985</td>\n",
       "      <td>32</td>\n",
       "      <td>Texas</td>\n",
       "      <td>...</td>\n",
       "      <td>5</td>\n",
       "      <td>18</td>\n",
       "      <td>23</td>\n",
       "      <td>3</td>\n",
       "      <td>1</td>\n",
       "      <td>3</td>\n",
       "      <td>8</td>\n",
       "      <td>28</td>\n",
       "      <td>0</td>\n",
       "      <td>0</td>\n",
       "    </tr>\n",
       "    <tr>\n",
       "      <th>140</th>\n",
       "      <td>Tiffany Mitchell</td>\n",
       "      <td>IND</td>\n",
       "      <td>G</td>\n",
       "      <td>175</td>\n",
       "      <td>69.0</td>\n",
       "      <td>22.530612</td>\n",
       "      <td>US</td>\n",
       "      <td>September 23, 1984</td>\n",
       "      <td>32</td>\n",
       "      <td>South Carolina</td>\n",
       "      <td>...</td>\n",
       "      <td>16</td>\n",
       "      <td>70</td>\n",
       "      <td>86</td>\n",
       "      <td>39</td>\n",
       "      <td>31</td>\n",
       "      <td>5</td>\n",
       "      <td>40</td>\n",
       "      <td>277</td>\n",
       "      <td>0</td>\n",
       "      <td>0</td>\n",
       "    </tr>\n",
       "    <tr>\n",
       "      <th>141</th>\n",
       "      <td>Tina Charles</td>\n",
       "      <td>NY</td>\n",
       "      <td>F/C</td>\n",
       "      <td>193</td>\n",
       "      <td>84.0</td>\n",
       "      <td>22.550941</td>\n",
       "      <td>US</td>\n",
       "      <td>May 12, 1988</td>\n",
       "      <td>29</td>\n",
       "      <td>Connecticut</td>\n",
       "      <td>...</td>\n",
       "      <td>56</td>\n",
       "      <td>212</td>\n",
       "      <td>268</td>\n",
       "      <td>75</td>\n",
       "      <td>21</td>\n",
       "      <td>22</td>\n",
       "      <td>71</td>\n",
       "      <td>582</td>\n",
       "      <td>11</td>\n",
       "      <td>0</td>\n",
       "    </tr>\n",
       "    <tr>\n",
       "      <th>142</th>\n",
       "      <td>Yvonne Turner</td>\n",
       "      <td>PHO</td>\n",
       "      <td>G</td>\n",
       "      <td>175</td>\n",
       "      <td>59.0</td>\n",
       "      <td>19.265306</td>\n",
       "      <td>US</td>\n",
       "      <td>October 13, 1987</td>\n",
       "      <td>29</td>\n",
       "      <td>Nebraska</td>\n",
       "      <td>...</td>\n",
       "      <td>11</td>\n",
       "      <td>13</td>\n",
       "      <td>24</td>\n",
       "      <td>30</td>\n",
       "      <td>18</td>\n",
       "      <td>1</td>\n",
       "      <td>32</td>\n",
       "      <td>151</td>\n",
       "      <td>0</td>\n",
       "      <td>0</td>\n",
       "    </tr>\n",
       "  </tbody>\n",
       "</table>\n",
       "<p>5 rows × 32 columns</p>\n",
       "</div>"
      ],
      "text/plain": [
       "                 Name Team  Pos  Height  Weight        BMI Birth_Place  \\\n",
       "138     Tiffany Hayes  ATL    G     178    70.0  22.093170          US   \n",
       "139   Tiffany Jackson   LA    F     191    84.0  23.025685          US   \n",
       "140  Tiffany Mitchell  IND    G     175    69.0  22.530612          US   \n",
       "141      Tina Charles   NY  F/C     193    84.0  22.550941          US   \n",
       "142     Yvonne Turner  PHO    G     175    59.0  19.265306          US   \n",
       "\n",
       "              Birthdate  Age         College ...  OREB  DREB  REB  AST  STL  \\\n",
       "138  September 20, 1989   27     Connecticut ...    28    89  117   69   37   \n",
       "139      April 26, 1985   32           Texas ...     5    18   23    3    1   \n",
       "140  September 23, 1984   32  South Carolina ...    16    70   86   39   31   \n",
       "141        May 12, 1988   29     Connecticut ...    56   212  268   75   21   \n",
       "142    October 13, 1987   29        Nebraska ...    11    13   24   30   18   \n",
       "\n",
       "     BLK  TO  PTS  DD2  TD3  \n",
       "138    8  50  467    0    0  \n",
       "139    3   8   28    0    0  \n",
       "140    5  40  277    0    0  \n",
       "141   22  71  582   11    0  \n",
       "142    1  32  151    0    0  \n",
       "\n",
       "[5 rows x 32 columns]"
      ]
     },
     "execution_count": 4,
     "metadata": {},
     "output_type": "execute_result"
    }
   ],
   "source": [
    "wnba.tail()"
   ]
  },
  {
   "cell_type": "code",
   "execution_count": 5,
   "metadata": {},
   "outputs": [
    {
     "data": {
      "text/plain": [
       "(143, 32)"
      ]
     },
     "execution_count": 5,
     "metadata": {},
     "output_type": "execute_result"
    }
   ],
   "source": [
    "wnba.shape"
   ]
  },
  {
   "cell_type": "code",
   "execution_count": 6,
   "metadata": {},
   "outputs": [
    {
     "data": {
      "text/plain": [
       "2"
      ]
     },
     "execution_count": 6,
     "metadata": {},
     "output_type": "execute_result"
    }
   ],
   "source": [
    "parameter = wnba[\"Games Played\"].max()\n",
    "sample = wnba[\"Games Played\"].sample(30, random_state=1)\n",
    "statistic = sample.max()\n",
    "sampling_error = parameter - statistic\n",
    "\n",
    "sampling_error"
   ]
  },
  {
   "cell_type": "markdown",
   "metadata": {},
   "source": [
    "- Let's visualize the discrepancy between a parameter and its corresponding statistics in the case of simple random sampling.\n",
    "    - Using simple random sampling, take 100 samples from our WNBA data set, and for each sample measure the average points scored by a player during the 2016-2017 season. For each of the 100 iterations of a for loop:\n",
    "        - Sample 10 values from the PTS column.\n",
    "        - Compute the mean of this sample made of 10 values from the PTS column, and append the result to a list.\n",
    "        - To make your results reproducible, vary the random_state parameter of the sample() method with values between 0 and 99. For the first iteration of the for loop, random_state should equal 0, for the second iteration should equal 1, for the third should equal 2, and so on.\n",
    "    - Display the discrepancy between the parameter of interest (the mean of the PTS column) and the statistics obtained in the previous step.\n",
    "        - Using plt.scatter(), display all the 100 sample means using a scatter plot. For the x-axis, use integers from 1 to 100 to designate the sample number. Use the y-axis for the sample means.\n",
    "        - Using plt.axhline(), draw a horizontal line that represents the average number of points in the population.\n"
   ]
  },
  {
   "cell_type": "code",
   "execution_count": 7,
   "metadata": {},
   "outputs": [
    {
     "data": {
      "image/png": "[encoded data removed]",
      "text/plain": [
       "<Figure size 432x288 with 1 Axes>"
      ]
     },
     "metadata": {},
     "output_type": "display_data"
    }
   ],
   "source": [
    "import matplotlib.pyplot as plt\n",
    "%matplotlib inline\n",
    "\n",
    "wnba = pd.read_csv('wnba.csv')\n",
    "\n",
    "PTS_mean_samples = []\n",
    "for i in range(100):\n",
    "    PTS_mean = wnba[\"PTS\"].sample(10, random_state=i).mean()\n",
    "    PTS_mean_samples.append(PTS_mean)\n",
    "\n",
    "PTS_mean_population = wnba[\"PTS\"].mean()\n",
    "\n",
    "plt.scatter(range(1,101), PTS_mean_samples)\n",
    "plt.axhline(PTS_mean_population);"
   ]
  },
  {
   "cell_type": "markdown",
   "metadata": {},
   "source": [
    "- Perform stratified sampling: stratify the data set by player position, and then do simple random sampling on every stratum. At the end, use the sample to find which position has the greatest number of points per game.\n",
    "    - Create a new column which describes the number of points a player scored per game during the season. The number of total points a player scored the entire season is stored in the PTS column, and the number of games played in the Games Played column. Give the new column a relevant name.\n",
    "    - Stratify the wnba data set by player position. The Pos column describes a player's position on the field. Assign each stratum to a different variable.\n",
    "    - Loop through the strata, and for each stratum:\n",
    "        - Sample 10 observations using simple random sampling (set random_state = 0).\n",
    "        - Find the mean points per game using the sample. Use the new column you've created earlier.\n",
    "        - Find a way to store the mean along with its corresponding position. You can use a dictionary.\n",
    "    - Find the position that has the greatest number of points per game, and assign its name to a variable named position_most_points.\n"
   ]
  },
  {
   "cell_type": "code",
   "execution_count": 8,
   "metadata": {},
   "outputs": [
    {
     "data": {
      "text/plain": [
       "'C'"
      ]
     },
     "execution_count": 8,
     "metadata": {},
     "output_type": "execute_result"
    }
   ],
   "source": [
    "wnba[\"PSG\"] = wnba[\"PTS\"]/wnba[\"Games Played\"]\n",
    "G_pos = wnba[wnba.Pos == \"G\"]\n",
    "F_pos = wnba[wnba.Pos == \"F\"]\n",
    "C_pos = wnba[wnba.Pos == \"C\"]\n",
    "GF_pos = wnba[wnba.Pos == \"G/F\"]\n",
    "FC_pos = wnba[wnba.Pos == \"F/C\"]\n",
    "\n",
    "\n",
    "points_per_position = {}\n",
    "for stratum, position in [(G_pos, \"G\"), (F_pos, \"F\"), (C_pos, \"C\"), (GF_pos, \"G/F\"), (FC_pos, \"F/C\")]:\n",
    "    sample = stratum[\"PSG\"].sample(10, random_state=0)\n",
    "    points_per_position[position] = sample.mean()\n",
    "\n",
    "position_most_points = max(points_per_position, key = points_per_position.get)\n",
    "\n",
    "position_most_points"
   ]
  },
  {
   "cell_type": "markdown",
   "metadata": {},
   "source": [
    "- Perform quota sampling on the data set 100 times, and try to understand the entire sampling process with the help of a scatter plot.\n",
    "    - Stratify the data set by the number of games played in the following way: the first strata should be composed of players that played 12 games or less; the second of players that played more than 12 games, but up to 22 (included); and the third of players that played more than 22 games (22 not included).\n",
    "    - Perform quota sampling 100 times. For each of the 100 iterations of a for loop:\n",
    "        - Sample proportionally from each stratum using simple random sampling. Sample at random: one sample observation from the first stratum, two sample observations from the second, and seven sample observations from the third stratum.\n",
    "        - random_state should vary from 0 to 99: 0 for the first iteration, 99 for the last iteration.\n",
    "        - Once you're done with the sampling for the current iteration of the loop, concatenate all the sample observations into one final sample. You can use pd.concat().\n",
    "        - Compute the mean of the final sample, and append it to a list defined outside the loop. The mean should be for the PTS column.\n",
    "    - Display the entire sampling process.\n",
    "        - Using plt.scatter(), display the sampling means on a scatter plot. Place the means on the y-axis, and the sample numbers on the x-axis (the numbers should range from 1 to 100 - both endpoints included).\n",
    "        - Using plt.axhline(), display the population mean for the total points in the form of a horizontal line."
   ]
  },
  {
   "cell_type": "code",
   "execution_count": 9,
   "metadata": {},
   "outputs": [
    {
     "data": {
      "image/png": "[encoded data removed]",
      "text/plain": [
       "<Figure size 432x288 with 1 Axes>"
      ]
     },
     "metadata": {},
     "output_type": "display_data"
    }
   ],
   "source": [
    "under_12 = wnba[wnba[\"Games Played\"] <= 12]\n",
    "btw_13_22 = wnba[(wnba[\"Games Played\"] > 12) & (wnba[\"Games Played\"] <= 22)]\n",
    "over_23 = wnba[wnba[\"Games Played\"] > 22]\n",
    "\n",
    "quota_sampling_means = []\n",
    "for i in range(100):\n",
    "    sample_under_12 = under_12[\"PTS\"].sample(1, random_state=i)\n",
    "    sample_btw_13_22 = btw_13_22[\"PTS\"].sample(2, random_state=i)\n",
    "    sample_over_23 = over_23[\"PTS\"].sample(7, random_state=i)\n",
    "    \n",
    "    final_sample = pd.concat([sample_under_12, sample_btw_13_22, sample_over_23])\n",
    "    quota_sampling_means.append(final_sample.mean())\n",
    "\n",
    "plt.scatter(range(1, 101), quota_sampling_means)\n",
    "plt.axhline(wnba[\"PTS\"].mean());"
   ]
  },
  {
   "cell_type": "markdown",
   "metadata": {},
   "source": [
    "- Let's simulate a cluster sampling on our data set.\n",
    "    - Pick four team clusters randomly using the technique we've learned (use random_state = 0).\n",
    "    - Collect the data from each cluster without sampling the clusters. Create a new DataFrame object that stores the data collected from all clusters.\n",
    "    - Use the data collected to estimate the mean for the following player attributes:\n",
    "        - Height;\n",
    "        - Age;\n",
    "        - BMI;\n",
    "        - Total points.\n",
    "    - Finally, measure the sampling error of your estimates, and assign the errors to the following variables: sampling_error_height, sampling_error_age, sampling_error_BMI, sampling_error_points.\n",
    "\n"
   ]
  },
  {
   "cell_type": "code",
   "execution_count": 10,
   "metadata": {},
   "outputs": [],
   "source": [
    "clusters = pd.Series(wnba['Team'].unique()).sample(4, random_state = 0)\n",
    "\n",
    "sample = pd.DataFrame()\n",
    "\n",
    "for cluster in clusters:\n",
    "    data_collected = wnba[wnba['Team'] == cluster]\n",
    "    sample = sample.append(data_collected)\n",
    "\n",
    "sampling_error_height = wnba['Height'].mean() - sample['Height'].mean()\n",
    "sampling_error_age = wnba['Age'].mean() - sample['Age'].mean()\n",
    "sampling_error_BMI = wnba['BMI'].mean() - sample['BMI'].mean()\n",
    "sampling_error_points = wnba['PTS'].mean() - sample['PTS'].mean()"
   ]
  },
  {
   "cell_type": "markdown",
   "metadata": {},
   "source": [
    "## Variables in Statistics"
   ]
  },
  {
   "cell_type": "markdown",
   "metadata": {},
   "source": [
    "- We've selected a few variables from our data set. For each of the variables selected, indicate whether it's quantitative or qualitative.\n",
    "    - We've already created a dictionary named variables. Each variable name is given as dictionary key.\n",
    "    - If a variable is quantitative, then complete the value of the corresponding key with the string 'quantitative'. If the variable is qualitative, the use the string 'qualitative'."
   ]
  },
  {
   "cell_type": "code",
   "execution_count": 11,
   "metadata": {},
   "outputs": [],
   "source": [
    "variables = {'Name': 'qualitative', 'Team': 'qualitative', 'Pos': 'qualitative',\n",
    "             'Height': 'quantitative', 'BMI': 'quantitative',\n",
    "             'Birth_Place': 'qualitative', 'Birthdate': 'quantitative', 'Age': 'quantitative', \n",
    "             'College': 'qualitative', 'Experience': 'quantitative', 'Games Played': 'quantitative',\n",
    "             'MIN': 'quantitative', 'FGM': 'quantitative', 'FGA': 'quantitative',\n",
    "             '3PA': 'quantitative', 'FTM': 'quantitative',\n",
    "             'FTA': 'quantitative', 'FT%': 'quantitative', 'OREB': 'quantitative', 'DREB': 'quantitative',\n",
    "             'REB': 'quantitative', 'AST': 'quantitative', 'PTS': 'quantitative'}"
   ]
  },
  {
   "cell_type": "markdown",
   "metadata": {},
   "source": [
    "- Inspect the data set, and find the variables measured on a nominal scale. In the code editor:\n",
    "    - Add the variables measured on a nominal scale to a list named nominal_scale, and sort the elements in the list alphabetically (the sorting helps us with answer checking).\n",
    "    - Notice that we've added a new variable named Height_labels. Instead of showing the height in centimeters, the new variable shows labels like \"short\", \"medium\", or \"tall\". By considering the principles that characterizes the nominal scale, think whether the new Height_labels variable should be included in your nominal_scale list."
   ]
  },
  {
   "cell_type": "code",
   "execution_count": 12,
   "metadata": {},
   "outputs": [],
   "source": [
    "nominal_scale = sorted(['Name', 'Team', 'Pos', 'Birth_Place', 'College'])"
   ]
  },
  {
   "cell_type": "markdown",
   "metadata": {},
   "source": [
    "- Consider the following sentences, and evaluate their truth value. If the sentence is true, than assign True to the corresponding variable (programming variable) in the code editor, otherwise assign False. Make sure you assign boolean values as answers, not strings.\n",
    "    1. Using the Height_labels variable only, we can tell whether player Kiah Stokes is taller than Riquna Williams. Assign your answer to a variable named question1.\n",
    "    2. We can measure the height difference between Kiah Stokes and Riquna Williams using the Height_labels variable. Assign your answer to question2.\n",
    "    3. The Height_labels and the College variables are both measured on an ordinal scale. Assign your answer to question3.\n",
    "    4. The Games Played variable is not measured on an ordinal scale. Assign your answer to question4.\n",
    "    5. The Experience variable is measured on an ordinal scale. Assign your answer to question5.\n",
    "    6. The Height_labels variable is qualitative because is measured using words. Assign your answer to question6."
   ]
  },
  {
   "cell_type": "code",
   "execution_count": 13,
   "metadata": {},
   "outputs": [],
   "source": [
    "question1 = True\n",
    "question2 = False\n",
    "question3 = False\n",
    "question4 = True\n",
    "question5 = False\n",
    "question6 = False"
   ]
  },
  {
   "cell_type": "markdown",
   "metadata": {},
   "source": [
    "- Examine the various variables of the data set, and find the ones that are measured on an interval or ratio scale.\n",
    "    - For the variables measured on a interval scale, add their names as a string to a list named interval. Sort the list alphabetically.\n",
    "    - For the variables measured on a ratio scale, add their names as a string to a list named ratio. Sort the list alphabetically.\n",
    "    - We've also added the Weight_deviation variable to the dataset, so make sure you include that one too in one the lists."
   ]
  },
  {
   "cell_type": "code",
   "execution_count": 14,
   "metadata": {},
   "outputs": [],
   "source": [
    "interval = [\"Birthdate\", \"Weight_deviation\"]\n",
    "ratio = sorted(['Height', 'Weight', 'BMI', 'Age', 'Experience', 'Games Played', 'MIN', 'FGM', 'FGA', 'FG%', '15:00', \n",
    "                '3PA', '3P%', 'FTM', 'FTA', 'FT%', 'OREB', 'DREB', 'REB', 'AST', 'STL', 'BLK', 'TO',\n",
    "                'PTS', 'DD2', 'TD3'])"
   ]
  },
  {
   "cell_type": "markdown",
   "metadata": {},
   "source": [
    "- For every variable, indicate whether is continuous or discrete.\n",
    "    - In the code editor, we've already extracted for you the names of the variables that are measured on ratio and interval scales. Every variable name is registered as a dictionary key.\n",
    "    - If a variable is discrete, then assign the string 'discrete' to its corresponding dictionary key.\n",
    "    - If a variable is continuous, then assign the string 'continuous' to its corresponding dictionary key."
   ]
  },
  {
   "cell_type": "code",
   "execution_count": 15,
   "metadata": {},
   "outputs": [],
   "source": [
    "ratio_interval_only = {'Height': 'continuous', 'Weight': 'continuous', 'BMI': 'continuous', 'Age': 'continuous',\n",
    "                       'Games Played': 'discrete', 'MIN': 'continuous', 'FGM': 'discrete',\n",
    "                       'FGA': 'discrete', 'FG%': 'continuous', '3PA': 'discrete', '3P%': 'continuous',\n",
    "                       'FTM': 'discrete', 'FTA': 'discrete', 'FT%': 'continuous', 'OREB': 'discrete',\n",
    "                       'DREB': 'discrete', 'REB': 'discrete', 'AST': 'discrete', 'STL': 'discrete',\n",
    "                       'BLK': 'discrete', 'TO': 'discrete', 'PTS': 'discrete', 'DD2': 'discrete', \n",
    "                       'TD3': 'discrete', 'Weight_deviation': 'continuous'}"
   ]
  },
  {
   "cell_type": "markdown",
   "metadata": {},
   "source": [
    "- Find the real limits for five values of the BMI (body mass index) variable.\n",
    "    - We've already extracted for you the first five BMI values in the data set, and stored them as dictionary keys in a dictionary named bmi.\n",
    "    - For every BMI value write its real limits in a list and make the list a dictionary value that should correspond to the right dictionary key. The lower real limits should come first in each list. For example:"
   ]
  },
  {
   "cell_type": "code",
   "execution_count": 16,
   "metadata": {},
   "outputs": [],
   "source": [
    "bmi = {21.200991370000001: [21.2009913700000005, 21.2009913700000015],\n",
    " 21.329437550000002: [21.3294375500000015, 21.3294375500000025],\n",
    " 23.875432530000001: [23.8754325300000005, 23.8754325300000015],\n",
    " 24.543462380000001: [24.5434623800000005, 24.5434623800000015],\n",
    " 25.46938776: [25.469387755, 25.469387765]}"
   ]
  },
  {
   "cell_type": "markdown",
   "metadata": {},
   "source": [
    "## Frequency Distributions"
   ]
  },
  {
   "cell_type": "markdown",
   "metadata": {},
   "source": [
    "- Using the Series.value_counts() method, generate frequency distribution tables for the following columns:\n",
    "    - Pos. Assign the frequency distribution table to a variable named freq_distro_pos.\n",
    "    - Height. Assign the frequency distribution table to a variable named freq_distro_height."
   ]
  },
  {
   "cell_type": "code",
   "execution_count": 17,
   "metadata": {},
   "outputs": [
    {
     "data": {
      "text/plain": [
       "G      60\n",
       "F      33\n",
       "C      25\n",
       "G/F    13\n",
       "F/C    12\n",
       "Name: Pos, dtype: int64"
      ]
     },
     "execution_count": 17,
     "metadata": {},
     "output_type": "execute_result"
    }
   ],
   "source": [
    "freq_distro_pos = wnba[\"Pos\"].value_counts()\n",
    "\n",
    "freq_distro_pos"
   ]
  },
  {
   "cell_type": "code",
   "execution_count": 18,
   "metadata": {},
   "outputs": [
    {
     "data": {
      "text/plain": [
       "188    20\n",
       "193    18\n",
       "175    16\n",
       "185    15\n",
       "191    11\n",
       "183    11\n",
       "173    11\n",
       "196     9\n",
       "178     8\n",
       "180     7\n",
       "170     6\n",
       "198     5\n",
       "201     2\n",
       "168     2\n",
       "206     1\n",
       "165     1\n",
       "Name: Height, dtype: int64"
      ]
     },
     "execution_count": 18,
     "metadata": {},
     "output_type": "execute_result"
    }
   ],
   "source": [
    "freq_distro_height = wnba[\"Height\"].value_counts()\n",
    "\n",
    "freq_distro_height"
   ]
  },
  {
   "cell_type": "markdown",
   "metadata": {},
   "source": [
    "- Generate a frequency distribution table for the Age variable, which is measured on a ratio scale, and sort the table by unique values.\n",
    "    - Sort the table by unique values in an ascending order, and assign the result to a variable named age_ascending.\n",
    "    - Sort the table by unique values in a descending order, and assign the result to a variable named age_descending."
   ]
  },
  {
   "cell_type": "code",
   "execution_count": 19,
   "metadata": {},
   "outputs": [
    {
     "data": {
      "text/plain": [
       "21     2\n",
       "22    10\n",
       "23    15\n",
       "24    16\n",
       "25    15\n",
       "26    12\n",
       "27    13\n",
       "28    14\n",
       "29     8\n",
       "30     9\n",
       "31     8\n",
       "32     8\n",
       "33     3\n",
       "34     5\n",
       "35     4\n",
       "36     1\n",
       "Name: Age, dtype: int64"
      ]
     },
     "execution_count": 19,
     "metadata": {},
     "output_type": "execute_result"
    }
   ],
   "source": [
    "age_ascending = wnba[\"Age\"].value_counts().sort_index()\n",
    "\n",
    "age_ascending"
   ]
  },
  {
   "cell_type": "code",
   "execution_count": 20,
   "metadata": {},
   "outputs": [
    {
     "data": {
      "text/plain": [
       "36     1\n",
       "35     4\n",
       "34     5\n",
       "33     3\n",
       "32     8\n",
       "31     8\n",
       "30     9\n",
       "29     8\n",
       "28    14\n",
       "27    13\n",
       "26    12\n",
       "25    15\n",
       "24    16\n",
       "23    15\n",
       "22    10\n",
       "21     2\n",
       "Name: Age, dtype: int64"
      ]
     },
     "execution_count": 20,
     "metadata": {},
     "output_type": "execute_result"
    }
   ],
   "source": [
    "age_descending = wnba[\"Age\"].value_counts().sort_index(ascending=False)\n",
    "\n",
    "age_descending"
   ]
  },
  {
   "cell_type": "markdown",
   "metadata": {},
   "source": [
    "- We've added more granularity to the ordinal scale above:\n",
    "\n",
    "Condition | Label\n",
    ":--- | :---\n",
    "points <= 20 | very few points\n",
    "20 < points <= 80 | few points\n",
    "80 < points <= 150 | many, but below average\n",
    "150 < points <= 300 | average number of points\n",
    "300 < points <= 450 | more than average\n",
    "points > 450 | much more than average\n",
    "\n",
    "- Generate a frequency distribution table for the transformed PTS_ordinal_scale column.\n",
    "    - Order the table by unique values in a descending order (not alphabetically).\n",
    "    - Assign the result to a variable named pts_ordinal_desc."
   ]
  },
  {
   "cell_type": "code",
   "execution_count": 21,
   "metadata": {},
   "outputs": [],
   "source": [
    "def make_pts_ordinal(row):\n",
    "    if row['PTS'] <= 20:\n",
    "        return 'very few points'\n",
    "    if (20 < row['PTS'] <=  80):\n",
    "        return 'few points'\n",
    "    if (80 < row['PTS'] <=  150):\n",
    "        return 'many, but below average'\n",
    "    if (150 < row['PTS'] <= 300):\n",
    "        return 'average number of points'\n",
    "    if (300 < row['PTS'] <=  450):\n",
    "        return 'more than average'\n",
    "    else:\n",
    "        return 'much more than average'\n",
    "\n",
    "wnba['PTS_ordinal_scale'] = wnba.apply(make_pts_ordinal, axis = 1)\n",
    "\n",
    "# Type your answer below\n",
    "pts_ordinal_desc = wnba['PTS_ordinal_scale'].value_counts().iloc[[4, 3, 0, 2, 1, 5]]"
   ]
  },
  {
   "cell_type": "markdown",
   "metadata": {},
   "source": [
    "- Answer the following questions about the Age variable:\n",
    "    - What proportion of players are 25 years old? Round your answer to 2 decimal places, and assign it to a variable named proportion_25.\n",
    "        - To round values you can use pandas Series.round() method. For instance, if you want to round to 3 decimal places, you can use Series.round(3).\n",
    "    - What percentage of players are 30 years old? Round your answer to 2 decimal places, and assign it to a variable named percentage_30.\n",
    "    - What percentage of players are 30 years or older? Round your answer to 3 decimal places, and assign it to a variable named percentage_over_30.\n",
    "    - What percentage of players are 23 years or younger? Round your answer to 3 decimal places, and assign it to a variable named percentage_below_23."
   ]
  },
  {
   "cell_type": "code",
   "execution_count": 22,
   "metadata": {},
   "outputs": [],
   "source": [
    "percentages = wnba[\"Age\"].value_counts(normalize=True).sort_index() * 100\n",
    "proportion_25 = percentages[25].round(2)\n",
    "percentage_30 = percentages[30].round(2)\n",
    "percentage_over_30 = percentages.loc[30:].sum().round(3)\n",
    "percentage_below_23 = percentages.loc[:23].sum().round(3)"
   ]
  },
  {
   "cell_type": "markdown",
   "metadata": {},
   "source": [
    "- Import percentileofscore() from scipy.stats, and then use it to answer the following questions:\n",
    "    - What percentage of players played half the number of games or less in the 2016-2017 season (there are 34 games in the WNBA’s regular season)? Use the Games Played column to find the data you need, and assign your answer to a variable named percentile_rank_half_less.\n",
    "    - What percentage of players played more than half the number of games of the season 2016-2017? Assign your result to percentage_half_more."
   ]
  },
  {
   "cell_type": "code",
   "execution_count": 23,
   "metadata": {},
   "outputs": [],
   "source": [
    "from scipy.stats import percentileofscore\n",
    "\n",
    "percentile_rank_half_less = percentileofscore(a = wnba[\"Games Played\"], score=17, kind=\"weak\")\n",
    "percentage_half_more = 100 - percentile_rank_half_less"
   ]
  },
  {
   "cell_type": "markdown",
   "metadata": {},
   "source": [
    "- Use the Age variable along with Series.describe() to answer the following questions:\n",
    "    - What's the upper quartile of the Age variable? Assign your answer to a variable named age_upper_quartile.\n",
    "    - What's the middle quartile of the Age variable? Assign your answer to a variable named age_middle_quartile.\n",
    "    - What's the 95th percentile of the Age variable? Assign your answer to a variable named age_95th_percentile.\n",
    "- Indicate the truth value of the following sentences:\n",
    "    - A percentile is a value of a variable, and it corresponds to a certain percentile rank in the distribution of that variable. (If you think this is true, assign True (boolean, not string) to a variable named question_1, otherwise assign False.)\n",
    "    - A percentile rank is a numerical value from the distribution of a variable. (Assign True or False to question_2.)\n",
    "    - The 25th percentile is the same thing as the lower quartile, and the upper quartile is the same thing as the third quartile. (Assign True or False to question_3)"
   ]
  },
  {
   "cell_type": "code",
   "execution_count": 24,
   "metadata": {},
   "outputs": [],
   "source": [
    "percentiles = wnba[\"Age\"].describe(percentiles=[.5, .75, .95]).iloc[3:]\n",
    "\n",
    "age_upper_quartile = percentiles[\"75%\"]\n",
    "age_middle_quartile = percentiles[\"50%\"]\n",
    "age_95th_percentile = percentiles[\"95%\"]\n",
    "\n",
    "question1 = True\n",
    "question2 = False\n",
    "question3 = True"
   ]
  },
  {
   "cell_type": "markdown",
   "metadata": {},
   "source": [
    "- Open the console and examine the frequency table for the PTS (total points) variable trying to find some patterns in the distribution of values. Then, generate a grouped frequency distribution table for the PTS variable with the following characteristics:\n",
    "    - The table has 10 class intervals.\n",
    "    - For each class interval, the table shows percentages instead of frequencies.\n",
    "    - The class intervals are sorted in descending order.\n",
    "- Assign the table to a variable named grouped_freq_table, then print it and try again to find some patterns in the distribution of values."
   ]
  },
  {
   "cell_type": "code",
   "execution_count": 25,
   "metadata": {},
   "outputs": [
    {
     "data": {
      "text/plain": [
       "(525.8, 584.0]     3.496503\n",
       "(467.6, 525.8]     2.797203\n",
       "(409.4, 467.6]     5.594406\n",
       "(351.2, 409.4]     6.993007\n",
       "(293.0, 351.2]     5.594406\n",
       "(234.8, 293.0]    11.888112\n",
       "(176.6, 234.8]    13.986014\n",
       "(118.4, 176.6]    11.888112\n",
       "(60.2, 118.4]     16.783217\n",
       "(1.417, 60.2]     20.979021\n",
       "Name: PTS, dtype: float64"
      ]
     },
     "execution_count": 25,
     "metadata": {},
     "output_type": "execute_result"
    }
   ],
   "source": [
    "grouped_freq_table = wnba[\"PTS\"].value_counts(bins=10, normalize=True).sort_index(ascending=False)*100\n",
    "\n",
    "grouped_freq_table"
   ]
  },
  {
   "cell_type": "markdown",
   "metadata": {},
   "source": [
    "- Using the techniques above, generate a grouped frequency table for the PTS variable. The table should have the following characteristics:\n",
    "    - There are 10 class intervals.\n",
    "    - The first class interval starts at 0 (not included).\n",
    "    - The last class interval ends at 600 (included).\n",
    "    - Each interval has a range of 60 points.\n",
    "- Assign the table to a variable named gr_freq_table_10."
   ]
  },
  {
   "cell_type": "code",
   "execution_count": 26,
   "metadata": {},
   "outputs": [],
   "source": [
    "intervals = pd.interval_range(start = 0, end = 600, freq = 60)\n",
    "gr_freq_table_10 = pd.Series([0 for _ in range(10)], index = intervals)\n",
    "\n",
    "for value in wnba['PTS']:\n",
    "    for interval in intervals:\n",
    "        if value in interval:\n",
    "            gr_freq_table_10.loc[interval] += 1\n",
    "            break"
   ]
  },
  {
   "cell_type": "code",
   "execution_count": 27,
   "metadata": {},
   "outputs": [
    {
     "data": {
      "text/plain": [
       "(0, 60]       30\n",
       "(60, 120]     25\n",
       "(120, 180]    17\n",
       "(180, 240]    22\n",
       "(240, 300]    15\n",
       "(300, 360]     7\n",
       "(360, 420]    11\n",
       "(420, 480]     7\n",
       "(480, 540]     4\n",
       "(540, 600]     5\n",
       "dtype: int64"
      ]
     },
     "execution_count": 27,
     "metadata": {},
     "output_type": "execute_result"
    }
   ],
   "source": [
    "gr_freq_table_10"
   ]
  },
  {
   "cell_type": "markdown",
   "metadata": {},
   "source": [
    "## Visualizing Frequency Distributions"
   ]
  },
  {
   "cell_type": "code",
   "execution_count": 37,
   "metadata": {},
   "outputs": [
    {
     "data": {
      "text/plain": [
       "0     23\n",
       "3     19\n",
       "5     14\n",
       "6     14\n",
       "1     12\n",
       "2     11\n",
       "9     11\n",
       "4     11\n",
       "10     5\n",
       "7      4\n",
       "11     4\n",
       "12     4\n",
       "13     3\n",
       "8      3\n",
       "14     3\n",
       "15     2\n",
       "Name: Experience, dtype: int64"
      ]
     },
     "execution_count": 37,
     "metadata": {},
     "output_type": "execute_result"
    }
   ],
   "source": [
    "wnba[\"Experience\"] = wnba[\"Experience\"].replace(\"R\", 0)\n",
    "\n",
    "wnba[\"Experience\"].value_counts()"
   ]
  },
  {
   "cell_type": "code",
   "execution_count": 38,
   "metadata": {},
   "outputs": [],
   "source": [
    "cut_points = [-1, 0, 3, 5, 10, 100]\n",
    "labels = [\"Rookie\", \"Little experience\", \"Experienced\", \"Very experienced\", \"Veteran\"]\n",
    "\n",
    "wnba[\"Exp_ordinal\"] = pd.cut(wnba[\"Experience\"].astype(int), cut_points, labels=labels)"
   ]
  },
  {
   "cell_type": "markdown",
   "metadata": {},
   "source": [
    "- We've taken information from the Experience column, and created a new column named Exp_ordinal, which is measured on an ordinal scale. The new column has five unique labels, and each one corresponds to a number of years a player has played in WNBA:\n",
    "\n",
    "Years in WNBA | Label\n",
    ":--- | :---\n",
    "0 | Rookie\n",
    "1-3 | Little experience\n",
    "4-5 | Experienced\n",
    "5-10 | Very experienced\n",
    "\\>10 | Veteran\n",
    "\n",
    "- Create a bar plot to display the distribution of the Exp_ordinal variable:\n",
    "    - Generate a frequency table for the Exp_ordinal variable.\n",
    "    - Sort the table by unique labels in an ascending order using the techiques we learned in the previous mission.\n",
    "    - Generate a bar plot using the Series.plot.bar() method."
   ]
  },
  {
   "cell_type": "code",
   "execution_count": 40,
   "metadata": {},
   "outputs": [
    {
     "data": {
      "image/png": "[encoded data removed]",
      "text/plain": [
       "<Figure size 432x288 with 1 Axes>"
      ]
     },
     "metadata": {},
     "output_type": "display_data"
    }
   ],
   "source": [
    "wnba[\"Exp_ordinal\"].value_counts().iloc[[3,0,2,1,4]].plot.bar();"
   ]
  },
  {
   "cell_type": "markdown",
   "metadata": {},
   "source": [
    "- Create a horizontal bar plot to visualize the distribution of the Exp_ordinal variable.\n",
    "    - Generate a frequency table for the Exp_ordinal variable.\n",
    "    - Sort the table by unique labels in an ascending order.\n",
    "    - Use the Series.plot.barh() method to generate the horizontal bar plot.\n",
    "    - Add the following title to the plot: Number of players in WNBA by level of experience."
   ]
  },
  {
   "cell_type": "code",
   "execution_count": 41,
   "metadata": {},
   "outputs": [
    {
     "data": {
      "image/png": "[encoded data removed]",
      "text/plain": [
       "<Figure size 432x288 with 1 Axes>"
      ]
     },
     "metadata": {},
     "output_type": "display_data"
    }
   ],
   "source": [
    "wnba[\"Exp_ordinal\"].value_counts().iloc[[3,0,2,1,4]].plot.barh(title=\"Number of players in WNBA by level of experience\");"
   ]
  },
  {
   "cell_type": "markdown",
   "metadata": {},
   "source": [
    "- Generate a pie chart to visualize the distribution of the Exp_ordinal variable.\n",
    "    - Generate a frequency table for the Exp_ordinal variable. Don't sort the table this time.\n",
    "    - Use the Series.plot.pie() method to generate the pie plot."
   ]
  },
  {
   "cell_type": "code",
   "execution_count": 42,
   "metadata": {},
   "outputs": [
    {
     "data": {
      "image/png": "[encoded data removed]",
      "text/plain": [
       "<Figure size 432x288 with 1 Axes>"
      ]
     },
     "metadata": {},
     "output_type": "display_data"
    }
   ],
   "source": [
    "wnba[\"Exp_ordinal\"].value_counts().plot.pie();"
   ]
  },
  {
   "cell_type": "markdown",
   "metadata": {},
   "source": [
    "- Generate and customize a pie chart to visualize the distribution of the Exp_ordinal variable.\n",
    "    - Generate a frequency table for the Exp_ordinal variable. Don't sort the table this time.\n",
    "    - Use the Series.plot.pie() method to generate the pie plot.\n",
    "        - Use the figsize parameter to specify a width and a height of 6 inches each.\n",
    "        - Use the autopct parameter to have percentages displayed with a precision of 2 decimal places.\n",
    "        - Add the following title to the plot: Percentage of players in WNBA by level of experience.\n",
    "        - Remove the Exp_ordinal label."
   ]
  },
  {
   "cell_type": "code",
   "execution_count": 43,
   "metadata": {},
   "outputs": [
    {
     "data": {
      "image/png": "[encoded data removed]",
      "text/plain": [
       "<Figure size 432x432 with 1 Axes>"
      ]
     },
     "metadata": {},
     "output_type": "display_data"
    }
   ],
   "source": [
    "wnba[\"Exp_ordinal\"].value_counts().plot.pie(figsize = (6,6), autopct = \"%.2f%%\", title=\"Percentage of players in WNBA by level of experience\")\n",
    "plt.ylabel(\"\");"
   ]
  },
  {
   "cell_type": "markdown",
   "metadata": {},
   "source": [
    "- Using Series.plot.hist(), generate a histogram to visualize the distribution of the PTS variable."
   ]
  },
  {
   "cell_type": "code",
   "execution_count": 44,
   "metadata": {},
   "outputs": [
    {
     "data": {
      "image/png": "[encoded data removed]",
      "text/plain": [
       "<Figure size 432x288 with 1 Axes>"
      ]
     },
     "metadata": {},
     "output_type": "display_data"
    }
   ],
   "source": [
    "wnba[\"PTS\"].plot.hist();"
   ]
  },
  {
   "cell_type": "markdown",
   "metadata": {},
   "source": [
    "- Examine the distribution of the Games Played variable using the Series.describe() method. Just from the output of this method, predict how the histogram of the Games Played variable should look like.\n",
    "- Once you have a good idea of what histogram shape to expect, plot a histogram for the Games Played variable using Series.plot.hist()."
   ]
  },
  {
   "cell_type": "code",
   "execution_count": 45,
   "metadata": {},
   "outputs": [
    {
     "data": {
      "text/plain": [
       "count    143.000000\n",
       "mean      24.356643\n",
       "std        7.104259\n",
       "min        2.000000\n",
       "25%       22.000000\n",
       "50%       27.000000\n",
       "75%       29.000000\n",
       "max       32.000000\n",
       "Name: Games Played, dtype: float64"
      ]
     },
     "execution_count": 45,
     "metadata": {},
     "output_type": "execute_result"
    }
   ],
   "source": [
    "wnba[\"Games Played\"].describe()"
   ]
  },
  {
   "cell_type": "code",
   "execution_count": 46,
   "metadata": {},
   "outputs": [
    {
     "data": {
      "image/png": "[encoded data removed]",
      "text/plain": [
       "<Figure size 432x288 with 1 Axes>"
      ]
     },
     "metadata": {},
     "output_type": "display_data"
    }
   ],
   "source": [
    "wnba[\"Games Played\"].plot.hist();"
   ]
  },
  {
   "cell_type": "markdown",
   "metadata": {},
   "source": [
    "- Generate and customize a histogram for the Games Played variable.\n",
    "    - Each bin must cover an interval of 4 games. The first bin must start at 0, the last bin must end at 32.\n",
    "    - Modify the tick labels of the x-axis such that each bin has its starting and ending point labeled.\n",
    "    - Add the title \"The distribution of players by games played\".\n",
    "    - Add a label to the x-axis named \"Games played\"."
   ]
  },
  {
   "cell_type": "code",
   "execution_count": 48,
   "metadata": {},
   "outputs": [
    {
     "data": {
      "image/png": "[encoded data removed]",
      "text/plain": [
       "<Figure size 432x288 with 1 Axes>"
      ]
     },
     "metadata": {},
     "output_type": "display_data"
    }
   ],
   "source": [
    "wnba['Games Played'].plot.hist(range = (0,32), bins = 8, xticks = range(0,33,4), title = 'The distribution of players by games played')\n",
    "plt.xlabel('Games played');"
   ]
  },
  {
   "cell_type": "markdown",
   "metadata": {},
   "source": [
    "- Examine the distribution of the following two variables:\n",
    "    - AST (number of assists).\n",
    "    - FT% (percentage of free throws made out of all attempts).\n",
    "- Depending on the shape of the distribution, assign the string 'left skewed' or 'right skewed' to the following variables:\n",
    "    - assists_distro for the AST column.\n",
    "    - ft_percent_distro for the FT% column."
   ]
  },
  {
   "cell_type": "code",
   "execution_count": 49,
   "metadata": {},
   "outputs": [],
   "source": [
    "assists_distro = \"right skewed\"\n",
    "ft_percent_distro = \"left skewed\""
   ]
  },
  {
   "cell_type": "markdown",
   "metadata": {},
   "source": [
    "- Examine the distribution of the following variables, trying to determine which one resembles the most a normal distribution:\n",
    "    - Age\n",
    "    - Height\n",
    "    - MIN\n",
    "- Assign to the variable normal_distribution the name of the variable (as a string) whose distribution resembles the most a normal one."
   ]
  },
  {
   "cell_type": "code",
   "execution_count": 50,
   "metadata": {},
   "outputs": [
    {
     "data": {
      "image/png": "[encoded data removed]",
      "text/plain": [
       "<Figure size 432x288 with 1 Axes>"
      ]
     },
     "metadata": {},
     "output_type": "display_data"
    }
   ],
   "source": [
    "wnba[\"Age\"].plot.hist();"
   ]
  },
  {
   "cell_type": "code",
   "execution_count": 51,
   "metadata": {},
   "outputs": [
    {
     "data": {
      "image/png": "[encoded data removed]",
      "text/plain": [
       "<Figure size 432x288 with 1 Axes>"
      ]
     },
     "metadata": {},
     "output_type": "display_data"
    }
   ],
   "source": [
    "wnba[\"Height\"].plot.hist();"
   ]
  },
  {
   "cell_type": "code",
   "execution_count": 52,
   "metadata": {},
   "outputs": [
    {
     "data": {
      "image/png": "[encoded data removed]",
      "text/plain": [
       "<Figure size 432x288 with 1 Axes>"
      ]
     },
     "metadata": {},
     "output_type": "display_data"
    }
   ],
   "source": [
    "wnba[\"MIN\"].plot.hist();"
   ]
  },
  {
   "cell_type": "code",
   "execution_count": 53,
   "metadata": {},
   "outputs": [],
   "source": [
    "normal_distribution = \"Height\""
   ]
  },
  {
   "cell_type": "markdown",
   "metadata": {},
   "source": [
    "## Comparing Frequency Distributions"
   ]
  },
  {
   "cell_type": "markdown",
   "metadata": {},
   "source": [
    "- For each segment, generate a frequency distribution table for the Pos variable.\n",
    "    - For the rookies segment, assign the frequency distribution table to a variable named rookie_distro.\n",
    "    - For the little experience segment, assign the table to little_xp_distro.\n",
    "    - For the experienced segment, assign the table to experienced_distro.\n",
    "    - For the very experienced segment, assign the table to very_xp_distro.\n",
    "    - For the veterans segment, assign the table to veteran_distro.\n",
    "- Print all the tables and analyze them comparatively to determine whether there are any clear patterns in the distribution of player position depending on the level of experience."
   ]
  },
  {
   "cell_type": "code",
   "execution_count": 54,
   "metadata": {},
   "outputs": [
    {
     "name": "stdout",
     "output_type": "stream",
     "text": [
      "G      14\n",
      "C       4\n",
      "F       4\n",
      "F/C     1\n",
      "Name: Pos, dtype: int64 \n",
      "\n",
      " G      14\n",
      "F      13\n",
      "C       8\n",
      "F/C     4\n",
      "G/F     3\n",
      "Name: Pos, dtype: int64 \n",
      "\n",
      " G      9\n",
      "C      6\n",
      "F      6\n",
      "G/F    2\n",
      "F/C    2\n",
      "Name: Pos, dtype: int64 \n",
      "\n",
      " G      16\n",
      "F       6\n",
      "C       6\n",
      "G/F     5\n",
      "F/C     4\n",
      "Name: Pos, dtype: int64 \n",
      "\n",
      " G      7\n",
      "F      4\n",
      "G/F    3\n",
      "F/C    1\n",
      "C      1\n",
      "Name: Pos, dtype: int64\n"
     ]
    }
   ],
   "source": [
    "rookies = wnba[wnba['Exp_ordinal'] == 'Rookie']\n",
    "little_xp = wnba[wnba['Exp_ordinal'] == 'Little experience']\n",
    "experienced = wnba[wnba['Exp_ordinal'] == 'Experienced']\n",
    "very_xp = wnba[wnba['Exp_ordinal'] == 'Very experienced']\n",
    "veterans =  wnba[wnba['Exp_ordinal'] == 'Veteran']\n",
    "rookie_distro = rookies['Pos'].value_counts()\n",
    "little_xp_distro = little_xp['Pos'].value_counts()\n",
    "experienced_distro = experienced['Pos'].value_counts()\n",
    "very_xp_distro = very_xp['Pos'].value_counts()\n",
    "veteran_distro = veterans['Pos'].value_counts()\n",
    "\n",
    "print(rookie_distro, '\\n\\n', little_xp_distro, '\\n\\n', experienced_distro, '\\n\\n', very_xp_distro, '\\n\\n', veteran_distro)"
   ]
  },
  {
   "cell_type": "markdown",
   "metadata": {},
   "source": [
    "- Using sns.countplot(), generate a grouped bar plot similar to the one above.\n",
    "    - Place the Exp_ordinal variable on the x-axis.\n",
    "    - Generate the bar plots for the Pos variable. The data set is stored in wnba variable.\n",
    "    - Using the order parameter of sns.countplot(), order the values on the x-axis in ascending order. The order parameter takes in a list of strings, so you should use order = ['Rookie', 'Little experience', ..........].\n",
    "    - Using the hue_order parameter, order the bars of each bar plot in ascending alphabetic order. hue_order takes in a list of strings, so you can use hue_order = ['C', 'F', ......]."
   ]
  },
  {
   "cell_type": "code",
   "execution_count": 55,
   "metadata": {},
   "outputs": [
    {
     "data": {
      "image/png": "[encoded data removed]",
      "text/plain": [
       "<Figure size 432x288 with 1 Axes>"
      ]
     },
     "metadata": {},
     "output_type": "display_data"
    }
   ],
   "source": [
    "import seaborn as sns\n",
    "\n",
    "sns.countplot(x=\"Exp_ordinal\", hue=\"Pos\", data=wnba,\n",
    "              order=[\"Rookie\", \"Little experience\", \"Experienced\", \"Very experienced\", \"Veteran\"],\n",
    "              hue_order=[\"C\", \"F\", \"F/C\", \"G\", \"G/F\"]);"
   ]
  },
  {
   "cell_type": "markdown",
   "metadata": {},
   "source": [
    "- Generate a grouped bar plot to confirm or reject our hypothesis. Using sns.countplot():\n",
    "    - Place the age_mean_relative variable on the x-axis. The age_mean_relative and min_mean_relative are already defined.\n",
    "    - Generate the frequency distributions for the min_mean_relative variable.\n",
    "- Analyze the graph and determine whether the data confirms or rejects our hypothesis. If it's a confirmation assign the string 'confirmation' to a variable named result. If it's a rejection, assign the string 'rejection' to the variable result."
   ]
  },
  {
   "cell_type": "code",
   "execution_count": 57,
   "metadata": {},
   "outputs": [],
   "source": [
    "wnba['age_mean_relative'] = wnba['Age'].apply(lambda x: 'old' if x >= 27 else 'young')\n",
    "wnba['min_mean_relative'] = wnba['MIN'].apply(lambda x: 'average or above' if x >= 497 else 'below average')"
   ]
  },
  {
   "cell_type": "code",
   "execution_count": 58,
   "metadata": {},
   "outputs": [
    {
     "data": {
      "image/png": "[encoded data removed]",
      "text/plain": [
       "<Figure size 432x288 with 1 Axes>"
      ]
     },
     "metadata": {},
     "output_type": "display_data"
    }
   ],
   "source": [
    "sns.countplot(x=\"age_mean_relative\", hue=\"min_mean_relative\", data=wnba);"
   ]
  },
  {
   "cell_type": "code",
   "execution_count": 59,
   "metadata": {},
   "outputs": [],
   "source": [
    "result = \"rejection\""
   ]
  },
  {
   "cell_type": "markdown",
   "metadata": {},
   "source": [
    "- Looking on our graph above, it's not easy to visualize where the average number of minutes is. Using the plt.axvline() function, add a vertical line to demarcate the average point:\n",
    "    - The vertical line should be at point 497 on the x-axis.\n",
    "    - Use the label parameter of plt.axvline() to label it 'Average'. Display the label by running plt.legend()."
   ]
  },
  {
   "cell_type": "code",
   "execution_count": 61,
   "metadata": {},
   "outputs": [
    {
     "data": {
      "image/png": "[encoded data removed]",
      "text/plain": [
       "<Figure size 432x288 with 1 Axes>"
      ]
     },
     "metadata": {},
     "output_type": "display_data"
    }
   ],
   "source": [
    "wnba[wnba.Age >= 27]['MIN'].plot.hist(histtype='step', label='Old', legend=True)\n",
    "wnba[wnba.Age < 27]['MIN'].plot.hist(histtype='step', label='Young', legend=True)\n",
    "plt.axvline(497, label='Average')\n",
    "plt.legend();"
   ]
  },
  {
   "cell_type": "markdown",
   "metadata": {},
   "source": [
    "- Reproduce the kernel density plots above, and add a vertical line to demarcate the average point.\n",
    "    - The vertical line should be at point 497 on the x-axis.\n",
    "    - Label the vertical line 'Average' and make sure the label is displayed in the legend."
   ]
  },
  {
   "cell_type": "code",
   "execution_count": 62,
   "metadata": {},
   "outputs": [
    {
     "data": {
      "image/png": "[encoded data removed]",
      "text/plain": [
       "<Figure size 432x288 with 1 Axes>"
      ]
     },
     "metadata": {},
     "output_type": "display_data"
    }
   ],
   "source": [
    "wnba[wnba.Age >= 27]['MIN'].plot.kde(label='Old', legend=True)\n",
    "wnba[wnba.Age < 27]['MIN'].plot.kde(label='Young', legend=True)\n",
    "plt.axvline(497, label='Average')\n",
    "plt.legend();"
   ]
  },
  {
   "cell_type": "markdown",
   "metadata": {},
   "source": [
    "- Using strip plots, examine the distribution of player weight (not height) as a function of player position. The graph should have the following properties:\n",
    "    - The Pos variable in on the x-axis and the Weight variable on the y-axis.\n",
    "    - Each strip plot has jitter added to it. The amount of jitter to apply is the one specific to jitter = True."
   ]
  },
  {
   "cell_type": "code",
   "execution_count": 63,
   "metadata": {},
   "outputs": [
    {
     "data": {
      "image/png": "[encoded data removed]",
      "text/plain": [
       "<Figure size 432x288 with 1 Axes>"
      ]
     },
     "metadata": {},
     "output_type": "display_data"
    }
   ],
   "source": [
    "sns.stripplot(x='Pos', y='Weight', data=wnba, jitter=True);"
   ]
  },
  {
   "cell_type": "markdown",
   "metadata": {},
   "source": [
    "- Using sns.boxplot(), generate a series of box plots to examine the distribution of player weight as a function of player position. Place the Pos variable on the x-axis and the Weight variable on the y-axis."
   ]
  },
  {
   "cell_type": "code",
   "execution_count": 64,
   "metadata": {},
   "outputs": [
    {
     "data": {
      "image/png": "[encoded data removed]",
      "text/plain": [
       "<Figure size 432x288 with 1 Axes>"
      ]
     },
     "metadata": {},
     "output_type": "display_data"
    }
   ],
   "source": [
    "sns.boxplot(x=\"Pos\", y=\"Weight\", data=wnba);"
   ]
  },
  {
   "cell_type": "markdown",
   "metadata": {},
   "source": [
    "- Consider the quartiles of the Games Played variable:\n",
    "- Find the interquartile range, and assign the result to a variable named iqr.\n",
    "- Using a factor of 1.5, calculate the lower and upper bound outside which values are considered outliers.\n",
    "    - Assign the value of the lower bound to a variable named lower_bound.\n",
    "    - Assign the upper bound to a variable named upper_bound.\n",
    "- Find how many values in the distribution are outliers.\n",
    "    - Assign the number of outliers below the lower bound to a variable named outliers_low.\n",
    "    - Assign the number of outliers below the upper bound to a variable named outliers_high.\n",
    "- Plot a boxplot to check whether your answers are sensible."
   ]
  },
  {
   "cell_type": "code",
   "execution_count": 65,
   "metadata": {},
   "outputs": [
    {
     "data": {
      "text/plain": [
       "count    143.000000\n",
       "mean      24.356643\n",
       "std        7.104259\n",
       "min        2.000000\n",
       "25%       22.000000\n",
       "50%       27.000000\n",
       "75%       29.000000\n",
       "max       32.000000\n",
       "Name: Games Played, dtype: float64"
      ]
     },
     "execution_count": 65,
     "metadata": {},
     "output_type": "execute_result"
    }
   ],
   "source": [
    "wnba[\"Games Played\"].describe()"
   ]
  },
  {
   "cell_type": "code",
   "execution_count": 66,
   "metadata": {},
   "outputs": [
    {
     "data": {
      "image/png": "[encoded data removed]",
      "text/plain": [
       "<Figure size 432x288 with 1 Axes>"
      ]
     },
     "metadata": {},
     "output_type": "display_data"
    }
   ],
   "source": [
    "iqr = 29 - 22\n",
    "\n",
    "lower_bound = 22 - (1.5*iqr)\n",
    "upper_bound = 29 + (1.5*iqr)\n",
    "\n",
    "outliers_low = sum(wnba[\"Games Played\"] < lower_bound)\n",
    "outliers_high = sum(wnba[\"Games Played\"] > upper_bound)\n",
    "\n",
    "sns.boxplot(wnba[\"Games Played\"]);"
   ]
  }
 ],
 "metadata": {
  "kernelspec": {
   "display_name": "Python 3",
   "language": "python",
   "name": "python3"
  },
  "language_info": {
   "codemirror_mode": {
    "name": "ipython",
    "version": 3
   },
   "file_extension": ".py",
   "mimetype": "text/x-python",
   "name": "python",
   "nbconvert_exporter": "python",
   "pygments_lexer": "ipython3",
   "version": "3.6.6"
  }
 },
 "nbformat": 4,
 "nbformat_minor": 2
}
