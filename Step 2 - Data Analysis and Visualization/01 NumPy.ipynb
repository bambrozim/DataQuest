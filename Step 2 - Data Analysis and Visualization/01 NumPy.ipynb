{
 "cells": [
  {
   "cell_type": "markdown",
   "metadata": {},
   "source": [
    "# Pandas and NumPy Fundamentals"
   ]
  },
  {
   "cell_type": "markdown",
   "metadata": {},
   "source": [
    "### NumPy"
   ]
  },
  {
   "cell_type": "markdown",
   "metadata": {},
   "source": [
    "- Import numpy and assign to the alias np."
   ]
  },
  {
   "cell_type": "code",
   "execution_count": 1,
   "metadata": {},
   "outputs": [],
   "source": [
    "import numpy as np"
   ]
  },
  {
   "cell_type": "markdown",
   "metadata": {},
   "source": [
    "- Create a vector from the list [10, 20, 30].\n",
    "    - Assign the result to the variable vector."
   ]
  },
  {
   "cell_type": "code",
   "execution_count": 2,
   "metadata": {},
   "outputs": [],
   "source": [
    "vector = np.array([10, 20, 30])"
   ]
  },
  {
   "cell_type": "markdown",
   "metadata": {},
   "source": [
    "- Create a matrix from the list of lists [[5, 10, 15], [20, 25, 30], [35, 40, 45]].\n",
    "    - Assign the result to the variable matrix."
   ]
  },
  {
   "cell_type": "code",
   "execution_count": 3,
   "metadata": {},
   "outputs": [],
   "source": [
    "matrix = np.array([[5, 10, 15], [20, 25, 30], [35, 40, 45]])"
   ]
  },
  {
   "cell_type": "markdown",
   "metadata": {},
   "source": [
    "- Assign the shape of vector to vector_shape."
   ]
  },
  {
   "cell_type": "code",
   "execution_count": 4,
   "metadata": {},
   "outputs": [],
   "source": [
    "vector_shape = vector.shape"
   ]
  },
  {
   "cell_type": "markdown",
   "metadata": {},
   "source": [
    "- Assign the shape of matrix to matrix_shape."
   ]
  },
  {
   "cell_type": "code",
   "execution_count": 5,
   "metadata": {},
   "outputs": [],
   "source": [
    "matrix_shape = matrix.shape"
   ]
  },
  {
   "cell_type": "markdown",
   "metadata": {},
   "source": [
    "- Display both vector_shape and matrix_shape using the print() function."
   ]
  },
  {
   "cell_type": "code",
   "execution_count": 6,
   "metadata": {},
   "outputs": [
    {
     "name": "stdout",
     "output_type": "stream",
     "text": [
      "(3,)\n",
      "(3, 3)\n"
     ]
    }
   ],
   "source": [
    "print(vector_shape)\n",
    "print(matrix_shape)"
   ]
  },
  {
   "cell_type": "markdown",
   "metadata": {},
   "source": [
    "#### The Dataset"
   ]
  },
  {
   "cell_type": "markdown",
   "metadata": {},
   "source": [
    "Year -- the year the data in the row is for.<br>\n",
    "WHO Region -- the region in which the country is located.<br>\n",
    "Country -- the country the data is for.<br>\n",
    "Beverage Types -- the type of beverage the data is for.<br>\n",
    "Display Value -- the number of liters, on average, of the beverage type a citizen of the country drank in the given year.<br>"
   ]
  },
  {
   "cell_type": "markdown",
   "metadata": {},
   "source": [
    "- Use the numpy.genfromtxt() function to read \"world_alcohol.csv\" into a NumPy array named world_alcohol."
   ]
  },
  {
   "cell_type": "code",
   "execution_count": 7,
   "metadata": {},
   "outputs": [],
   "source": [
    "world_alcohol = np.genfromtxt(\"world_alcohol.csv\", delimiter = \",\")"
   ]
  },
  {
   "cell_type": "markdown",
   "metadata": {},
   "source": [
    "- Use the type() and print() functions to display the type for world_alcohol."
   ]
  },
  {
   "cell_type": "code",
   "execution_count": 8,
   "metadata": {},
   "outputs": [
    {
     "name": "stdout",
     "output_type": "stream",
     "text": [
      "<class 'numpy.ndarray'>\n"
     ]
    }
   ],
   "source": [
    "print(type(world_alcohol))"
   ]
  },
  {
   "cell_type": "markdown",
   "metadata": {},
   "source": [
    "- Assign the data type of world_alcohol to the variable world_alcohol_dtype."
   ]
  },
  {
   "cell_type": "code",
   "execution_count": 9,
   "metadata": {},
   "outputs": [],
   "source": [
    "world_alcohol_dtype = world_alcohol.dtype"
   ]
  },
  {
   "cell_type": "markdown",
   "metadata": {},
   "source": [
    "- Display world_alcohol_dtype using the print() function."
   ]
  },
  {
   "cell_type": "code",
   "execution_count": 10,
   "metadata": {},
   "outputs": [
    {
     "name": "stdout",
     "output_type": "stream",
     "text": [
      "float64\n"
     ]
    }
   ],
   "source": [
    "print(world_alcohol_dtype)"
   ]
  },
  {
   "cell_type": "markdown",
   "metadata": {},
   "source": [
    "- When reading in world_alcohol.csv using numpy.genfromtxt():\n",
    "    - Use the \"U75\" data type\n",
    "    - Skip the first line in the dataset\n",
    "    - Use the comma delimiter.\n",
    "- Assign the result to world_alcohol."
   ]
  },
  {
   "cell_type": "code",
   "execution_count": 11,
   "metadata": {},
   "outputs": [],
   "source": [
    "world_alcohol = np.genfromtxt(\"world_alcohol.csv\", delimiter = \",\", dtype = \"U75\", skip_header = 1)"
   ]
  },
  {
   "cell_type": "markdown",
   "metadata": {},
   "source": [
    "- Use the print() function to display world_alcohol."
   ]
  },
  {
   "cell_type": "code",
   "execution_count": 12,
   "metadata": {},
   "outputs": [
    {
     "name": "stdout",
     "output_type": "stream",
     "text": [
      "[['1986' 'Western Pacific' 'Viet Nam' 'Wine' '0']\n",
      " ['1986' 'Americas' 'Uruguay' 'Other' '0.5']\n",
      " ['1985' 'Africa' \"Cte d'Ivoire\" 'Wine' '1.62']\n",
      " ...\n",
      " ['1986' 'Europe' 'Switzerland' 'Spirits' '2.54']\n",
      " ['1987' 'Western Pacific' 'Papua New Guinea' 'Other' '0']\n",
      " ['1986' 'Africa' 'Swaziland' 'Other' '5.15']]\n"
     ]
    }
   ],
   "source": [
    "print(world_alcohol)"
   ]
  },
  {
   "cell_type": "markdown",
   "metadata": {},
   "source": [
    "- Assign the amount of alcohol Uruguayans drank in other beverages per capita in 1986 to uruguay_other_1986. This is the second row and fifth column."
   ]
  },
  {
   "cell_type": "code",
   "execution_count": 13,
   "metadata": {},
   "outputs": [
    {
     "data": {
      "text/plain": [
       "'0.5'"
      ]
     },
     "execution_count": 13,
     "metadata": {},
     "output_type": "execute_result"
    }
   ],
   "source": [
    "uruguay_other_1986 = world_alcohol[1][4]\n",
    "\n",
    "uruguay_other_1986"
   ]
  },
  {
   "cell_type": "markdown",
   "metadata": {},
   "source": [
    "- Assign the country in the third row to third_country. Country is the third column."
   ]
  },
  {
   "cell_type": "code",
   "execution_count": 14,
   "metadata": {},
   "outputs": [
    {
     "data": {
      "text/plain": [
       "\"Cte d'Ivoire\""
      ]
     },
     "execution_count": 14,
     "metadata": {},
     "output_type": "execute_result"
    }
   ],
   "source": [
    "third_country = world_alcohol[2][2]\n",
    "\n",
    "third_country"
   ]
  },
  {
   "cell_type": "markdown",
   "metadata": {},
   "source": [
    "- Assign the whole third column from world_alcohol to the variable countries."
   ]
  },
  {
   "cell_type": "code",
   "execution_count": 15,
   "metadata": {},
   "outputs": [
    {
     "data": {
      "text/plain": [
       "array(['Viet Nam', 'Uruguay', \"Cte d'Ivoire\", ..., 'Switzerland',\n",
       "       'Papua New Guinea', 'Swaziland'], dtype='<U75')"
      ]
     },
     "execution_count": 15,
     "metadata": {},
     "output_type": "execute_result"
    }
   ],
   "source": [
    "countries = world_alcohol[:,2]\n",
    "countries"
   ]
  },
  {
   "cell_type": "markdown",
   "metadata": {},
   "source": [
    "- Assign the whole fifth column from world_alcohol to the variable alcohol_consumption."
   ]
  },
  {
   "cell_type": "code",
   "execution_count": 16,
   "metadata": {},
   "outputs": [
    {
     "data": {
      "text/plain": [
       "array(['0', '0.5', '1.62', ..., '2.54', '0', '5.15'], dtype='<U75')"
      ]
     },
     "execution_count": 16,
     "metadata": {},
     "output_type": "execute_result"
    }
   ],
   "source": [
    "alcohol_consumption = world_alcohol[:,4]\n",
    "alcohol_consumption"
   ]
  },
  {
   "cell_type": "markdown",
   "metadata": {},
   "source": [
    "- Assign all the rows and the first 2 columns of world_alcohol to first_two_columns."
   ]
  },
  {
   "cell_type": "code",
   "execution_count": 17,
   "metadata": {},
   "outputs": [
    {
     "data": {
      "text/plain": [
       "array([['1986', 'Western Pacific'],\n",
       "       ['1986', 'Americas'],\n",
       "       ['1985', 'Africa'],\n",
       "       ...,\n",
       "       ['1986', 'Europe'],\n",
       "       ['1987', 'Western Pacific'],\n",
       "       ['1986', 'Africa']], dtype='<U75')"
      ]
     },
     "execution_count": 17,
     "metadata": {},
     "output_type": "execute_result"
    }
   ],
   "source": [
    "first_two_columns = world_alcohol[:,:2]\n",
    "first_two_columns"
   ]
  },
  {
   "cell_type": "markdown",
   "metadata": {},
   "source": [
    "- Assign the first 10 rows and the first column of world_alcohol to first_ten_years."
   ]
  },
  {
   "cell_type": "code",
   "execution_count": 18,
   "metadata": {},
   "outputs": [
    {
     "data": {
      "text/plain": [
       "array(['1986', '1986', '1985', '1986', '1987', '1987', '1987', '1985',\n",
       "       '1986', '1984'], dtype='<U75')"
      ]
     },
     "execution_count": 18,
     "metadata": {},
     "output_type": "execute_result"
    }
   ],
   "source": [
    "first_ten_years = world_alcohol[:10,0]\n",
    "first_ten_years"
   ]
  },
  {
   "cell_type": "markdown",
   "metadata": {},
   "source": [
    "- Assign the first 10 rows and all of the columns of world_alcohol to first_ten_rows."
   ]
  },
  {
   "cell_type": "code",
   "execution_count": 19,
   "metadata": {},
   "outputs": [
    {
     "data": {
      "text/plain": [
       "array([['1986', 'Western Pacific', 'Viet Nam', 'Wine', '0'],\n",
       "       ['1986', 'Americas', 'Uruguay', 'Other', '0.5'],\n",
       "       ['1985', 'Africa', \"Cte d'Ivoire\", 'Wine', '1.62'],\n",
       "       ['1986', 'Americas', 'Colombia', 'Beer', '4.27'],\n",
       "       ['1987', 'Americas', 'Saint Kitts and Nevis', 'Beer', '1.98'],\n",
       "       ['1987', 'Americas', 'Guatemala', 'Other', '0'],\n",
       "       ['1987', 'Africa', 'Mauritius', 'Wine', '0.13'],\n",
       "       ['1985', 'Africa', 'Angola', 'Spirits', '0.39'],\n",
       "       ['1986', 'Americas', 'Antigua and Barbuda', 'Spirits', '1.55'],\n",
       "       ['1984', 'Africa', 'Nigeria', 'Other', '6.1']], dtype='<U75')"
      ]
     },
     "execution_count": 19,
     "metadata": {},
     "output_type": "execute_result"
    }
   ],
   "source": [
    "first_ten_rows = world_alcohol[:10,:]\n",
    "first_ten_rows"
   ]
  },
  {
   "cell_type": "markdown",
   "metadata": {},
   "source": [
    "- Assign the first 20 rows of the columns at index 1 and 2 of world_alcohol to first_twenty_regions."
   ]
  },
  {
   "cell_type": "code",
   "execution_count": 20,
   "metadata": {},
   "outputs": [
    {
     "data": {
      "text/plain": [
       "array([['Western Pacific', 'Viet Nam'],\n",
       "       ['Americas', 'Uruguay'],\n",
       "       ['Africa', \"Cte d'Ivoire\"],\n",
       "       ['Americas', 'Colombia'],\n",
       "       ['Americas', 'Saint Kitts and Nevis'],\n",
       "       ['Americas', 'Guatemala'],\n",
       "       ['Africa', 'Mauritius'],\n",
       "       ['Africa', 'Angola'],\n",
       "       ['Americas', 'Antigua and Barbuda'],\n",
       "       ['Africa', 'Nigeria'],\n",
       "       ['Africa', 'Botswana'],\n",
       "       ['Americas', 'Guatemala'],\n",
       "       ['Western Pacific', \"Lao People's Democratic Republic\"],\n",
       "       ['Eastern Mediterranean', 'Afghanistan'],\n",
       "       ['Western Pacific', 'Viet Nam'],\n",
       "       ['Africa', 'Guinea-Bissau'],\n",
       "       ['Americas', 'Costa Rica'],\n",
       "       ['Africa', 'Seychelles'],\n",
       "       ['Europe', 'Norway'],\n",
       "       ['Africa', 'Kenya']], dtype='<U75')"
      ]
     },
     "execution_count": 20,
     "metadata": {},
     "output_type": "execute_result"
    }
   ],
   "source": [
    "first_twenty_regions = world_alcohol[:20,1:3]\n",
    "first_twenty_regions"
   ]
  },
  {
   "cell_type": "markdown",
   "metadata": {},
   "source": [
    "- Extract the third column in world_alcohol, and compare it to the string Canada. Assign the result to countries_canada."
   ]
  },
  {
   "cell_type": "code",
   "execution_count": 21,
   "metadata": {},
   "outputs": [
    {
     "data": {
      "text/plain": [
       "array([False, False, False, ..., False, False, False])"
      ]
     },
     "execution_count": 21,
     "metadata": {},
     "output_type": "execute_result"
    }
   ],
   "source": [
    "countries_canada = world_alcohol[:,2] == \"Canada\"\n",
    "countries_canada"
   ]
  },
  {
   "cell_type": "markdown",
   "metadata": {},
   "source": [
    "- Extract the first column in world_alcohol, and compare it to the string 1984. Assign the result to years_1984."
   ]
  },
  {
   "cell_type": "code",
   "execution_count": 22,
   "metadata": {},
   "outputs": [
    {
     "data": {
      "text/plain": [
       "array([False, False, False, ..., False, False, False])"
      ]
     },
     "execution_count": 22,
     "metadata": {},
     "output_type": "execute_result"
    }
   ],
   "source": [
    "years_1984 = world_alcohol[:,0] == \"1984\"\n",
    "years_1984"
   ]
  },
  {
   "cell_type": "markdown",
   "metadata": {},
   "source": [
    "- Compare the third column of world_alcohol to the string Algeria.\n",
    "- Assign the result to country_is_algeria."
   ]
  },
  {
   "cell_type": "code",
   "execution_count": 23,
   "metadata": {},
   "outputs": [
    {
     "data": {
      "text/plain": [
       "array([False, False, False, ..., False, False, False])"
      ]
     },
     "execution_count": 23,
     "metadata": {},
     "output_type": "execute_result"
    }
   ],
   "source": [
    "country_is_algeria = world_alcohol[:,2] == \"Algeria\"\n",
    "country_is_algeria"
   ]
  },
  {
   "cell_type": "markdown",
   "metadata": {},
   "source": [
    "- Select only the rows in world_alcohol where country_is_algeria is True.\n",
    "- Assign the result to country_algeria."
   ]
  },
  {
   "cell_type": "code",
   "execution_count": 24,
   "metadata": {},
   "outputs": [
    {
     "data": {
      "text/plain": [
       "array([['1984', 'Africa', 'Algeria', 'Spirits', '0.01'],\n",
       "       ['1987', 'Africa', 'Algeria', 'Beer', '0.17'],\n",
       "       ['1987', 'Africa', 'Algeria', 'Spirits', '0.01'],\n",
       "       ['1986', 'Africa', 'Algeria', 'Wine', '0.1'],\n",
       "       ['1984', 'Africa', 'Algeria', 'Other', '0'],\n",
       "       ['1989', 'Africa', 'Algeria', 'Beer', '0.16'],\n",
       "       ['1989', 'Africa', 'Algeria', 'Spirits', '0.01'],\n",
       "       ['1989', 'Africa', 'Algeria', 'Wine', '0.23'],\n",
       "       ['1986', 'Africa', 'Algeria', 'Spirits', '0.01'],\n",
       "       ['1984', 'Africa', 'Algeria', 'Wine', '0.12'],\n",
       "       ['1985', 'Africa', 'Algeria', 'Beer', '0.19'],\n",
       "       ['1985', 'Africa', 'Algeria', 'Other', '0'],\n",
       "       ['1986', 'Africa', 'Algeria', 'Beer', '0.18'],\n",
       "       ['1985', 'Africa', 'Algeria', 'Wine', '0.11'],\n",
       "       ['1986', 'Africa', 'Algeria', 'Other', '0'],\n",
       "       ['1989', 'Africa', 'Algeria', 'Other', '0'],\n",
       "       ['1987', 'Africa', 'Algeria', 'Other', '0'],\n",
       "       ['1984', 'Africa', 'Algeria', 'Beer', '0.2'],\n",
       "       ['1985', 'Africa', 'Algeria', 'Spirits', '0.01'],\n",
       "       ['1987', 'Africa', 'Algeria', 'Wine', '0.1']], dtype='<U75')"
      ]
     },
     "execution_count": 24,
     "metadata": {},
     "output_type": "execute_result"
    }
   ],
   "source": [
    "country_algeria = world_alcohol[country_is_algeria]\n",
    "country_algeria"
   ]
  },
  {
   "cell_type": "markdown",
   "metadata": {},
   "source": [
    "- Perform a comparison with multiple conditions, and join the conditions with &.\n",
    "    - Compare the first column of world_alcohol to the string 1986.\n",
    "    - Compare the third column of world_alcohol to the string Algeria.\n",
    "    - Enclose each condition in parentheses, and join the conditions with &.\n",
    "    - Assign the result to is_algeria_and_1986."
   ]
  },
  {
   "cell_type": "code",
   "execution_count": 25,
   "metadata": {},
   "outputs": [
    {
     "data": {
      "text/plain": [
       "array([False, False, False, ..., False, False, False])"
      ]
     },
     "execution_count": 25,
     "metadata": {},
     "output_type": "execute_result"
    }
   ],
   "source": [
    "is_algeria_and_1986 = (world_alcohol[:,0] == \"1986\") & (world_alcohol[:,2] == \"Algeria\")\n",
    "is_algeria_and_1986"
   ]
  },
  {
   "cell_type": "markdown",
   "metadata": {},
   "source": [
    "- Use is_algeria_and_1986 to select rows from world_alcohol.\n",
    "- Assign the rows that is_algeria_and_1986 selects to rows_with_algeria_and_1986."
   ]
  },
  {
   "cell_type": "code",
   "execution_count": 26,
   "metadata": {},
   "outputs": [
    {
     "data": {
      "text/plain": [
       "array([['1986', 'Africa', 'Algeria', 'Wine', '0.1'],\n",
       "       ['1986', 'Africa', 'Algeria', 'Spirits', '0.01'],\n",
       "       ['1986', 'Africa', 'Algeria', 'Beer', '0.18'],\n",
       "       ['1986', 'Africa', 'Algeria', 'Other', '0']], dtype='<U75')"
      ]
     },
     "execution_count": 26,
     "metadata": {},
     "output_type": "execute_result"
    }
   ],
   "source": [
    "rows_with_algeria_and_1986 = world_alcohol[is_algeria_and_1986]\n",
    "rows_with_algeria_and_1986"
   ]
  },
  {
   "cell_type": "markdown",
   "metadata": {},
   "source": [
    "- Replace all instances of the string 1986 in the first column of world_alcohol with the string 2014."
   ]
  },
  {
   "cell_type": "code",
   "execution_count": 27,
   "metadata": {},
   "outputs": [
    {
     "data": {
      "text/plain": [
       "array([['2014', 'Western Pacific', 'Viet Nam', 'Wine', '0'],\n",
       "       ['2014', 'Americas', 'Uruguay', 'Other', '0.5'],\n",
       "       ['1985', 'Africa', \"Cte d'Ivoire\", 'Wine', '1.62'],\n",
       "       ...,\n",
       "       ['2014', 'Europe', 'Switzerland', 'Spirits', '2.54'],\n",
       "       ['1987', 'Western Pacific', 'Papua New Guinea', 'Other', '0'],\n",
       "       ['2014', 'Africa', 'Swaziland', 'Other', '5.15']], dtype='<U75')"
      ]
     },
     "execution_count": 27,
     "metadata": {},
     "output_type": "execute_result"
    }
   ],
   "source": [
    "first_column_1986 = world_alcohol[:,0] == \"1986\"\n",
    "world_alcohol[first_column_1986,0] = \"2014\"\n",
    "world_alcohol"
   ]
  },
  {
   "cell_type": "markdown",
   "metadata": {},
   "source": [
    "- Replace all instances of the string Wine in the fourth column of world_alcohol with the string Grog."
   ]
  },
  {
   "cell_type": "code",
   "execution_count": 28,
   "metadata": {},
   "outputs": [
    {
     "data": {
      "text/plain": [
       "array([['2014', 'Western Pacific', 'Viet Nam', 'Grog', '0'],\n",
       "       ['2014', 'Americas', 'Uruguay', 'Other', '0.5'],\n",
       "       ['1985', 'Africa', \"Cte d'Ivoire\", 'Grog', '1.62'],\n",
       "       ...,\n",
       "       ['2014', 'Europe', 'Switzerland', 'Spirits', '2.54'],\n",
       "       ['1987', 'Western Pacific', 'Papua New Guinea', 'Other', '0'],\n",
       "       ['2014', 'Africa', 'Swaziland', 'Other', '5.15']], dtype='<U75')"
      ]
     },
     "execution_count": 28,
     "metadata": {},
     "output_type": "execute_result"
    }
   ],
   "source": [
    "fourth_column_wine = world_alcohol[:,3] == \"Wine\"\n",
    "world_alcohol[fourth_column_wine,3] = \"Grog\"\n",
    "world_alcohol"
   ]
  },
  {
   "cell_type": "markdown",
   "metadata": {},
   "source": [
    "- Compare all the items in the fifth column of world_alcohol with an empty string ''. Assign the result to is_value_empty."
   ]
  },
  {
   "cell_type": "code",
   "execution_count": 29,
   "metadata": {},
   "outputs": [],
   "source": [
    "world_alcohol = np.genfromtxt(\"world_alcohol.csv\", delimiter = \",\", dtype = \"U75\", skip_header = 1)"
   ]
  },
  {
   "cell_type": "code",
   "execution_count": 30,
   "metadata": {},
   "outputs": [
    {
     "data": {
      "text/plain": [
       "array([False, False, False, ..., False, False, False])"
      ]
     },
     "execution_count": 30,
     "metadata": {},
     "output_type": "execute_result"
    }
   ],
   "source": [
    "is_value_empty = world_alcohol[:, 4] == \"\"\n",
    "is_value_empty"
   ]
  },
  {
   "cell_type": "markdown",
   "metadata": {},
   "source": [
    "- Select all the values in the fifth column of world_alcohol where is_value_empty is True, and replace them with the string 0."
   ]
  },
  {
   "cell_type": "code",
   "execution_count": 31,
   "metadata": {},
   "outputs": [
    {
     "data": {
      "text/plain": [
       "array([['1986', 'Western Pacific', 'Viet Nam', 'Wine', '0'],\n",
       "       ['1986', 'Americas', 'Uruguay', 'Other', '0.5'],\n",
       "       ['1985', 'Africa', \"Cte d'Ivoire\", 'Wine', '1.62'],\n",
       "       ...,\n",
       "       ['1986', 'Europe', 'Switzerland', 'Spirits', '2.54'],\n",
       "       ['1987', 'Western Pacific', 'Papua New Guinea', 'Other', '0'],\n",
       "       ['1986', 'Africa', 'Swaziland', 'Other', '5.15']], dtype='<U75')"
      ]
     },
     "execution_count": 31,
     "metadata": {},
     "output_type": "execute_result"
    }
   ],
   "source": [
    "world_alcohol[is_value_empty, 4] = \"0\"\n",
    "world_alcohol"
   ]
  },
  {
   "cell_type": "markdown",
   "metadata": {},
   "source": [
    "- Extract the fifth column from world_alcohol, and assign it to the variable alcohol_consumption."
   ]
  },
  {
   "cell_type": "code",
   "execution_count": 32,
   "metadata": {},
   "outputs": [
    {
     "data": {
      "text/plain": [
       "array(['0', '0.5', '1.62', ..., '2.54', '0', '5.15'], dtype='<U75')"
      ]
     },
     "execution_count": 32,
     "metadata": {},
     "output_type": "execute_result"
    }
   ],
   "source": [
    "alcohol_consumption = world_alcohol[:,4]\n",
    "alcohol_consumption"
   ]
  },
  {
   "cell_type": "markdown",
   "metadata": {},
   "source": [
    "- Use the astype() method to convert alcohol_consumption to the float data type."
   ]
  },
  {
   "cell_type": "code",
   "execution_count": 33,
   "metadata": {},
   "outputs": [
    {
     "data": {
      "text/plain": [
       "dtype('float64')"
      ]
     },
     "execution_count": 33,
     "metadata": {},
     "output_type": "execute_result"
    }
   ],
   "source": [
    "alcohol_consumption = alcohol_consumption.astype(float)\n",
    "alcohol_consumption.dtype"
   ]
  },
  {
   "cell_type": "markdown",
   "metadata": {},
   "source": [
    "- Use the sum() method to calculate the sum of the values in alcohol_consumption. Assign the result to total_alcohol."
   ]
  },
  {
   "cell_type": "code",
   "execution_count": 34,
   "metadata": {},
   "outputs": [
    {
     "data": {
      "text/plain": [
       "3908.96"
      ]
     },
     "execution_count": 34,
     "metadata": {},
     "output_type": "execute_result"
    }
   ],
   "source": [
    "total_alcohol = alcohol_consumption.sum()\n",
    "total_alcohol"
   ]
  },
  {
   "cell_type": "markdown",
   "metadata": {},
   "source": [
    "- Use the mean() method to calculate the average of the values in alcohol_consumption. Assign the result to average_alcohol."
   ]
  },
  {
   "cell_type": "code",
   "execution_count": 35,
   "metadata": {},
   "outputs": [
    {
     "data": {
      "text/plain": [
       "1.2001719373656738"
      ]
     },
     "execution_count": 35,
     "metadata": {},
     "output_type": "execute_result"
    }
   ],
   "source": [
    "average_alcohol = alcohol_consumption.mean()\n",
    "average_alcohol"
   ]
  },
  {
   "cell_type": "markdown",
   "metadata": {},
   "source": [
    "- Create a matrix called canada_1986 that only contains the rows in world_alcohol where the first column is the string 1986 and the third column is the string Canada."
   ]
  },
  {
   "cell_type": "code",
   "execution_count": 36,
   "metadata": {},
   "outputs": [
    {
     "data": {
      "text/plain": [
       "array([['1986', 'Americas', 'Canada', 'Other', '0'],\n",
       "       ['1986', 'Americas', 'Canada', 'Spirits', '3.11'],\n",
       "       ['1986', 'Americas', 'Canada', 'Beer', '4.87'],\n",
       "       ['1986', 'Americas', 'Canada', 'Wine', '1.33']], dtype='<U75')"
      ]
     },
     "execution_count": 36,
     "metadata": {},
     "output_type": "execute_result"
    }
   ],
   "source": [
    "canada_1986 = world_alcohol[(world_alcohol[:,0] == \"1986\") & (world_alcohol[:,2] == \"Canada\")]\n",
    "canada_1986"
   ]
  },
  {
   "cell_type": "markdown",
   "metadata": {},
   "source": [
    "- Extract the fifth column of canada_1986, replace any empty strings ('') with the string 0, and convert the column to the float data type. Assign the result to canada_alcohol."
   ]
  },
  {
   "cell_type": "code",
   "execution_count": 37,
   "metadata": {},
   "outputs": [
    {
     "data": {
      "text/plain": [
       "array([0.  , 3.11, 4.87, 1.33])"
      ]
     },
     "execution_count": 37,
     "metadata": {},
     "output_type": "execute_result"
    }
   ],
   "source": [
    "canada_alcohol = canada_1986[:,4]\n",
    "empty_strings = canada_alcohol == \"\"\n",
    "canada_alcohol[empty_strings] = \"0\"\n",
    "canada_alcohol = canada_alcohol.astype(float)\n",
    "canada_alcohol"
   ]
  },
  {
   "cell_type": "markdown",
   "metadata": {},
   "source": [
    "- Compute the sum of canada_alcohol. Assign the result to total_canadian_drinking."
   ]
  },
  {
   "cell_type": "code",
   "execution_count": 39,
   "metadata": {},
   "outputs": [
    {
     "data": {
      "text/plain": [
       "9.31"
      ]
     },
     "execution_count": 39,
     "metadata": {},
     "output_type": "execute_result"
    }
   ],
   "source": [
    "total_canadian_drinking = canada_alcohol.sum()\n",
    "total_canadian_drinking"
   ]
  },
  {
   "cell_type": "code",
   "execution_count": 42,
   "metadata": {},
   "outputs": [
    {
     "data": {
      "text/plain": [
       "['Viet Nam',\n",
       " 'Uruguay',\n",
       " \"Cte d'Ivoire\",\n",
       " 'Colombia',\n",
       " 'Saint Kitts and Nevis',\n",
       " 'Guatemala',\n",
       " 'Mauritius',\n",
       " 'Angola',\n",
       " 'Antigua and Barbuda',\n",
       " 'Nigeria',\n",
       " 'Botswana',\n",
       " \"Lao People's Democratic Republic\",\n",
       " 'Afghanistan',\n",
       " 'Guinea-Bissau',\n",
       " 'Costa Rica',\n",
       " 'Seychelles',\n",
       " 'Norway',\n",
       " 'Kenya',\n",
       " 'Myanmar',\n",
       " 'Romania',\n",
       " 'Turkey',\n",
       " 'Comoros',\n",
       " 'Tunisia',\n",
       " 'United Kingdom of Great Britain and Northern Ireland',\n",
       " 'Bahrain',\n",
       " 'Italy',\n",
       " 'Sierra Leone',\n",
       " 'Micronesia (Federated States of)',\n",
       " 'Mauritania',\n",
       " 'Russian Federation',\n",
       " 'Egypt',\n",
       " 'Sweden',\n",
       " 'Qatar',\n",
       " 'Burkina Faso',\n",
       " 'Austria',\n",
       " 'Czech Republic',\n",
       " 'Ukraine',\n",
       " 'China',\n",
       " 'Lithuania',\n",
       " 'Zimbabwe',\n",
       " 'Trinidad and Tobago',\n",
       " 'Mexico',\n",
       " 'Nicaragua',\n",
       " 'Malta',\n",
       " 'Switzerland',\n",
       " 'Finland',\n",
       " 'Saudi Arabia',\n",
       " 'Kuwait',\n",
       " 'El Salvador',\n",
       " 'Suriname',\n",
       " 'Croatia',\n",
       " 'Somalia',\n",
       " 'Syrian Arab Republic',\n",
       " 'Iran (Islamic Republic of)',\n",
       " 'Papua New Guinea',\n",
       " 'Libya',\n",
       " 'Bolivia (Plurinational State of)',\n",
       " 'Iraq',\n",
       " 'Namibia',\n",
       " 'Uganda',\n",
       " 'Togo',\n",
       " 'Madagascar',\n",
       " 'Mali',\n",
       " 'Pakistan',\n",
       " 'Cameroon',\n",
       " 'Jamaica',\n",
       " 'Malawi',\n",
       " 'Netherlands',\n",
       " 'Ireland',\n",
       " 'Sri Lanka',\n",
       " 'Democratic Republic of the Congo',\n",
       " 'Bahamas',\n",
       " 'Lebanon',\n",
       " 'Bulgaria',\n",
       " 'Eritrea',\n",
       " 'Niger',\n",
       " 'Luxembourg',\n",
       " 'Indonesia',\n",
       " 'Equatorial Guinea',\n",
       " \"Democratic People's Republic of Korea\",\n",
       " 'Chile',\n",
       " 'Central African Republic',\n",
       " 'Spain',\n",
       " 'Gambia',\n",
       " 'Ghana',\n",
       " 'Brazil',\n",
       " 'Portugal',\n",
       " 'Burundi',\n",
       " 'Belgium',\n",
       " 'Paraguay',\n",
       " 'Hungary',\n",
       " 'Greece',\n",
       " 'India',\n",
       " 'Kyrgyzstan',\n",
       " 'France',\n",
       " 'Zambia',\n",
       " 'Israel',\n",
       " 'Swaziland',\n",
       " 'Canada',\n",
       " 'Cambodia',\n",
       " 'Cabo Verde',\n",
       " 'United Arab Emirates',\n",
       " 'Peru',\n",
       " 'Solomon Islands',\n",
       " 'United Republic of Tanzania',\n",
       " 'Chad',\n",
       " 'Cuba',\n",
       " 'Guyana',\n",
       " 'Mongolia',\n",
       " 'Australia',\n",
       " 'Sao Tome and Principe',\n",
       " 'Slovenia',\n",
       " 'Benin',\n",
       " 'Algeria',\n",
       " 'Venezuela (Bolivarian Republic of)',\n",
       " 'Ecuador',\n",
       " 'Iceland',\n",
       " 'Liberia',\n",
       " 'Yemen',\n",
       " 'Sudan',\n",
       " 'Belarus',\n",
       " 'Cyprus',\n",
       " 'United States of America',\n",
       " 'Vanuatu',\n",
       " 'Bangladesh',\n",
       " 'Philippines',\n",
       " 'Slovakia',\n",
       " 'Poland',\n",
       " 'Senegal',\n",
       " 'Honduras',\n",
       " 'Bhutan',\n",
       " 'Fiji',\n",
       " 'Belize',\n",
       " 'Lesotho',\n",
       " 'Singapore',\n",
       " 'Guinea',\n",
       " 'Brunei Darussalam',\n",
       " 'Congo',\n",
       " 'Thailand',\n",
       " 'Djibouti',\n",
       " 'Gabon',\n",
       " 'Dominican Republic',\n",
       " 'Morocco',\n",
       " 'New Zealand',\n",
       " 'Denmark',\n",
       " 'Samoa',\n",
       " 'Argentina',\n",
       " 'Oman',\n",
       " 'Kiribati',\n",
       " 'Albania',\n",
       " 'Nepal',\n",
       " 'Malaysia',\n",
       " 'Latvia',\n",
       " 'Haiti',\n",
       " 'South Africa',\n",
       " 'Republic of Korea',\n",
       " 'Japan',\n",
       " 'Mozambique',\n",
       " 'Ethiopia',\n",
       " 'Panama',\n",
       " 'Germany',\n",
       " 'Saint Lucia',\n",
       " 'Rwanda',\n",
       " 'Jordan']"
      ]
     },
     "execution_count": 42,
     "metadata": {},
     "output_type": "execute_result"
    }
   ],
   "source": [
    "countries = list()\n",
    "for country in world_alcohol[:,2]:\n",
    "    if country not in countries:\n",
    "        countries.append(country)\n",
    "        \n",
    "countries"
   ]
  },
  {
   "cell_type": "markdown",
   "metadata": {},
   "source": [
    "- Find the total consumption for each country in countries for the year 1989."
   ]
  },
  {
   "cell_type": "code",
   "execution_count": 44,
   "metadata": {},
   "outputs": [
    {
     "data": {
      "text/plain": [
       "{'Viet Nam': 0.16,\n",
       " 'Uruguay': 7.4399999999999995,\n",
       " \"Cte d'Ivoire\": 2.2,\n",
       " 'Colombia': 6.960000000000001,\n",
       " 'Saint Kitts and Nevis': 4.65,\n",
       " 'Guatemala': 2.47,\n",
       " 'Mauritius': 3.54,\n",
       " 'Angola': 2.28,\n",
       " 'Antigua and Barbuda': 4.69,\n",
       " 'Nigeria': 6.74,\n",
       " 'Botswana': 4.63,\n",
       " \"Lao People's Democratic Republic\": 5.95,\n",
       " 'Afghanistan': 0.0,\n",
       " 'Guinea-Bissau': 2.67,\n",
       " 'Costa Rica': 5.3999999999999995,\n",
       " 'Seychelles': 3.3000000000000003,\n",
       " 'Norway': 5.08,\n",
       " 'Kenya': 2.82,\n",
       " 'Myanmar': 0.16,\n",
       " 'Romania': 8.41,\n",
       " 'Turkey': 0.72,\n",
       " 'Comoros': 0.10999999999999999,\n",
       " 'Tunisia': 0.95,\n",
       " 'United Kingdom of Great Britain and Northern Ireland': 9.99,\n",
       " 'Bahrain': 4.89,\n",
       " 'Italy': 10.899999999999999,\n",
       " 'Sierra Leone': 4.380000000000001,\n",
       " 'Micronesia (Federated States of)': 0.0,\n",
       " 'Mauritania': 0.02,\n",
       " 'Russian Federation': 5.35,\n",
       " 'Egypt': 0.42000000000000004,\n",
       " 'Sweden': 7.47,\n",
       " 'Qatar': 1.4500000000000002,\n",
       " 'Burkina Faso': 3.99,\n",
       " 'Austria': 13.9,\n",
       " 'Czech Republic': 13.009999999999998,\n",
       " 'Ukraine': 5.32,\n",
       " 'China': 3.33,\n",
       " 'Lithuania': 0.0,\n",
       " 'Zimbabwe': 4.92,\n",
       " 'Trinidad and Tobago': 4.68,\n",
       " 'Mexico': 5.1,\n",
       " 'Nicaragua': 2.5,\n",
       " 'Malta': 7.13,\n",
       " 'Switzerland': 13.849999999999998,\n",
       " 'Finland': 9.419999999999998,\n",
       " 'Saudi Arabia': 0.15,\n",
       " 'Kuwait': 0.0,\n",
       " 'El Salvador': 1.77,\n",
       " 'Suriname': 3.67,\n",
       " 'Croatia': 10.92,\n",
       " 'Somalia': 0.0,\n",
       " 'Syrian Arab Republic': 0.54,\n",
       " 'Iran (Islamic Republic of)': 0.0,\n",
       " 'Papua New Guinea': 1.1099999999999999,\n",
       " 'Libya': 0.0,\n",
       " 'Bolivia (Plurinational State of)': 3.05,\n",
       " 'Iraq': 0.75,\n",
       " 'Namibia': 0.24,\n",
       " 'Uganda': 7.8,\n",
       " 'Togo': 2.2199999999999998,\n",
       " 'Madagascar': 1.38,\n",
       " 'Mali': 0.6699999999999999,\n",
       " 'Pakistan': 0.02,\n",
       " 'Cameroon': 6.359999999999999,\n",
       " 'Jamaica': 3.03,\n",
       " 'Malawi': 1.02,\n",
       " 'Netherlands': 10.030000000000001,\n",
       " 'Ireland': 11.79,\n",
       " 'Sri Lanka': 0.14,\n",
       " 'Democratic Republic of the Congo': 1.92,\n",
       " 'Bahamas': 12.290000000000001,\n",
       " 'Lebanon': 3.94,\n",
       " 'Bulgaria': 11.43,\n",
       " 'Eritrea': 0.29,\n",
       " 'Niger': 0.11,\n",
       " 'Luxembourg': 15.21,\n",
       " 'Indonesia': 0.07,\n",
       " 'Equatorial Guinea': 6.49,\n",
       " \"Democratic People's Republic of Korea\": 3.6799999999999997,\n",
       " 'Chile': 8.649999999999999,\n",
       " 'Central African Republic': 2.5199999999999996,\n",
       " 'Spain': 13.280000000000001,\n",
       " 'Gambia': 1.6300000000000001,\n",
       " 'Ghana': 1.8599999999999999,\n",
       " 'Brazil': 5.52,\n",
       " 'Portugal': 15.350000000000001,\n",
       " 'Burundi': 8.159999999999998,\n",
       " 'Belgium': 11.61,\n",
       " 'Paraguay': 6.51,\n",
       " 'Hungary': 16.29,\n",
       " 'Greece': 10.15,\n",
       " 'India': 1.66,\n",
       " 'Kyrgyzstan': 4.279999999999999,\n",
       " 'France': 16.05,\n",
       " 'Zambia': 3.37,\n",
       " 'Israel': 2.0300000000000002,\n",
       " 'Swaziland': 6.68,\n",
       " 'Canada': 9.0,\n",
       " 'Cambodia': 0.33,\n",
       " 'Cabo Verde': 2.79,\n",
       " 'United Arab Emirates': 4.43,\n",
       " 'Peru': 4.99,\n",
       " 'Solomon Islands': 0.5800000000000001,\n",
       " 'United Republic of Tanzania': 5.9,\n",
       " 'Chad': 0.30000000000000004,\n",
       " 'Cuba': 4.37,\n",
       " 'Guyana': 9.940000000000001,\n",
       " 'Mongolia': 2.59,\n",
       " 'Australia': 12.09,\n",
       " 'Sao Tome and Principe': 2.57,\n",
       " 'Slovenia': 12.969999999999999,\n",
       " 'Benin': 1.3800000000000001,\n",
       " 'Algeria': 0.4,\n",
       " 'Venezuela (Bolivarian Republic of)': 7.87,\n",
       " 'Ecuador': 2.54,\n",
       " 'Iceland': 5.359999999999999,\n",
       " 'Liberia': 5.61,\n",
       " 'Yemen': 0.2,\n",
       " 'Sudan': 0.15,\n",
       " 'Belarus': 7.9799999999999995,\n",
       " 'Cyprus': 9.29,\n",
       " 'United States of America': 9.16,\n",
       " 'Vanuatu': 1.74,\n",
       " 'Bangladesh': 0.0,\n",
       " 'Philippines': 3.78,\n",
       " 'Slovakia': 12.700000000000001,\n",
       " 'Poland': 9.33,\n",
       " 'Senegal': 0.6100000000000001,\n",
       " 'Honduras': 2.15,\n",
       " 'Bhutan': 0.31,\n",
       " 'Fiji': 1.9600000000000002,\n",
       " 'Belize': 0.0,\n",
       " 'Lesotho': 2.02,\n",
       " 'Singapore': 1.61,\n",
       " 'Guinea': 0.21,\n",
       " 'Brunei Darussalam': 2.7800000000000002,\n",
       " 'Congo': 3.1500000000000004,\n",
       " 'Thailand': 3.92,\n",
       " 'Djibouti': 0.87,\n",
       " 'Gabon': 9.34,\n",
       " 'Dominican Republic': 4.53,\n",
       " 'Morocco': 0.7,\n",
       " 'New Zealand': 11.52,\n",
       " 'Denmark': 11.649999999999999,\n",
       " 'Samoa': 2.63,\n",
       " 'Argentina': 10.82,\n",
       " 'Oman': 1.03,\n",
       " 'Kiribati': 0.48,\n",
       " 'Albania': 1.73,\n",
       " 'Nepal': 0.03,\n",
       " 'Malaysia': 0.68,\n",
       " 'Latvia': 7.039999999999999,\n",
       " 'Haiti': 5.81,\n",
       " 'South Africa': 9.21,\n",
       " 'Republic of Korea': 9.620000000000001,\n",
       " 'Japan': 7.74,\n",
       " 'Mozambique': 0.39,\n",
       " 'Ethiopia': 0.8600000000000001,\n",
       " 'Panama': 4.6000000000000005,\n",
       " 'Germany': 14.64,\n",
       " 'Saint Lucia': 11.62,\n",
       " 'Rwanda': 7.549999999999999,\n",
       " 'Jordan': 0.19}"
      ]
     },
     "execution_count": 44,
     "metadata": {},
     "output_type": "execute_result"
    }
   ],
   "source": [
    "totals = {}\n",
    "year = world_alcohol[world_alcohol[:,0] == \"1989\"]\n",
    "\n",
    "for country in countries:\n",
    "    country_consumption = year[year[:,2] == country]\n",
    "    alcohol_column = country_consumption[:,4]\n",
    "    alcohol_column[alcohol_column == \"\"] = \"0\"\n",
    "    alcohol_column = alcohol_column.astype(float)\n",
    "    totals[country] = alcohol_column.sum()\n",
    "    \n",
    "totals"
   ]
  },
  {
   "cell_type": "markdown",
   "metadata": {},
   "source": [
    "- Find the country with the highest total alcohol consumption."
   ]
  },
  {
   "cell_type": "code",
   "execution_count": 47,
   "metadata": {},
   "outputs": [
    {
     "data": {
      "text/plain": [
       "'Hungary'"
      ]
     },
     "execution_count": 47,
     "metadata": {},
     "output_type": "execute_result"
    }
   ],
   "source": [
    "highest_value = 0\n",
    "highest_key = None\n",
    "\n",
    "for country in totals.keys():\n",
    "    if totals[country] > highest_value:\n",
    "        highest_value = totals[country]\n",
    "        highest_key = country\n",
    "        \n",
    "highest_key"
   ]
  }
 ],
 "metadata": {
  "kernelspec": {
   "display_name": "Python 3",
   "language": "python",
   "name": "python3"
  },
  "language_info": {
   "codemirror_mode": {
    "name": "ipython",
    "version": 3
   },
   "file_extension": ".py",
   "mimetype": "text/x-python",
   "name": "python",
   "nbconvert_exporter": "python",
   "pygments_lexer": "ipython3",
   "version": "3.6.5"
  }
 },
 "nbformat": 4,
 "nbformat_minor": 2
}
